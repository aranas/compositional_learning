{
 "cells": [
  {
   "cell_type": "code",
   "execution_count": 9,
   "id": "f3c1245d",
   "metadata": {},
   "outputs": [],
   "source": [
    "import itertools\n",
    "import copy\n",
    "import numpy as np\n",
    "import matplotlib.pyplot as plt\n",
    "import torch\n",
    "from torch.utils.data import Dataset, DataLoader, random_split\n",
    "import torch.nn as nn\n",
    "import pickle\n",
    "import random\n",
    "from sklearn.model_selection import train_test_split\n",
    "import time\n",
    "from joblib import Parallel, delayed\n",
    "import pandas as pd\n",
    "import sys\n",
    "import os\n",
    "import seaborn as sns \n",
    "from sklearn.metrics import r2_score\n",
    "import math\n",
    "import matplotlib as mpl\n",
    "\n",
    "from cryptic_rnn import *"
   ]
  },
  {
   "cell_type": "markdown",
   "id": "f0f1c75e",
   "metadata": {},
   "source": [
    "# Functions"
   ]
  },
  {
   "cell_type": "markdown",
   "id": "943fd65d",
   "metadata": {},
   "source": [
    "# RNN setup"
   ]
  },
  {
   "cell_type": "code",
   "execution_count": 15,
   "id": "74e5b76e",
   "metadata": {},
   "outputs": [],
   "source": [
    "## running function\n",
    "def get_reps(model, testdata, hidden_size):\n",
    "    model.eval()\n",
    "    trials = []\n",
    "    hiddens = []\n",
    "    for testset in testdata:\n",
    "        for x,y in testset:\n",
    "            for i in range(len(x)):\n",
    "                hidden_arr = np.empty((0,  hidden_size))\n",
    "                hidden = torch.zeros(1, hidden_size)[0]\n",
    "                for step in x[i]:\n",
    "                    hidden, y_hat = model.get_activations(step,hidden)\n",
    "                    hidden_arr = np.vstack([hidden_arr, hidden.detach().numpy()])\n",
    "            hiddens.append(hidden_arr)\n",
    "            trials.append(str(onehot2seq(x)))\n",
    "\n",
    "    return hiddens, trials \n",
    "\n",
    "def fully_trained_rnns(res):\n",
    "\n",
    "    tests = [r['test'] for r in res]\n",
    "    cue_dicts = [r['cue_dict'] for r in res]\n",
    "    acc_train = np.array([r['acc'][:,0] for r in res]).T\n",
    "    acc_test = np.array([r['acc'][:,1] for r in res]).T\n",
    "    mods = [r['mod'] for r in res]\n",
    "    acc_train_p = np.array([r['acc_p'][:,0] for r in res]).T\n",
    "    acc_test_p = np.array([r['acc_p'][:,1] for r in res]).T\n",
    "    mods_p = [r['mod_p'] for r in res]\n",
    "   \n",
    "    final_accs = pd.DataFrame({'train_acc': acc_train[-1,:], 'test_acc': acc_test[-1,:]}) \n",
    "    fully_trained = final_accs[final_accs['train_acc'] == 1]\n",
    "    ft_test_acc = fully_trained.test_acc\n",
    "    fully_trained_idx = fully_trained.index\n",
    "    \n",
    "    final_accs = pd.DataFrame({'train_acc': acc_train_p[-1,:], 'test_acc_p': acc_test_p[-1,:]}) \n",
    "    fully_trained = final_accs[final_accs['train_acc'] == 1]\n",
    "    ft_test_acc_p = fully_trained.test_acc_p\n",
    "    fully_trained_idx_p = fully_trained.index\n",
    "    \n",
    "    ft_idx = list(fully_trained_idx_p.intersection(fully_trained_idx))\n",
    "    \n",
    "    ft_cue_dicts = [cue_dicts[i] for i in ft_idx]\n",
    "    ft_tests = [tests[i] for i in ft_idx]\n",
    "    ft_mods = [mods[i] for i in ft_idx]\n",
    "    ft_mods_p = [mods_p[i] for i in ft_idx]\n",
    "    \n",
    "    return ft_mods, ft_mods_p, ft_tests, ft_cue_dicts, ft_test_acc, ft_test_acc_p \n",
    "    \n",
    "\n",
    "def run_exp(trainseqs_old ,trainseqs_old_p, testseqs_old, cue_dict):\n",
    "\n",
    "    all_syms = list(cue_dict.keys())\n",
    "    all_input_vals = list(np.arange(2,18))\n",
    "    input_vals = random.sample(all_input_vals,num_inputs)\n",
    "    input_vals.sort() # sort values (so A is smallest)\n",
    "    # randomly select values for each input\n",
    "    for i, s in enumerate(all_syms):\n",
    "        cue_dict[s] = input_vals[i]\n",
    "    \n",
    "    # load data for primitive training\n",
    "    trainseqs = change_dict(trainseqs_old_p, cue_dict)\n",
    "    train_inputs = convert_seq2inputs(trainseqs, num_classes=num_classes, seq_len=5)\n",
    "    trainset_p = DataLoader(train_inputs, batch_size=batchsize, shuffle=True)\n",
    "    \n",
    "    trainseqs = change_dict(trainseqs_old, cue_dict)\n",
    "    train_inputs = convert_seq2inputs(trainseqs, num_classes=num_classes, seq_len=5)\n",
    "    trainset = DataLoader(train_inputs, batch_size=batchsize, shuffle=True)\n",
    "    \n",
    "    testseqs = change_dict(testseqs_old, cue_dict)\n",
    "    test_inputs = convert_seq2inputs(testseqs, num_classes=num_classes, seq_len=5)\n",
    "    testset = DataLoader(test_inputs, batch_size=batchsize, shuffle=True)\n",
    "\n",
    "    # run primitive training RNN\n",
    "    model = OneStepRNN(input_size, output_size, hidden_size, num_layers, xavier_gain)\n",
    "    model_p = copy.deepcopy(model)\n",
    "    criterion = nn.MSELoss()\n",
    "    optimizer = torch.optim.Adam(model.parameters(), lr=learningRate)\n",
    "    loss1, acc1 = run_acc(model,optimizer,criterion, trainset, [trainset, testset], epochs, hidden_size)\n",
    "    \n",
    "    optimizer = torch.optim.Adam(model_p.parameters(), lr=learningRate)\n",
    "    loss2, acc2 = run_acc(model_p,optimizer,criterion, trainset_p, [trainset_p, testset], epochs, hidden_size)\n",
    "    \n",
    "    return {'cue_dict':cue_dict, 'loss':loss1, 'acc':acc1, 'mod': model, 'test': testset,\n",
    "           'loss_p':loss2, 'acc_p':acc2, 'mod_p': model_p}\n",
    "\n",
    "def run_plot(trainseqs, trainseqs_p, testseqs, cue_dict):\n",
    "    t1 = time.time()\n",
    "    res  = Parallel(n_jobs = -1)(delayed(run_exp)(trainseqs, trainseqs_p, testseqs, cue_dict) for i in range(num_sims))\n",
    "    t2 = time.time()\n",
    "    print('run time: ', (t2-t1)/60)\n",
    "\n",
    "    tests = [r['test'] for r in res]\n",
    "    cue_dicts = [r['cue_dict'] for r in res]\n",
    "    losses = np.hstack([r['loss'] for r in res])\n",
    "    acc_train = np.array([r['acc'][:,0] for r in res]).T\n",
    "    acc_test = np.array([r['acc'][:,1] for r in res]).T\n",
    "    mods = [r['mod'] for r in res]\n",
    "    losses_p = np.hstack([r['loss_p'] for r in res])\n",
    "    acc_train_p = np.array([r['acc_p'][:,0] for r in res]).T\n",
    "    acc_test_p = np.array([r['acc_p'][:,1] for r in res]).T\n",
    "    mods_p = [r['mod_p'] for r in res]\n",
    "    \n",
    "    plotNNs([losses], [acc_train, acc_test], \\\n",
    "            ['train', 'test'], colors = ['green', 'orange'], title = 'no pretraining', shift = 0)\n",
    "    plotNNs([losses_p], [acc_train_p, acc_test_p], \\\n",
    "            ['train', 'test'], colors = ['green', 'orange'], title = 'with pretraining', shift = 0)\n",
    "    \n",
    "    acc_df = pd.DataFrame({'acc_train': acc_train[-1,:], 'acc_train_p': acc_train_p[-1,:],\\\n",
    "            'acc_test': acc_test[-1,:], 'acc_test_p': acc_test_p[-1,:]})\n",
    "    \n",
    "    return {'res':res, 'mods':mods, 'mods_p':mods_p, 'tests': tests, 'cue_dicts': cue_dicts, 'acc_df':acc_df }\n"
   ]
  },
  {
   "cell_type": "code",
   "execution_count": 16,
   "id": "ef2d03e8",
   "metadata": {},
   "outputs": [],
   "source": [
    "# data\n",
    "num_classes = 22\n",
    "batchsize=1\n",
    "\n",
    "# RNN specs\n",
    "input_size = num_classes\n",
    "output_size = 1\n",
    "num_layers = 1\n",
    "hidden_size = 20\n",
    "learningRate = 0.005\n",
    "\n",
    "## running params\n",
    "epochs = 12\n",
    "num_sims = 8\n",
    "\n",
    "# \n",
    "xavier_gain = 0.001"
   ]
  },
  {
   "cell_type": "markdown",
   "id": "a1bcb37b",
   "metadata": {},
   "source": [
    "# Experiments\n",
    "\n",
    "Final accuracy against ratio of other/self\n",
    "\n"
   ]
  },
  {
   "cell_type": "code",
   "execution_count": 17,
   "id": "2c80ed3e",
   "metadata": {},
   "outputs": [
    {
     "name": "stdout",
     "output_type": "stream",
     "text": [
      "{'A': 9, 'B': 12, 'C': 5, 'D': 14}\n",
      "[['A', '=', 9], ['B', '=', 12], ['C', '=', 5], ['D', '=', 14]]\n"
     ]
    }
   ],
   "source": [
    "ops = '+'\n",
    "\n",
    "num_inputs = 4\n",
    "total_syms = ['A','B', 'C', 'D', 'E', 'F', 'G', 'H', 'I', 'J', 'K', 'L', 'M', 'N', 'O', 'P']\n",
    "all_syms = total_syms[:num_inputs]\n",
    "all_input_vals = list(np.arange(2,18))\n",
    "input_vals = random.sample(all_input_vals,num_inputs)\n",
    "# randomly select values for each input\n",
    "cue_dict = {}\n",
    "for i, s in enumerate(all_syms):\n",
    "    cue_dict[s] = input_vals[i]\n",
    "    \n",
    "print(cue_dict)\n",
    "primitives = generate_primitives(all_syms, cue_dict)\n",
    "print(primitives)"
   ]
  },
  {
   "cell_type": "markdown",
   "id": "b3e0c3d1",
   "metadata": {},
   "source": [
    "# Run"
   ]
  },
  {
   "cell_type": "code",
   "execution_count": 7,
   "id": "fad74a8e",
   "metadata": {},
   "outputs": [
    {
     "name": "stdout",
     "output_type": "stream",
     "text": [
      "trainseqs  [['A', ('+', 'A'), '=', 34], ['A', '=', 17], ['B', '=', 13], ['C', '=', 6], ['D', '=', 10]]\n",
      "testseqs  [['A', ('+', 'A'), '=', 34], ['A', ('+', 'B'), '=', 30], ['A', ('+', 'C'), '=', 23], ['A', ('+', 'D'), '=', 27], ['B', ('+', 'A'), '=', 30], ['B', ('+', 'B'), '=', 26], ['B', ('+', 'C'), '=', 19], ['B', ('+', 'D'), '=', 23], ['C', ('+', 'A'), '=', 23], ['C', ('+', 'B'), '=', 19], ['C', ('+', 'C'), '=', 12], ['C', ('+', 'D'), '=', 16], ['D', ('+', 'A'), '=', 27], ['D', ('+', 'B'), '=', 23], ['D', ('+', 'C'), '=', 16], ['D', ('+', 'D'), '=', 20]]\n",
      "run time:  0.07203988631566366\n",
      "0\n",
      "total time:  0.07358585198720297\n",
      "0 / 8  rnns trained to 100% accuracy.        \n",
      " Mean test acc =  nan \n",
      "-----------\n",
      "\n"
     ]
    },
    {
     "data": {
      "text/plain": [
       "0"
      ]
     },
     "execution_count": 7,
     "metadata": {},
     "output_type": "execute_result"
    },
    {
     "data": {
      "image/png": "[encoded data removed]",
      "text/plain": [
       "<Figure size 640x480 with 2 Axes>"
      ]
     },
     "metadata": {},
     "output_type": "display_data"
    }
   ],
   "source": [
    "# other\n",
    "epochs = 1500\n",
    "num_sims = 640\n",
    "#trainseqs = generate_trials(ops, all_syms, all_syms) + generate_other_reverse_primitives('+', all_syms)\n",
    "trainseqs = generate_other(ops, all_syms)\n",
    "trainseqs_p = generate_other(ops, all_syms) + primitives\n",
    "testseqs = generate_trials(ops, all_syms, all_syms)\n",
    "print('trainseqs ', trainseqs)\n",
    "print('testseqs ', testseqs )\n",
    "res1 = run_plot(trainseqs, trainseqs_p, testseqs, cue_dict)"
   ]
  },
  {
   "cell_type": "code",
   "execution_count": null,
   "id": "5e60e9ad",
   "metadata": {},
   "outputs": [
    {
     "name": "stdout",
     "output_type": "stream",
     "text": [
      "trainseqs  [['A', ('+', 'B'), '=', 21], ['B', ('+', 'C'), '=', 17], ['C', ('+', 'D'), '=', 19], ['D', ('+', 'A'), '=', 23], ['A', ('+', 'C'), '=', 14], ['B', ('+', 'D'), '=', 26]]\n",
      "testseqs  [['A', ('+', 'A'), '=', 18], ['A', ('+', 'B'), '=', 21], ['A', ('+', 'C'), '=', 14], ['A', ('+', 'D'), '=', 23], ['B', ('+', 'A'), '=', 21], ['B', ('+', 'B'), '=', 24], ['B', ('+', 'C'), '=', 17], ['B', ('+', 'D'), '=', 26], ['C', ('+', 'A'), '=', 14], ['C', ('+', 'B'), '=', 17], ['C', ('+', 'C'), '=', 10], ['C', ('+', 'D'), '=', 19], ['D', ('+', 'A'), '=', 23], ['D', ('+', 'B'), '=', 26], ['D', ('+', 'C'), '=', 19], ['D', ('+', 'D'), '=', 28]]\n"
     ]
    }
   ],
   "source": [
    "# other - balanced\n",
    "epochs = 2000\n",
    "num_sims = 640\n",
    "trainseqs = generate_other(ops, all_syms, cue_dict) + generate_other_reverse_primitives('+', all_syms, cue_dict)\n",
    "trainseqs_p = generate_other(ops, all_syms, cue_dict) + primitives\n",
    "testseqs = generate_trials(ops, all_syms, all_syms, cue_dict)\n",
    "print('trainseqs ', trainseqs)\n",
    "print('testseqs ', testseqs )\n",
    "res2 = run_plot(trainseqs, trainseqs_p, testseqs, cue_dict)"
   ]
  },
  {
   "cell_type": "code",
   "execution_count": 30,
   "id": "d8b2b2ee",
   "metadata": {},
   "outputs": [
    {
     "data": {
      "text/html": [
       "<div>\n",
       "<style scoped>\n",
       "    .dataframe tbody tr th:only-of-type {\n",
       "        vertical-align: middle;\n",
       "    }\n",
       "\n",
       "    .dataframe tbody tr th {\n",
       "        vertical-align: top;\n",
       "    }\n",
       "\n",
       "    .dataframe thead th {\n",
       "        text-align: right;\n",
       "    }\n",
       "</style>\n",
       "<table border=\"1\" class=\"dataframe\">\n",
       "  <thead>\n",
       "    <tr style=\"text-align: right;\">\n",
       "      <th></th>\n",
       "      <th>acc_train</th>\n",
       "      <th>acc_train_p</th>\n",
       "      <th>acc_test</th>\n",
       "      <th>acc_test_p</th>\n",
       "    </tr>\n",
       "  </thead>\n",
       "  <tbody>\n",
       "    <tr>\n",
       "      <th>2</th>\n",
       "      <td>1.0</td>\n",
       "      <td>1.0</td>\n",
       "      <td>1.0000</td>\n",
       "      <td>0.9375</td>\n",
       "    </tr>\n",
       "    <tr>\n",
       "      <th>3</th>\n",
       "      <td>1.0</td>\n",
       "      <td>1.0</td>\n",
       "      <td>0.6875</td>\n",
       "      <td>0.8750</td>\n",
       "    </tr>\n",
       "    <tr>\n",
       "      <th>5</th>\n",
       "      <td>1.0</td>\n",
       "      <td>1.0</td>\n",
       "      <td>0.6875</td>\n",
       "      <td>0.8750</td>\n",
       "    </tr>\n",
       "    <tr>\n",
       "      <th>8</th>\n",
       "      <td>1.0</td>\n",
       "      <td>1.0</td>\n",
       "      <td>0.6250</td>\n",
       "      <td>0.7500</td>\n",
       "    </tr>\n",
       "    <tr>\n",
       "      <th>9</th>\n",
       "      <td>1.0</td>\n",
       "      <td>1.0</td>\n",
       "      <td>1.0000</td>\n",
       "      <td>0.8750</td>\n",
       "    </tr>\n",
       "    <tr>\n",
       "      <th>...</th>\n",
       "      <td>...</td>\n",
       "      <td>...</td>\n",
       "      <td>...</td>\n",
       "      <td>...</td>\n",
       "    </tr>\n",
       "    <tr>\n",
       "      <th>628</th>\n",
       "      <td>1.0</td>\n",
       "      <td>1.0</td>\n",
       "      <td>1.0000</td>\n",
       "      <td>1.0000</td>\n",
       "    </tr>\n",
       "    <tr>\n",
       "      <th>630</th>\n",
       "      <td>1.0</td>\n",
       "      <td>1.0</td>\n",
       "      <td>0.6875</td>\n",
       "      <td>0.5625</td>\n",
       "    </tr>\n",
       "    <tr>\n",
       "      <th>633</th>\n",
       "      <td>1.0</td>\n",
       "      <td>1.0</td>\n",
       "      <td>1.0000</td>\n",
       "      <td>1.0000</td>\n",
       "    </tr>\n",
       "    <tr>\n",
       "      <th>636</th>\n",
       "      <td>1.0</td>\n",
       "      <td>1.0</td>\n",
       "      <td>0.5625</td>\n",
       "      <td>1.0000</td>\n",
       "    </tr>\n",
       "    <tr>\n",
       "      <th>637</th>\n",
       "      <td>1.0</td>\n",
       "      <td>1.0</td>\n",
       "      <td>0.4375</td>\n",
       "      <td>0.9375</td>\n",
       "    </tr>\n",
       "  </tbody>\n",
       "</table>\n",
       "<p>295 rows × 4 columns</p>\n",
       "</div>"
      ],
      "text/plain": [
       "     acc_train  acc_train_p  acc_test  acc_test_p\n",
       "2          1.0          1.0    1.0000      0.9375\n",
       "3          1.0          1.0    0.6875      0.8750\n",
       "5          1.0          1.0    0.6875      0.8750\n",
       "8          1.0          1.0    0.6250      0.7500\n",
       "9          1.0          1.0    1.0000      0.8750\n",
       "..         ...          ...       ...         ...\n",
       "628        1.0          1.0    1.0000      1.0000\n",
       "630        1.0          1.0    0.6875      0.5625\n",
       "633        1.0          1.0    1.0000      1.0000\n",
       "636        1.0          1.0    0.5625      1.0000\n",
       "637        1.0          1.0    0.4375      0.9375\n",
       "\n",
       "[295 rows x 4 columns]"
      ]
     },
     "execution_count": 30,
     "metadata": {},
     "output_type": "execute_result"
    }
   ],
   "source": [
    "df = res2['acc_df']\n",
    "df[(df['acc_train']==1)& (df['acc_train_p']==1)]"
   ]
  },
  {
   "cell_type": "code",
   "execution_count": 19,
   "id": "78fc44e8",
   "metadata": {},
   "outputs": [
    {
     "ename": "TypeError",
     "evalue": "generate_other_reverse_primitives() missing 1 required positional argument: 'cue_dict'",
     "output_type": "error",
     "traceback": [
      "\u001b[0;31m---------------------------------------------------------------------------\u001b[0m",
      "\u001b[0;31mTypeError\u001b[0m                                 Traceback (most recent call last)",
      "\u001b[0;32m/var/folders/6y/z1h4y1t94jvb186qws4p3qq40000gn/T/ipykernel_17357/1197938918.py\u001b[0m in \u001b[0;36m<module>\u001b[0;34m\u001b[0m\n\u001b[1;32m      2\u001b[0m \u001b[0mepochs\u001b[0m \u001b[0;34m=\u001b[0m \u001b[0;36m1500\u001b[0m\u001b[0;34m\u001b[0m\u001b[0;34m\u001b[0m\u001b[0m\n\u001b[1;32m      3\u001b[0m \u001b[0mnum_sims\u001b[0m \u001b[0;34m=\u001b[0m \u001b[0;36m640\u001b[0m\u001b[0;34m\u001b[0m\u001b[0;34m\u001b[0m\u001b[0m\n\u001b[0;32m----> 4\u001b[0;31m \u001b[0mtrainseqs\u001b[0m \u001b[0;34m=\u001b[0m \u001b[0mgenerate_trials\u001b[0m\u001b[0;34m(\u001b[0m\u001b[0mops\u001b[0m\u001b[0;34m,\u001b[0m \u001b[0mall_syms\u001b[0m\u001b[0;34m,\u001b[0m \u001b[0mall_syms\u001b[0m\u001b[0;34m,\u001b[0m \u001b[0mcue_dict\u001b[0m\u001b[0;34m)\u001b[0m \u001b[0;34m+\u001b[0m \u001b[0mgenerate_other_reverse_primitives\u001b[0m\u001b[0;34m(\u001b[0m\u001b[0;34m'+'\u001b[0m\u001b[0;34m,\u001b[0m \u001b[0mall_syms\u001b[0m\u001b[0;34m)\u001b[0m\u001b[0;34m\u001b[0m\u001b[0;34m\u001b[0m\u001b[0m\n\u001b[0m\u001b[1;32m      5\u001b[0m \u001b[0mtrainseqs_p\u001b[0m \u001b[0;34m=\u001b[0m \u001b[0mgenerate_trials\u001b[0m\u001b[0;34m(\u001b[0m\u001b[0mops\u001b[0m\u001b[0;34m,\u001b[0m \u001b[0mall_syms\u001b[0m\u001b[0;34m,\u001b[0m \u001b[0mall_syms\u001b[0m\u001b[0;34m,\u001b[0m \u001b[0mcue_dict\u001b[0m\u001b[0;34m)\u001b[0m \u001b[0;34m+\u001b[0m \u001b[0mprimitives\u001b[0m\u001b[0;34m\u001b[0m\u001b[0;34m\u001b[0m\u001b[0m\n\u001b[1;32m      6\u001b[0m \u001b[0mtestseqs\u001b[0m \u001b[0;34m=\u001b[0m \u001b[0mgenerate_trials\u001b[0m\u001b[0;34m(\u001b[0m\u001b[0mops\u001b[0m\u001b[0;34m,\u001b[0m \u001b[0mall_syms\u001b[0m\u001b[0;34m,\u001b[0m \u001b[0mall_syms\u001b[0m\u001b[0;34m,\u001b[0m \u001b[0mcue_dict\u001b[0m\u001b[0;34m)\u001b[0m\u001b[0;34m\u001b[0m\u001b[0;34m\u001b[0m\u001b[0m\n",
      "\u001b[0;31mTypeError\u001b[0m: generate_other_reverse_primitives() missing 1 required positional argument: 'cue_dict'"
     ]
    }
   ],
   "source": [
    "# all\n",
    "epochs = 1500\n",
    "num_sims = 640\n",
    "trainseqs = generate_trials(ops, all_syms, all_syms, cue_dict) + generate_other_reverse_primitives('+', all_syms, cue_dict)\n",
    "trainseqs_p = generate_trials(ops, all_syms, all_syms, cue_dict) + primitives\n",
    "testseqs = generate_trials(ops, all_syms, all_syms, cue_dict)\n",
    "print('trainseqs ', trainseqs)\n",
    "print('testseqs ', testseqs )\n",
    "res3 = run_plot(trainseqs, trainseqs_p, testseqs, cue_dict)"
   ]
  },
  {
   "cell_type": "code",
   "execution_count": null,
   "id": "42d5769b",
   "metadata": {},
   "outputs": [],
   "source": []
  },
  {
   "cell_type": "code",
   "execution_count": null,
   "id": "be74f0a2",
   "metadata": {},
   "outputs": [],
   "source": []
  }
 ],
 "metadata": {
  "kernelspec": {
   "display_name": "Python 3 (ipykernel)",
   "language": "python",
   "name": "python3"
  },
  "language_info": {
   "codemirror_mode": {
    "name": "ipython",
    "version": 3
   },
   "file_extension": ".py",
   "mimetype": "text/x-python",
   "name": "python",
   "nbconvert_exporter": "python",
   "pygments_lexer": "ipython3",
   "version": "3.8.8"
  }
 },
 "nbformat": 4,
 "nbformat_minor": 5
}
