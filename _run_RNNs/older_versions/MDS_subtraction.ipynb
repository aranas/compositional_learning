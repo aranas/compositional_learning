{
 "cells": [
  {
   "cell_type": "code",
   "execution_count": 40,
   "id": "7edacb2b",
   "metadata": {},
   "outputs": [],
   "source": [
    "import itertools\n",
    "import copy\n",
    "import numpy as np\n",
    "import matplotlib.pyplot as plt\n",
    "import torch\n",
    "from torch.utils.data import Dataset, DataLoader, random_split\n",
    "import torch.nn as nn\n",
    "import pickle\n",
    "import random\n",
    "from sklearn.model_selection import train_test_split\n",
    "import time\n",
    "from joblib import Parallel, delayed\n",
    "import pandas as pd\n",
    "import sys\n",
    "import os\n",
    "import seaborn as sns \n",
    "from sklearn.metrics import r2_score\n",
    "import math\n",
    "import matplotlib as mpl\n",
    "from sklearn.manifold import MDS\n",
    "from sklearn.metrics.pairwise import manhattan_distances, euclidean_distances\n",
    "import scipy\n",
    "\n",
    "from cryptic_rnn import *"
   ]
  },
  {
   "cell_type": "code",
   "execution_count": 41,
   "id": "899299d9",
   "metadata": {},
   "outputs": [
    {
     "name": "stdout",
     "output_type": "stream",
     "text": [
      "{'A': 2, 'B': 8, 'C': 14, 'D': 17}\n",
      "[['A', '=', 2], ['B', '=', 8], ['C', '=', 14], ['D', '=', 17]]\n",
      "[['A', ('+', 'C'), '=', 16], ['B', ('+', 'D'), '=', 25]]\n"
     ]
    }
   ],
   "source": [
    "ops = '-'\n",
    "\n",
    "num_inputs = 4\n",
    "total_syms = ['A','B', 'C', 'D', 'E', 'F', 'G', 'H', 'I', 'J', 'K', 'L', 'M', 'N', 'O', 'P']\n",
    "all_syms = total_syms[:num_inputs]\n",
    "all_input_vals = list(np.arange(2,18))\n",
    "input_vals = random.sample(all_input_vals,num_inputs)\n",
    "input_vals.sort()\n",
    "# randomly select values for each input\n",
    "cue_dict = {}\n",
    "for i, s in enumerate(all_syms):\n",
    "    cue_dict[s] = input_vals[i]\n",
    "    \n",
    "print(cue_dict)\n",
    "primitives = generate_primitives(all_syms, cue_dict)\n",
    "rp = generate_other_reverse_primitives('+', all_syms, cue_dict)\n",
    "print(primitives)\n",
    "print(rp)\n",
    "testseqs = generate_trials(ops, all_syms, all_syms, cue_dict)"
   ]
  },
  {
   "cell_type": "code",
   "execution_count": 42,
   "id": "342dbcd2",
   "metadata": {},
   "outputs": [],
   "source": [
    "# data\n",
    "num_classes = 22\n",
    "batchsize=1\n",
    "\n",
    "# RNN specs\n",
    "input_size = num_classes\n",
    "output_size = 1\n",
    "num_layers = 1\n",
    "hidden_size = 20\n",
    "learningRate = 0.005\n",
    "\n",
    "## running params\n",
    "epochs = 1200\n",
    "num_sims = 104"
   ]
  },
  {
   "cell_type": "code",
   "execution_count": 66,
   "id": "31f95408",
   "metadata": {},
   "outputs": [],
   "source": [
    "## running function\n",
    "def get_reps(model, testdata, hidden_size):\n",
    "    model.eval()\n",
    "    trials = []\n",
    "    hiddens = []\n",
    "    for testset in testdata:\n",
    "        for x,y in testset:\n",
    "            for i in range(len(x)):\n",
    "                hidden_arr = np.empty((0,  hidden_size))\n",
    "                hidden = torch.zeros(1, hidden_size)[0]\n",
    "                for step in x[i]:\n",
    "                    hidden, y_hat = model.get_activations(step,hidden)\n",
    "                    hidden_arr = np.vstack([hidden_arr, hidden.detach().numpy()])\n",
    "            hiddens.append(hidden_arr)\n",
    "            trials.append(str(onehot2seq(x)))\n",
    "\n",
    "    return hiddens, trials \n",
    "\n",
    "\n",
    "## calculate distance matrices for all models and steps \n",
    " \n",
    "\n",
    "def calculate_RDMs(res):\n",
    "    ## find indices of 100% acc rnns\n",
    "    acc_df = res['acc_df']\n",
    "    #all_acc_mods = acc_df[acc_df['acc_train'] == 1].index\n",
    "    all_acc_mods = acc_df.index\n",
    "    print('no. 100% trained RNNs: ', len(all_acc_mods))\n",
    "\n",
    "    mod_list = all_acc_mods # choose only rnns trained to 100%\n",
    "    #mod_list = np.arange(num_sims)\n",
    "\n",
    "    # initialise empty lists/arrays\n",
    "    rdms = [[] for _ in range(4)]\n",
    "\n",
    "    # extracts results from dictionary\n",
    "    mods = res['mods']\n",
    "    cue_dicts = res['cue_dicts']\n",
    "    testseq = generate_trials(ops, all_syms, all_syms, cue_dict)\n",
    "    ft_cue_dicts = [cue_dicts[j] for j in mod_list]\n",
    "\n",
    "    for ind, m in enumerate(mod_list): # for each model \n",
    "        \n",
    "        testseqs = change_dict(testseq, cue_dicts[m])\n",
    "        train_inputs = convert_seq2inputs(testseq, num_classes=num_classes, seq_len=5)\n",
    "        testset = DataLoader(train_inputs, batch_size=batchsize, shuffle=False)\n",
    "        \n",
    "        # get activations for control model\n",
    "        hiddens, trials = get_reps(mods[m], [testset], hidden_size)\n",
    "        for h in range(4): \n",
    "            hid_vals = np.array([hid[h,:] for hid in hiddens]) # combine activations from each trial for the time step\n",
    "            rep_mat = euclidean_distances(hid_vals) # calculate euclidean distance matrix between trials\n",
    "            rdms[h].append(rep_mat)\n",
    "            \n",
    "    return {'rdms': rdms, 'ft_cue_dicts': ft_cue_dicts}\n",
    "\n",
    "\n",
    "# for ranked control\n",
    "rank_dict = {'A': -1.5, 'B': -0.5, 'C': 0.5, 'D': 1.5}\n",
    "\n",
    "# for selecting untrained trials\n",
    "rp = generate_other(ops, all_syms, cue_dict) + generate_other_reverse_primitives('+', all_syms, cue_dict)\n",
    "valset = [t for t in testseqs if t not in rp]\n",
    "valset_idx = [testseqs.index(val) for val in valset]\n",
    "\n",
    "def regress_RDM_abs(time_step, rdm, ft_cue_dicts, ranked = False):\n",
    "    rs = []\n",
    "    for i, cuedict in enumerate(ft_cue_dicts):\n",
    "        if ranked:\n",
    "            curr_tests = change_dict(testseqs, rank_dict)\n",
    "        else:\n",
    "            curr_tests = change_dict(testseqs, cuedict)\n",
    "        truth_outs = [t[-1] for t in curr_tests]\n",
    "        truth_RDM = abs(np.array([truth_outs]*16) - np.array([truth_outs]*16).T)\n",
    "        x = []\n",
    "        y = []\n",
    "        for p in valset_idx:\n",
    "            for q in valset_idx:\n",
    "                x.append(rdm[time_step][i][p,q])\n",
    "                y.append(truth_RDM[p,q])\n",
    "        x = np.array(x).reshape(-1,1)\n",
    "        y = np.array(y)\n",
    "        model = LinearRegression().fit(x, y)\n",
    "        r_sq = model.score(x, y)\n",
    "        rs.append(r_sq)\n",
    "    return rs\n"
   ]
  },
  {
   "cell_type": "code",
   "execution_count": null,
   "id": "f35ec896",
   "metadata": {},
   "outputs": [],
   "source": []
  },
  {
   "cell_type": "code",
   "execution_count": 44,
   "id": "79d2fbd3",
   "metadata": {},
   "outputs": [],
   "source": [
    "def truth_RDM_init(rdm, ft_cue_dicts, ranked = False):\n",
    "    rs = []\n",
    "    for i, cuedict in enumerate(ft_cue_dicts):\n",
    "        if ranked:\n",
    "            curr_tests = change_dict(testseqs, rank_dict)\n",
    "        else:\n",
    "            curr_tests = change_dict(testseqs, cuedict)\n",
    "        init_tests = [[t[0]]+['='] for t in curr_tests ]\n",
    "        truth_outs = [calculate_output(t, cuedict) for t in init_tests]\n",
    "        truth_RDM = abs(np.array([truth_outs]*16) - np.array([truth_outs]*16).T)\n",
    "        rs.append(truth_RDM)\n",
    "    return rs\n",
    "\n",
    "def truth_RDM(rdm, ft_cue_dicts, ranked = False):\n",
    "    rs = []\n",
    "    for i, cuedict in enumerate(ft_cue_dicts):\n",
    "        if ranked:\n",
    "            curr_tests = change_dict(testseqs, rank_dict)\n",
    "        else:\n",
    "            curr_tests = change_dict(testseqs, cuedict)\n",
    "        truth_outs = [t[-1] for t in curr_tests]\n",
    "        truth_RDM = abs(np.array([truth_outs]*16) - np.array([truth_outs]*16).T)\n",
    "        rs.append(truth_RDM)\n",
    "    return rs\n"
   ]
  },
  {
   "cell_type": "code",
   "execution_count": null,
   "id": "cdaa3e7d",
   "metadata": {},
   "outputs": [],
   "source": []
  },
  {
   "cell_type": "code",
   "execution_count": 56,
   "id": "1d3de943",
   "metadata": {},
   "outputs": [],
   "source": [
    "hidden_size=8"
   ]
  },
  {
   "cell_type": "markdown",
   "id": "737fb929",
   "metadata": {},
   "source": [
    "# Read data"
   ]
  },
  {
   "cell_type": "code",
   "execution_count": 51,
   "id": "7b8bce94",
   "metadata": {},
   "outputs": [],
   "source": [
    "# read data\n",
    "\n",
    "save_dir = '../results/representation_analysis/'\n",
    "\n",
    "with open(save_dir+'res_sub', 'rb') as f:\n",
    "    res1 = pickle.load(f)"
   ]
  },
  {
   "cell_type": "markdown",
   "id": "1a5cf68a",
   "metadata": {},
   "source": [
    "## Other"
   ]
  },
  {
   "cell_type": "code",
   "execution_count": 67,
   "id": "b9fb4b37",
   "metadata": {},
   "outputs": [
    {
     "name": "stdout",
     "output_type": "stream",
     "text": [
      "no. 100% trained RNNs:  64\n"
     ]
    }
   ],
   "source": [
    "res = calculate_RDMs(res1)\n",
    "rdms = res['rdms']\n",
    "cue_dicts = res['ft_cue_dicts']\n",
    "\n",
    "matlist = [np.array(rdms[t]).mean(axis=0) for t in range(4)]\n",
    "truth_list = [np.array(truth_RDM(t, rdms, cue_dicts)).mean(axis=0) for t in range(4)]"
   ]
  },
  {
   "cell_type": "code",
   "execution_count": 68,
   "id": "a0644811",
   "metadata": {},
   "outputs": [],
   "source": [
    "# find indices of untrained trials\n",
    "rp = generate_other(ops, all_syms, cue_dict) + generate_primitives(all_syms, cue_dict)\n",
    "valset = [t for t in testseqs if t not in rp]\n",
    "valset_idx = [testseqs.index(val) for val in valset]"
   ]
  },
  {
   "cell_type": "code",
   "execution_count": 69,
   "id": "c23379df",
   "metadata": {},
   "outputs": [
    {
     "name": "stdout",
     "output_type": "stream",
     "text": [
      "no prims:    [0.8469884  0.09858193 0.03291639]\n"
     ]
    }
   ],
   "source": [
    "from sklearn.decomposition import PCA\n",
    "pca = PCA(n_components=3)\n",
    "pca.fit(matlist[3])\n",
    "print('no prims:   ', pca.explained_variance_ratio_)\n"
   ]
  },
  {
   "cell_type": "code",
   "execution_count": 70,
   "id": "3455d6e5",
   "metadata": {},
   "outputs": [],
   "source": [
    "colors2 = ['green', 'blue', 'orange', 'red']*4\n",
    "colors1 = ['green']*4 + ['blue']*4 + ['orange']*4 + [ 'red']*4"
   ]
  },
  {
   "cell_type": "code",
   "execution_count": 71,
   "id": "f43f6980",
   "metadata": {},
   "outputs": [],
   "source": [
    "from matplotlib.lines import Line2D\n",
    "\n",
    "legend_elements = [Line2D([0], [0], marker='o', color='w', markerfacecolor='green', markersize=5, label='A + _'),\n",
    "                   Line2D([0], [0], marker='o', color='w', markerfacecolor='blue', markersize=5, label='B + _'), \n",
    "                   Line2D([0], [0], marker='o', color='w', markerfacecolor='orange', markersize=5, label='C + _'),\n",
    "                   Line2D([0], [0], marker='o', color='w', markerfacecolor='red', markersize=5, label='D + _'),\n",
    "                   Line2D([0], [0], marker='o', color='w', markeredgecolor = 'green', markerfacecolor='none', markersize=10, label=' _ + A'),\n",
    "                   Line2D([0], [0], marker='o', color='w', markeredgecolor = 'blue',markerfacecolor='none', markersize=10, label=' _ + B'), \n",
    "                   Line2D([0], [0], marker='o', color='w', markeredgecolor = 'orange',markerfacecolor='none', markersize=10, label=' _ + C'),\n",
    "                   Line2D([0], [0], marker='o', color='w', markeredgecolor = 'red',markerfacecolor='none', markersize=10, label=' _ + D')]\n"
   ]
  },
  {
   "cell_type": "code",
   "execution_count": 72,
   "id": "4ce78c75",
   "metadata": {},
   "outputs": [
    {
     "data": {
      "text/plain": [
       "<matplotlib.legend.Legend at 0x7fdfd81fa3d0>"
      ]
     },
     "execution_count": 72,
     "metadata": {},
     "output_type": "execute_result"
    },
    {
     "data": {
      "image/png": "[encoded data removed]",
      "text/plain": [
       "<Figure size 600x600 with 4 Axes>"
      ]
     },
     "metadata": {},
     "output_type": "display_data"
    }
   ],
   "source": [
    "plt.rcParams['figure.figsize'] = 6, 6\n",
    "fig, axs = plt.subplots(2,2)\n",
    "\n",
    "#matlist = [rdms[t][m] for t in range(4)]\n",
    "for j, dist in enumerate(matlist):\n",
    "    mds = MDS(dissimilarity='precomputed',random_state=0, n_components=2)\n",
    "    X_transform = mds.fit_transform(dist)\n",
    "    ax = axs[math.floor(j/2), j%2]\n",
    "    ax.title.set_text('step: '+str(j))\n",
    "    for i in range(len(testseqs)):\n",
    "        if i in valset_idx:\n",
    "            alph = 1\n",
    "        else:\n",
    "            alph = 0.2\n",
    "        ax.scatter(X_transform[i,0], X_transform[i,1], color = colors1[i], alpha = alph)\n",
    "        ax.scatter(X_transform[i,0], X_transform[i,1], s=100, facecolors='none', edgecolors=colors2[i], alpha = alph)\n",
    "\n",
    "plt.suptitle('2D-MDS: Other training; with negative primitives')\n",
    "\n",
    "fig.legend(handles=legend_elements,  loc='center left', bbox_to_anchor=(1, 0.5))"
   ]
  },
  {
   "cell_type": "code",
   "execution_count": null,
   "id": "1e0ee5ce",
   "metadata": {},
   "outputs": [],
   "source": []
  }
 ],
 "metadata": {
  "kernelspec": {
   "display_name": "Python 3 (ipykernel)",
   "language": "python",
   "name": "python3"
  },
  "language_info": {
   "codemirror_mode": {
    "name": "ipython",
    "version": 3
   },
   "file_extension": ".py",
   "mimetype": "text/x-python",
   "name": "python",
   "nbconvert_exporter": "python",
   "pygments_lexer": "ipython3",
   "version": "3.8.8"
  }
 },
 "nbformat": 4,
 "nbformat_minor": 5
}
