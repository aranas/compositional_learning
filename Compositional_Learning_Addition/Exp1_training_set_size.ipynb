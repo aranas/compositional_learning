{
 "cells": [
  {
   "cell_type": "code",
   "execution_count": 1,
   "id": "7897dc34",
   "metadata": {},
   "outputs": [
    {
     "data": {
      "text/plain": [
       "' Experiment 1: How does training set size impact generalization performance?\\n    Sequences: Simple addition ( + X + Y =), 4 inputs (A, B, C, D), 16 unique sequences\\n    Curricula: \\n             Primitive: includes primitive sequences (+A=, +B= , ...)\\n             Balanced: includes balancing sequences instead\\n    Trains RNNs on Balanced and Primitive curricula with N base sequences (for N in range 1-8), \\n    and tests the trained RNNs on the remaining 16 - N.\\n    Compares RNN generalization performance with two metrics: generate_primitives(i) R sequares, (ii) RMSE'"
      ]
     },
     "execution_count": 1,
     "metadata": {},
     "output_type": "execute_result"
    }
   ],
   "source": [
    "\"\"\" Experiment 1: How does training set size impact generalization performance?\n",
    "    Sequences: Simple addition ( + X + Y =), 4 inputs (A, B, C, D), 16 unique sequences\n",
    "    Curricula: \n",
    "             Primitive: includes primitive sequences (+A=, +B= , ...)\n",
    "             Balanced: includes balancing sequences instead\n",
    "    Trains RNNs on Balanced and Primitive curricula with N base sequences (for N in range 1-8), \n",
    "    and tests the trained RNNs on the remaining 16 - N.\n",
    "    Compares RNN generalization performance with two metrics: generate_primitives(i) R sequares, (ii) RMSE\"\"\""
   ]
  },
  {
   "cell_type": "code",
   "execution_count": 2,
   "id": "722205c4",
   "metadata": {},
   "outputs": [],
   "source": [
    "import itertools\n",
    "import copy\n",
    "import numpy as np\n",
    "import matplotlib.pyplot as plt\n",
    "import torch\n",
    "from torch.utils.data import Dataset, DataLoader, random_split\n",
    "import torch.nn as nn\n",
    "import pickle\n",
    "import random\n",
    "from sklearn.model_selection import train_test_split\n",
    "import time\n",
    "from joblib import Parallel, delayed\n",
    "import pandas as pd\n",
    "import sys\n",
    "import os\n",
    "import seaborn as sns \n",
    "from sklearn.metrics import r2_score\n",
    "import math\n",
    "import matplotlib as mpl\n",
    "from tqdm import tqdm\n",
    "from matplotlib.lines import Line2D\n",
    "\n",
    "from cryptic_rnn import *"
   ]
  },
  {
   "cell_type": "markdown",
   "id": "15543872",
   "metadata": {},
   "source": [
    "# Functions"
   ]
  },
  {
   "cell_type": "code",
   "execution_count": 21,
   "id": "4dfc30d2",
   "metadata": {},
   "outputs": [],
   "source": [
    "def run_exp(cue_dict, j):\n",
    "    \"\"\" Trains RNNs for a given training set size in balanced and primitive curricula, using paired initialization of RNN\n",
    "    Args:\n",
    "       cue_dict: dictionary of symbols and their integer values\n",
    "       j: number of base training trials\n",
    "    Returns\n",
    "       dictionary with cue_dict, test sequences, losses and accuracies for the RNNs.\n",
    "    \"\"\"\n",
    "    #### randomly assign integers to symbols\n",
    "    all_syms = list(cue_dict.keys())\n",
    "    all_input_vals = list(np.arange(2,18))\n",
    "    input_vals = random.sample(all_input_vals,num_inputs)\n",
    "    input_vals.sort() # sort values (so A is smallest)\n",
    "    # randomly select values for each input\n",
    "    for i, s in enumerate(all_syms):\n",
    "        cue_dict[s] = input_vals[i]\n",
    "    \n",
    "    #### generate train and test sequences\n",
    "    # all seqs\n",
    "    trial_list = []\n",
    "    for s in range(1, len(all_syms)+1):\n",
    "        trial_list += (generate_pairs(ops, all_syms, cue_dict, s))\n",
    "    # generate primitive and balancing seqs\n",
    "    primitives = generate_pos_primitives(all_syms, cue_dict)\n",
    "    balanced_prims = generate_complex_primitives(ops, all_syms, cue_dict)\n",
    "    train_trials = [trial for trial in trial_list if trial not in balanced_prims] # remove any seqs in balanced set\n",
    "    # curricula seqs\n",
    "    basic_train = train_trials[:j] # select first j seqs\n",
    "    trainseqs_b = basic_train + balanced_prims # balanced curriculum\n",
    "    trainseqs_p = basic_train + primitives # primitive curriculum\n",
    "    # test set\n",
    "    testseqs = generate_pos_trials(ops, all_syms, all_syms, cue_dict) \n",
    "    testseqs = [t for t in testseqs if t not in trainseqs_b]\n",
    "\n",
    "    ### load sequence data\n",
    "    # test set \n",
    "    testseqs = change_dict(testseqs, cue_dict)\n",
    "    test_inputs = convert_seq2inputs(testseqs, num_classes=num_classes, seq_len=5)\n",
    "    testset = DataLoader(test_inputs, batch_size=batchsize, shuffle=True)\n",
    "    # balanced training\n",
    "    tseqs = change_dict(trainseqs_b, cue_dict)\n",
    "    train_inputs = convert_seq2inputs(tseqs, num_classes=num_classes, seq_len=5)\n",
    "    trainset_b = DataLoader(train_inputs, batch_size=batchsize, shuffle=True)\n",
    "    # primitive training\n",
    "    tseqs = change_dict(trainseqs_p, cue_dict)\n",
    "    train_inputs = convert_seq2inputs(tseqs, num_classes=num_classes, seq_len=5)\n",
    "    trainset_p = DataLoader(train_inputs, batch_size=batchsize, shuffle=True)\n",
    "        \n",
    "    ### Paired initialization of models\n",
    "    model_b = OneStepRNN(input_size, output_size, hidden_size, num_layers, xavier_gain)\n",
    "    model_p = copy.deepcopy(model_b)\n",
    "    criterion = nn.MSELoss()\n",
    "    \n",
    "    ### run primitive training RNN\n",
    "    # balanced\n",
    "    optimizer = torch.optim.Adam(model_b.parameters(), lr=learningRate)\n",
    "    loss1, acc1 = run_acc(model_b,optimizer,criterion, trainset_b, [trainset_b, testset], epochs, hidden_size)\n",
    "    # primitive\n",
    "    optimizer = torch.optim.Adam(model_p.parameters(), lr=learningRate)\n",
    "    loss2, acc2 = run_acc(model_p,optimizer,criterion, trainset_p, [trainset_p, testset], epochs, hidden_size)\n",
    "    \n",
    "    return {'cue_dict':cue_dict,'test': testset,\n",
    "           'loss_b':loss1, 'acc_b':acc1, 'mod_b': model_b,\\\n",
    "           'loss_p':loss2, 'acc_p':acc2, 'mod_p': model_p}\n",
    "\n",
    "def run_plot(cue_dict, j):\n",
    "    \"\"\" Trains RNNs in parallel for num_sims simulations\n",
    "    Args:\n",
    "       cue_dict: dictionary of symbols and their integer values\n",
    "       j: number of base training trials\n",
    "    Returns: dictionary with combined simulation results\n",
    "          mods_b: list of Balanced curricula models\n",
    "          mods_p: list of Primitive curricula models\n",
    "          res: list of result dictionaries of run_exp\n",
    "          tests: test sets for each model pair\n",
    "          cue_dicts: cue_dict for each model pair\n",
    "          acc_df: accuracy data frame for each model pair\n",
    "    \"\"\"\n",
    "    # run and time set of simulations\n",
    "    t1 = time.time()\n",
    "    res  = Parallel(n_jobs = -1)(delayed(run_exp)(cue_dict, j) for i in tqdm(range(num_sims)))\n",
    "    t2 = time.time()\n",
    "    print('run time: ', (t2-t1)/60)\n",
    "    \n",
    "    # extract values from list of results\n",
    "    tests = [r['test'] for r in res]\n",
    "    cue_dicts = [r['cue_dict'] for r in res]\n",
    "    # balanced results\n",
    "    losses_b = np.hstack([r['loss_b'] for r in res])\n",
    "    acc_train_b = np.array([r['acc_b'][:,0] for r in res]).T\n",
    "    acc_test_b = np.array([r['acc_b'][:,1] for r in res]).T\n",
    "    mods_b = [r['mod_b'] for r in res]\n",
    "    # primitive results\n",
    "    losses_p = np.hstack([r['loss_p'] for r in res])\n",
    "    acc_train_p = np.array([r['acc_p'][:,0] for r in res]).T\n",
    "    acc_test_p = np.array([r['acc_p'][:,1] for r in res]).T\n",
    "    mods_p = [r['mod_p'] for r in res]\n",
    "\n",
    "    # correlation between model predictions and ground truth\n",
    "    r2_b, dfs_b, _ = predcorr(mods_b, tests, hidden_size, plot_corr =False)\n",
    "    r2_p, dfs_p, _ = predcorr(mods_p, tests, hidden_size, plot_corr = False)\n",
    "    # r squared scores for model predicitons\n",
    "    print('B: ', r2_b)\n",
    "    print('P: ', r2_p)\n",
    "    # data frame with train and test accuracies for each model - each row corresponds to a jointly initialized model pair\n",
    "    acc_df = pd.DataFrame({'acc_train_b': acc_train_b[-1,:], 'acc_test_b': acc_test_b[-1,:],\\\n",
    "                           'acc_train_p': acc_test_p[-1,:], 'acc_test_p': acc_test_p[-1,:]})\n",
    "    \n",
    "    return {'mods_b':mods_b, 'mods_p':mods_p, \\\n",
    "            'res':res, 'tests': tests, 'cue_dicts': cue_dicts, 'acc_df':acc_df }\n",
    "\n",
    "def input_frac_run(num_inputs, max_train_trials):\n",
    "#      \"\"\" Trains sets of RNNs for a range of training set sizes\n",
    "#     Args:\n",
    "#        num_inputs: number of symbols to incude in sequences\n",
    "#        max_train_trials: max number of base training trials\n",
    "#     Returns: list of results, where each element is the result for the number of base seqs in the training set\n",
    "#     \"\"\"\n",
    "    # select input symbols\n",
    "    all_syms = total_syms[:num_inputs]\n",
    "    # assign integers to each value\n",
    "    input_vals = random.sample(all_input_vals,num_inputs)  # randomly select values for each input\n",
    "    cue_dict = {}\n",
    "    for i, s in enumerate(all_syms):\n",
    "        cue_dict[s] = input_vals[i]\n",
    "    # for each number of base seqs, train RNNs on this training set\n",
    "    reses = []\n",
    "    for j in range(1, max_train_trials+1):\n",
    "        print('##################\\nnumber of train trials: ',j)      \n",
    "        res_j = run_plot(cue_dict, j)\n",
    "        reses.append(res_j)      \n",
    "    \n",
    "    return reses\n",
    "\n",
    "########################\n",
    "# R squared analysis\n",
    "########################\n",
    "\n",
    "def extract_r2(res):\n",
    "    tests = [r['test'] for r in res]\n",
    "    mods_b = [r['mod_b'] for r in res]\n",
    "    mods_p = [r['mod_p'] for r in res]\n",
    "\n",
    "    r2_b, dfs_b, _ = predcorr(mods_b, tests, hidden_size, plot_corr =True)\n",
    "    r2_p, dfs_p, _ = predcorr(mods_p, tests, hidden_size, plot_corr = True)\n",
    "    \n",
    "\n",
    "def extract_r2(res):\n",
    "    \"\"\" calculates mean and std R^2 for model predictions-ground truth correlation for model set of \n",
    "        each training regime\n",
    "        Args: results dictionary\n",
    "        Returns, mean R^2 and std for balanced and primitive regime\"\"\"\n",
    "    tests = res['tests']\n",
    "    mods_b = res['mods_b']\n",
    "    mods_p = res['mods_p']\n",
    "    r2_b, sterr_b = get_r2s(mods_b, tests, hidden_size)\n",
    "    r2_p, sterr_p = get_r2s(mods_p, tests, hidden_size)\n",
    "    \n",
    "    return [r2_b, r2_p, sterr_b, sterr_p]\n",
    "    \n",
    "def get_r2s(mods, tests, hidden_size=20):\n",
    "    \"\"\" calculates mean R^2 and std for list of models and test sequences \"\"\"\n",
    "    N = len(mods)\n",
    "    r2s = []\n",
    "    for i in range(len(mods)):\n",
    "        df = test_preds(mods[i], [tests[i]], hidden_size)\n",
    "        r2s.append(r2_score(df['pred'], df['label'])) # individual model r2 score\n",
    "    r2_mean = np.mean(r2s)\n",
    "    r2_sterr = np.std(r2s)/math.sqrt(N)\n",
    "    \n",
    "    return r2_mean, r2_sterr\n",
    "\n",
    "##################\n",
    "# MSE loss analysis\n",
    "##################\n",
    "\n",
    "def test_modloss(model, testdata, criterion, hidden_size=20):\n",
    "    model.eval()\n",
    "    losses_testset = []\n",
    "    \n",
    "    for t in testdata:\n",
    "        loss_set = 0\n",
    "        for x,y in t:\n",
    "            for i in range(len(x)):\n",
    "                hidden = torch.zeros(1, hidden_size)[0]\n",
    "                for step in x[i]:\n",
    "                    hidden, y_hat = model.get_activations(step,hidden)\n",
    "                loss_set += criterion(y_hat,y[i]).item()\n",
    "     \n",
    "        losses_testset.append(loss_set)\n",
    "        \n",
    "    return losses_testset\n",
    "\n",
    "\n",
    "def extract_MSELoss(res1):\n",
    "    \"\"\" calculates mean and std R^2 for model predictions-ground truth correlation for model set of \n",
    "        each training regime\n",
    "        Args: results dictionary\n",
    "        Returns, mean R^2 and std for balanced and primitive regime\"\"\"\n",
    "    tests = res1['tests']\n",
    "    mods_b = res1['mods_b']\n",
    "    mods_p = res1['mods_p']\n",
    "    criterion = nn.MSELoss()\n",
    "    mse_b = []\n",
    "    mse_p = []\n",
    "    for i in range(len(mods_b)):\n",
    "        mse_b.append(test_modloss(mods_b[i], [tests[i]], criterion, hidden_size)[0]) \n",
    "        mse_p.append(test_modloss(mods_p[i], [tests[i]], criterion, hidden_size)[0]) \n",
    "        \n",
    "    return {'mse_b': mse_b, 'mse_p': mse_p}\n"
   ]
  },
  {
   "cell_type": "code",
   "execution_count": 22,
   "id": "56bf5f4c",
   "metadata": {},
   "outputs": [],
   "source": [
    "## plotting\n",
    "SMALL_SIZE = 12\n",
    "MEDIUM_SIZE = 14\n",
    "BIGGER_SIZE = 18\n",
    "\n",
    "plt.rc('font', size=SMALL_SIZE)          # controls default text sizes\n",
    "plt.rc('axes', titlesize=SMALL_SIZE)     # fontsize of the axes title\n",
    "plt.rc('axes', labelsize=MEDIUM_SIZE)    # fontsize of the x and y labels\n",
    "plt.rc('xtick', labelsize=SMALL_SIZE)    # fontsize of the tick labels\n",
    "plt.rc('ytick', labelsize=SMALL_SIZE)    # fontsize of the tick labels\n",
    "plt.rc('legend', fontsize=SMALL_SIZE)    # legend fontsize\n",
    "plt.rc('figure', titlesize=BIGGER_SIZE)  # fontsize of the figure title"
   ]
  },
  {
   "cell_type": "markdown",
   "id": "3ce70c94",
   "metadata": {},
   "source": [
    "## RNN params"
   ]
  },
  {
   "cell_type": "code",
   "execution_count": 23,
   "id": "ece207bd",
   "metadata": {},
   "outputs": [],
   "source": [
    "# data\n",
    "num_classes = 22\n",
    "batchsize=1\n",
    "\n",
    "# RNN specs\n",
    "input_size = num_classes\n",
    "output_size = 1\n",
    "num_layers = 1\n",
    "hidden_size = 20\n",
    "learningRate = 0.005\n",
    "xavier_gain = 0.0001"
   ]
  },
  {
   "cell_type": "markdown",
   "id": "7620e8e9",
   "metadata": {},
   "source": [
    "## Sequences"
   ]
  },
  {
   "cell_type": "code",
   "execution_count": 24,
   "id": "84a09888",
   "metadata": {},
   "outputs": [
    {
     "name": "stdout",
     "output_type": "stream",
     "text": [
      "cue_dict  {'A': 17, 'B': 10, 'C': 14, 'D': 7}\n"
     ]
    }
   ],
   "source": [
    "ops = '+'\n",
    "\n",
    "num_inputs = 4\n",
    "total_syms = ['A','B', 'C', 'D', 'E', 'F', 'G', 'H', 'I', 'J', 'K', 'L', 'M', 'N', 'O', 'P']\n",
    "all_syms = total_syms[:num_inputs]\n",
    "all_input_vals = list(np.arange(2,18))\n",
    "input_vals = random.sample(all_input_vals,num_inputs)\n",
    "# randomly select values for each input\n",
    "cue_dict = {}\n",
    "for i, s in enumerate(all_syms):\n",
    "    cue_dict[s] = input_vals[i]  \n",
    "print('cue_dict ',cue_dict)"
   ]
  },
  {
   "cell_type": "code",
   "execution_count": 25,
   "id": "81f4cea8",
   "metadata": {},
   "outputs": [],
   "source": [
    "# all_syms = list(cue_dict.keys())\n",
    "# all_input_vals = list(np.arange(2,18))\n",
    "# input_vals = random.sample(all_input_vals,num_inputs)\n",
    "# input_vals.sort() # sort values (so A is smallest)\n",
    "# # randomly select values for each input\n",
    "# for i, s in enumerate(all_syms):\n",
    "#     cue_dict[s] = input_vals[i]\n",
    "\n",
    "# trial_list = []\n",
    "# for s in range(1, len(all_syms)+1):\n",
    "#     trial_list += (generate_pairs(ops, all_syms, cue_dict, s))\n",
    "\n",
    "# primitives = generate_pos_primitives(all_syms, cue_dict)\n",
    "# balanced_prims = generate_complex_primitives(ops, all_syms, cue_dict)\n",
    "# train_trials = [trial for trial in trial_list if trial not in balanced_prims]\n",
    "\n",
    "# basic_train = train_trials[:j]\n",
    "# trainseqs_b = basic_train + balanced_prims\n",
    "# trainseqs_p = basic_train + primitives\n",
    "# testseqs = generate_pos_trials(ops, all_syms, all_syms, cue_dict)\n",
    "# testseqs = [t for t in testseqs if t not in trainseqs_b]\n"
   ]
  },
  {
   "cell_type": "markdown",
   "id": "b78d85b6",
   "metadata": {},
   "source": [
    "## Run/Load/Save"
   ]
  },
  {
   "cell_type": "code",
   "execution_count": 27,
   "id": "fe535933",
   "metadata": {},
   "outputs": [],
   "source": [
    "num_sims= 200 # number of simulations\n",
    "epochs = 1000 # number of epochs\n",
    "# run\n",
    "res = input_frac_run(4, 8)"
   ]
  },
  {
   "cell_type": "code",
   "execution_count": null,
   "id": "7f95a958",
   "metadata": {},
   "outputs": [],
   "source": [
    "# save\n",
    "savedir = '../results/fraction_inputs/4_inputs'\n",
    "with open(savedir, 'wb') as f:\n",
    "    pickle.dump(res, f)\n",
    "f.close()"
   ]
  },
  {
   "cell_type": "code",
   "execution_count": 28,
   "id": "60b27b37",
   "metadata": {},
   "outputs": [],
   "source": [
    "# load\n",
    "savedir = '../results/fraction_inputs/4_inputs'\n",
    "with open(savedir, 'rb') as f:\n",
    "    res = pickle.load(f)\n"
   ]
  },
  {
   "cell_type": "markdown",
   "id": "c1a1fc87",
   "metadata": {},
   "source": [
    "# MSE Loss\n",
    "\n",
    "plot RMSE loss against number of base training trials for Balanced vs Primitive curriculum"
   ]
  },
  {
   "cell_type": "code",
   "execution_count": 29,
   "id": "2eda36a3",
   "metadata": {},
   "outputs": [
    {
     "name": "stderr",
     "output_type": "stream",
     "text": [
      "/Users/miahannah/opt/anaconda3/lib/python3.8/site-packages/torch/nn/modules/loss.py:536: UserWarning: Using a target size (torch.Size([])) that is different to the input size (torch.Size([1])). This will likely lead to incorrect results due to broadcasting. Please ensure they have the same size.\n",
      "  return F.mse_loss(input, target, reduction=self.reduction)\n"
     ]
    }
   ],
   "source": [
    "# calculate MSE loss for each training set size, for Balanced and Primitive curricula\n",
    "lp = []\n",
    "lb = []\n",
    "for res_n in res:\n",
    "    calc_loss = extract_MSELoss(res_n)\n",
    "    lb.append(calc_loss['mse_b'])\n",
    "    lp.append(calc_loss['mse_p'])\n",
    "# take square root for RMSE \n",
    "rtlp = np.sqrt(lp)\n",
    "rtlb = np.sqrt(lb)\n",
    "\n",
    "# Find mean and standard deviation for each curriculim\n",
    "means_p = np.array(rtlp).mean(axis=1)\n",
    "std_p = np.array(rtlp).std(axis=1)\n",
    "means_b = np.array(rtlb).mean(axis=1)\n",
    "std_b = np.array(rtlb).std(axis=1)"
   ]
  },
  {
   "cell_type": "code",
   "execution_count": 67,
   "id": "ce4f32d9",
   "metadata": {},
   "outputs": [
    {
     "data": {
      "text/plain": [
       "<matplotlib.legend.Legend at 0x7fccc2447a60>"
      ]
     },
     "execution_count": 67,
     "metadata": {},
     "output_type": "execute_result"
    },
    {
     "data": {
      "image/png": "[encoded data removed]",
      "text/plain": [
       "<Figure size 700x300 with 1 Axes>"
      ]
     },
     "metadata": {},
     "output_type": "display_data"
    }
   ],
   "source": [
    "j = 0\n",
    "labels = ['Balanced','Primitive']\n",
    "colors = ['#00A7E1', '#F17720']\n",
    "\n",
    "fig, ax = plt.subplots(figsize = (7,3))\n",
    "xpos = np.arange(1, means_p.shape[0]+1)\n",
    "ax.plot(xpos, means_b, label = labels[0], color=colors[0])\n",
    "ax.fill_between(xpos, means_b + std_b, means_b - std_b, color=colors[0], alpha=0.2)\n",
    "\n",
    "ax.plot(xpos, means_p, label = labels[1], color=colors[1])\n",
    "ax.fill_between(xpos, means_p + std_p, means_p - std_p, color=colors[1], alpha=0.2)\n",
    "\n",
    "\n",
    "ax.set_xlabel('Base training trials')\n",
    "ax.set_ylabel('RMSE')\n",
    "ax.title.set_text('RMSE against number of base training trails')\n",
    "plt.legend(loc='upper right')"
   ]
  },
  {
   "cell_type": "code",
   "execution_count": 79,
   "id": "7a9e94cb",
   "metadata": {},
   "outputs": [
    {
     "name": "stdout",
     "output_type": "stream",
     "text": [
      "i =  1\n",
      "WilcoxonResult(statistic=338.0, pvalue=2.1444018307409266e-32)\n",
      "i =  2\n",
      "WilcoxonResult(statistic=246.0, pvalue=5.5822001747782535e-33)\n",
      "i =  3\n",
      "WilcoxonResult(statistic=2342.0, pvalue=5.199470929358829e-21)\n",
      "i =  4\n",
      "WilcoxonResult(statistic=6157.0, pvalue=2.03293439271449e-06)\n",
      "i =  5\n",
      "WilcoxonResult(statistic=7480.0, pvalue=0.0017136420237451923)\n",
      "i =  6\n",
      "WilcoxonResult(statistic=5264.0, pvalue=5.2284077551993106e-09)\n",
      "i =  7\n",
      "WilcoxonResult(statistic=5928.0, pvalue=4.9165409922553e-07)\n",
      "i =  8\n",
      "WilcoxonResult(statistic=8128.0, pvalue=0.019018554266521936)\n"
     ]
    }
   ],
   "source": [
    "for i in range(8):\n",
    "    print('i = ', str(i+1))\n",
    "    print(scipy.stats.wilcoxon(rtlp[i, :], rtlb[i, :]))"
   ]
  },
  {
   "cell_type": "markdown",
   "id": "d2c01c05",
   "metadata": {},
   "source": [
    "## R2 "
   ]
  },
  {
   "cell_type": "code",
   "execution_count": 26,
   "id": "d8517079",
   "metadata": {},
   "outputs": [],
   "source": [
    "vals = np.empty((0,4))\n",
    "for i, res_set in enumerate(res):\n",
    "    set_vals = np.array(extract_r2(res_set)).reshape(-1,4)\n",
    "    vals = np.vstack([vals, set_vals])"
   ]
  },
  {
   "cell_type": "code",
   "execution_count": 66,
   "id": "94be7b24",
   "metadata": {
    "scrolled": true
   },
   "outputs": [
    {
     "data": {
      "text/plain": [
       "Text(0.5, 1.0, 'Prediction $R^2$ against number of base training trails')"
      ]
     },
     "execution_count": 66,
     "metadata": {},
     "output_type": "execute_result"
    },
    {
     "data": {
      "image/png": "[encoded data removed]",
      "text/plain": [
       "<Figure size 700x300 with 1 Axes>"
      ]
     },
     "metadata": {},
     "output_type": "display_data"
    }
   ],
   "source": [
    "j = 0\n",
    "labels = ['Balanced','Primitive']\n",
    "colors = ['#00A7E1', '#F17720']\n",
    "plt.figure(figsize = (7,3))\n",
    "xpos = np.arange(1, vals.shape[0]+1)\n",
    "Nn = int(vals.shape[1]/2)\n",
    "for j in range(Nn):\n",
    "    plt.plot(xpos, vals[:,j], label = labels[j], color=colors[j])\n",
    "    plt.fill_between(xpos, vals[:,j] + vals[:,j+Nn], vals[:,j] - vals[:,j+Nn], color=colors[j], alpha=0.2)\n",
    "plt.legend(loc='lower right')\n",
    "plt.xlabel('Base training trials')\n",
    "plt.ylabel('$R^2$')\n",
    "plt.title('Prediction $R^2$ against number of base training trails')"
   ]
  },
  {
   "cell_type": "code",
   "execution_count": 26,
   "id": "c7f2caa4",
   "metadata": {},
   "outputs": [],
   "source": []
  }
 ],
 "metadata": {
  "kernelspec": {
   "display_name": "Python 3 (ipykernel)",
   "language": "python",
   "name": "python3"
  },
  "language_info": {
   "codemirror_mode": {
    "name": "ipython",
    "version": 3
   },
   "file_extension": ".py",
   "mimetype": "text/x-python",
   "name": "python",
   "nbconvert_exporter": "python",
   "pygments_lexer": "ipython3",
   "version": "3.8.8"
  }
 },
 "nbformat": 4,
 "nbformat_minor": 5
}
