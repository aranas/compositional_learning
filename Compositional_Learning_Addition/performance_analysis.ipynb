{
 "cells": [
  {
   "cell_type": "code",
   "execution_count": 1,
   "id": "0c6c4996",
   "metadata": {},
   "outputs": [],
   "source": [
    "import itertools\n",
    "import copy\n",
    "import numpy as np\n",
    "import matplotlib.pyplot as plt\n",
    "import torch\n",
    "from torch.utils.data import Dataset, DataLoader, random_split\n",
    "import torch.nn as nn\n",
    "import pickle\n",
    "import random\n",
    "from sklearn.model_selection import train_test_split\n",
    "import time\n",
    "from joblib import Parallel, delayed\n",
    "import pandas as pd\n",
    "import sys\n",
    "import os\n",
    "import seaborn as sns \n",
    "from sklearn.metrics import r2_score\n",
    "import math\n",
    "import matplotlib as mpl\n",
    "from sklearn.manifold import MDS\n",
    "from sklearn.metrics.pairwise import manhattan_distances, euclidean_distances\n",
    "import scipy\n",
    "from matplotlib import cm\n",
    "from matplotlib.lines import Line2D\n",
    "from sklearn.decomposition import PCA\n"
   ]
  },
  {
   "cell_type": "code",
   "execution_count": null,
   "id": "adb8614e",
   "metadata": {},
   "outputs": [],
   "source": [
    "############### Functions: R squared comparison ###############\n",
    "\n",
    "def get_r2_and_preds(mods, tests, hidden_size=20):\n",
    "    dfs = []\n",
    "    r2s = []\n",
    "    for i in range(len(mods)):\n",
    "        df = test_preds(mods[i], [tests[i]], hidden_size)\n",
    "        dfs.append(df) # append data frame of labels and predictions\n",
    "        r2s.append(r2_score(df['pred'], df['label'])) # individual model r2 score\n",
    "    all_dfs = pd.concat(dfs)\n",
    "    all_r2s = r2_score(all_dfs['pred'],all_dfs['label'])\n",
    "    \n",
    "    return {'ind_dfs': dfs, 'all_dfs': all_dfs, 'ind_r2s': r2s, 'all_r2s': all_r2s}\n"
   ]
  }
 ],
 "metadata": {
  "kernelspec": {
   "display_name": "Python 3 (ipykernel)",
   "language": "python",
   "name": "python3"
  },
  "language_info": {
   "codemirror_mode": {
    "name": "ipython",
    "version": 3
   },
   "file_extension": ".py",
   "mimetype": "text/x-python",
   "name": "python",
   "nbconvert_exporter": "python",
   "pygments_lexer": "ipython3",
   "version": "3.8.8"
  }
 },
 "nbformat": 4,
 "nbformat_minor": 5
}
