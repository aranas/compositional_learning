{
 "cells": [
  {
   "cell_type": "code",
   "execution_count": 12,
   "id": "c38a1baf",
   "metadata": {},
   "outputs": [],
   "source": [
    "import itertools\n",
    "import copy\n",
    "import numpy as np\n",
    "import matplotlib.pyplot as plt\n",
    "import torch\n",
    "from torch.utils.data import Dataset, DataLoader, random_split\n",
    "import torch.nn as nn\n",
    "import pickle\n",
    "import random\n",
    "from sklearn.model_selection import train_test_split"
   ]
  },
  {
   "cell_type": "code",
   "execution_count": 2,
   "id": "952157f0",
   "metadata": {},
   "outputs": [],
   "source": [
    "import functions.plotting as NNplt\n",
    "from functions.rnn_sequences import generate_sequences, convert_seq2inputs, inputs_split"
   ]
  },
  {
   "cell_type": "code",
   "execution_count": 3,
   "id": "02b79f54",
   "metadata": {},
   "outputs": [],
   "source": [
    "def unique(list1):\n",
    "    unique_list = []\n",
    "    for x in list1:\n",
    "        if x not in unique_list:\n",
    "            unique_list.append(x)\n",
    "    return unique_list"
   ]
  },
  {
   "cell_type": "markdown",
   "id": "05ef1333",
   "metadata": {},
   "source": [
    "# RNN"
   ]
  },
  {
   "cell_type": "code",
   "execution_count": 115,
   "id": "d099c029",
   "metadata": {},
   "outputs": [],
   "source": [
    "class OneStepRNN(nn.Module):\n",
    "\n",
    "    def __init__(self, input_size, output_size, hidden_size, num_layers):\n",
    "        super(OneStepRNN, self).__init__()\n",
    "        # Define parameters\n",
    "        self.rnn = torch.nn.RNN(input_size=input_size,\n",
    "                        hidden_size=hidden_size,\n",
    "                        num_layers= num_layers,\n",
    "                        batch_first=True)\n",
    "        self.num_layers = num_layers\n",
    "        self.hidden_size = hidden_size\n",
    "        # Define the layers\n",
    "        self.input2hidden = nn.Linear(input_size + self.hidden_size, self.hidden_size)\n",
    "        self.fc1tooutput = nn.Linear(self.hidden_size, output_size)\n",
    "\n",
    "    def forward(self, x, hidden):\n",
    "        combined = torch.cat((x, hidden), dim=0) ## dim = 1??\n",
    "        self.hidden = nn.functional.relu(self.input2hidden(combined))\n",
    "        self.output = self.fc1tooutput(self.hidden)\n",
    "        #return self.output.view(-1,output_size), self.hidden\n",
    "        return self.output, self.hidden\n",
    "\n",
    "    def get_activations(self, x, hidden):\n",
    "        self.forward(x, hidden)  # update the activations with the particular input\n",
    "        return self.hidden, self.output #, self.fc1_activations\n",
    "\n",
    "    def get_noise(self):\n",
    "        return self.hidden_noise\n",
    "\n",
    "    def initHidden(self):\n",
    "        return torch.zeros(1, self.hidden_size)[0]\n",
    "\n",
    "\n",
    "def train(sequence,label,model,optimizer,criterion):\n",
    "\n",
    "    optimizer.zero_grad()\n",
    "    #Read each cue in and keep hidden state for next cue\n",
    "    hidden = model.initHidden()\n",
    "    for i in range(len(sequence[0])):\n",
    "        output, hidden = model.forward(sequence[0][i], hidden)\n",
    "    #Compare final output to target\n",
    "    loss = criterion(output,label)#.long())\n",
    "    #Back-propagate\n",
    "    loss.backward()\n",
    "    optimizer.step()\n",
    "\n",
    "    return output, loss.item()\n",
    "\n",
    "def run(model, train_data, epochs):\n",
    "\n",
    "    model.train()\n",
    "    loss_history = []\n",
    "    for epoch in range(epochs):\n",
    "        lossTotal = 0\n",
    "        for x,y in train_data:\n",
    "            output, loss = train(x,y,model,optimizer,criterion)\n",
    "            lossTotal += loss # add MSE -> sum of square errors \n",
    "        loss_history.append(lossTotal)\n",
    "\n",
    "    print(f'loss: {round(lossTotal,1)} ')\n",
    "    return loss_history\n",
    "\n",
    "\n",
    "def run_cvrmse(model, train_data, epochs):\n",
    "\n",
    "    model.train()\n",
    "    rmse_history = []\n",
    "    for epoch in range(epochs):\n",
    "        lossTotal = 0\n",
    "        ylog = 0\n",
    "        for x,y in train_data:\n",
    "            ylog += y.mean().item()\n",
    "            output, loss = train(x,y,model,optimizer,criterion)\n",
    "            lossTotal += loss # add MSE -> sum of square errors \n",
    "        rmse = (lossTotal/len(train_data))**0.5 # root mean square error\n",
    "        cvrmse = rmse/(ylog/len(train_data))\n",
    "        rmse_history.append(cvrmse)\n",
    "\n",
    "    print(f'cv rmse: {round(cvrmse,2)} ')\n",
    "    return rmse_history\n",
    "\n",
    "\n",
    "def test_model(model, testdata, hidden_size, verbose=False):\n",
    "    model.eval()\n",
    "    SSE = 0\n",
    "    yvals = []\n",
    "    for x,y in testdata:\n",
    "        yvals.append(y.item())\n",
    "        hidden = torch.zeros(1, hidden_size)[0]\n",
    "        for step in x[0]:\n",
    "            hidden, y_hat = model.get_activations(step,hidden)\n",
    "        SE = (y.item() - y_hat.detach().item())**2 # squared error\n",
    "        SSE += SE # sum of square error\n",
    "    RMSE = (SSE/len(yvals))**0.5\n",
    "    CV_RMSE = 100*RMSE/np.mean(yvals)\n",
    "    \n",
    "    return CV_RMSE\n",
    "\n",
    "def test_acc(model, testdata, hidden_size):\n",
    "    model.eval()\n",
    "    correct = 0\n",
    "    for x,y in testdata:\n",
    "        hidden = torch.zeros(1, hidden_size)[0]\n",
    "        for step in x[0]:\n",
    "            hidden, y_hat = model.get_activations(step,hidden)\n",
    "        pred_err = abs(y.item() - y_hat.detach())# prediction error\n",
    "        if pred_err > 0.5:\n",
    "            correct += 1\n",
    "    acc = correct/len(testdata)\n",
    "    print('test accuracy: %f ' % (acc))\n",
    "    \n",
    "    return acc\n",
    "\n",
    "def test_acc_batch(model, testdata, hidden_size):\n",
    "    model.eval()\n",
    "    correct = 0\n",
    "    for xs,ys in testdata:\n",
    "        for i in range(len(ys)):\n",
    "            hidden = torch.zeros(1, hidden_size)[0]\n",
    "            for step in xs[i]:\n",
    "                hidden, y_hat = model.get_activations(step,hidden)\n",
    "            pred_err = abs(ys[i].item() - y_hat[i].detach())# prediction error\n",
    "            if pred_err > 0.5:\n",
    "                correct += 1\n",
    "    acc = correct/(len(testdata)*len(ys))\n",
    "    print('test accuracy: %f ' % (acc))\n",
    "    \n",
    "    return acc"
   ]
  },
  {
   "cell_type": "markdown",
   "id": "bbdbcc03",
   "metadata": {},
   "source": [
    "# Experiments:\n",
    "1 step pretraining (compare 1 step pretraining to 2)\n",
    "\n",
    "primitive op (work out how operations work)\n",
    "\n",
    "primitive cue (work out number corresponding to cue id)\n",
    "\n",
    "...stages vs sentence trial structure"
   ]
  },
  {
   "cell_type": "markdown",
   "id": "fb04cbe3",
   "metadata": {},
   "source": [
    "# 1 step pretraining"
   ]
  },
  {
   "cell_type": "code",
   "execution_count": 125,
   "id": "28608213",
   "metadata": {},
   "outputs": [
    {
     "name": "stdout",
     "output_type": "stream",
     "text": [
      "train 1:  80\n",
      "test 1:  16\n",
      "train 2:  80\n",
      "test 2:  16\n",
      "train 3:  80\n",
      "test 3:  16\n"
     ]
    }
   ],
   "source": [
    "# Generate data\n",
    "\n",
    "operators = ['+', '*']\n",
    "input_ids = ['A', 'B', 'C', 'D'] \n",
    "init_values = [2,3,6]\n",
    "\n",
    "# generate trial data\n",
    "batchsize = 16\n",
    "def generate_step_trials(len_seq, scale):\n",
    "    seqs = generate_sequences(operators, input_ids, len_seq, init_values = init_values, rand = False)\n",
    "    trainset, testset = train_test_split(seqs, test_size=1/6)\n",
    "    train_inputs = convert_seq2inputs(trainset*scale, num_classes=13, seq_len=5)\n",
    "    test_inputs = convert_seq2inputs(testset*scale, num_classes=13, seq_len=5)\n",
    "    train_data = DataLoader(train_inputs, batch_size=batchsize, shuffle=True)\n",
    "    test_data = DataLoader(test_inputs, batch_size=batchsize, shuffle=True)\n",
    "    return train_data, test_data\n",
    "\n",
    "    \n",
    "# 1 step trials\n",
    "train_data1, test_data1 = generate_step_trials(1, 64)\n",
    "\n",
    "# 2 step trials\n",
    "train_data2, test_data2 = generate_step_trials(2, 8)\n",
    "\n",
    "# 3 step trials\n",
    "train_data3, test_data3 = generate_step_trials(3, 1)\n",
    "\n",
    "print('train 1: ', len(train_data1))\n",
    "print('test 1: ', len(test_data1))\n",
    "print('train 2: ', len(train_data2))\n",
    "print('test 2: ', len(test_data2))\n",
    "print('train 3: ', len(train_data3))\n",
    "print('test 3: ', len(test_data3))"
   ]
  },
  {
   "cell_type": "code",
   "execution_count": 126,
   "id": "dc5a88ea",
   "metadata": {},
   "outputs": [],
   "source": [
    "# Parameters\n",
    "\n",
    "num_classes = 13\n",
    "input_size = num_classes\n",
    "output_size = batchsize\n",
    "hidden_size = 20\n",
    "num_layers = 1\n",
    "learningRate = 0.005"
   ]
  },
  {
   "cell_type": "code",
   "execution_count": 130,
   "id": "4ddc749b",
   "metadata": {
    "scrolled": true
   },
   "outputs": [
    {
     "name": "stdout",
     "output_type": "stream",
     "text": [
      "### rep 0  ###\n",
      "cv rmse: 1.11 \n",
      "test accuracy: 0.992188 \n",
      "### rep 1  ###\n",
      "cv rmse: 1.15 \n",
      "test accuracy: 0.980469 \n",
      "### rep 2  ###\n",
      "cv rmse: 1.14 \n",
      "test accuracy: 0.976562 \n",
      "### rep 3  ###\n",
      "cv rmse: 1.14 \n",
      "test accuracy: 0.988281 \n",
      "### rep 4  ###\n",
      "cv rmse: 1.14 \n",
      "test accuracy: 0.988281 \n",
      "### rep 0  ###\n",
      "cv rmse: 0.57 \n",
      "cv rmse: 1.1 \n",
      "test accuracy: 0.992188 \n",
      "### rep 1  ###\n",
      "cv rmse: 0.58 \n",
      "cv rmse: 1.12 \n",
      "test accuracy: 0.992188 \n",
      "### rep 2  ###\n",
      "cv rmse: 0.57 \n",
      "cv rmse: 1.09 \n",
      "test accuracy: 0.984375 \n",
      "### rep 3  ###\n",
      "cv rmse: 0.58 \n",
      "cv rmse: 1.13 \n",
      "test accuracy: 0.972656 \n",
      "### rep 4  ###\n",
      "cv rmse: 0.57 \n",
      "cv rmse: 1.11 \n",
      "test accuracy: 0.980469 \n"
     ]
    }
   ],
   "source": [
    "# %%timeit -r1 -n1\n",
    "epochs = 50\n",
    "num_sims = 5\n",
    "\n",
    "## train on task 2\n",
    "losses_2step = []\n",
    "for j in range(num_sims):\n",
    "    print('### rep', j, ' ###')\n",
    "    model = OneStepRNN(input_size, output_size, hidden_size, num_layers)\n",
    "    criterion = nn.MSELoss()\n",
    "    optimizer = torch.optim.Adam(model.parameters(), lr=learningRate)\n",
    "    loss = run_cvrmse(model, train_data2, epochs)\n",
    "    losses_2step.append(loss)\n",
    "    test_acc_batch(model, test_data2, hidden_size)\n",
    "    \n",
    "# train on 1 step then 2 step task\n",
    "losses_1step_2step = []\n",
    "for j in range(num_sims):\n",
    "    print('### rep', j, ' ###')\n",
    "    model = OneStepRNN(input_size, output_size, hidden_size, num_layers)\n",
    "    criterion = nn.MSELoss()\n",
    "    optimizer = torch.optim.Adam(model.parameters(), lr=learningRate)\n",
    "    loss1 = run_cvrmse(model, train_data1, epochs)\n",
    "    loss2 = run_cvrmse(model, train_data2, epochs)\n",
    "    losses_1step_2step.append(loss1+loss2)\n",
    "    test_acc_batch(model, test_data2, hidden_size)"
   ]
  },
  {
   "cell_type": "code",
   "execution_count": 131,
   "id": "d63ad15e",
   "metadata": {},
   "outputs": [
    {
     "data": {
      "image/png": "[encoded data removed]",
      "text/plain": [
       "<Figure size 432x288 with 1 Axes>"
      ]
     },
     "metadata": {
      "needs_background": "light"
     },
     "output_type": "display_data"
    }
   ],
   "source": [
    "losses_12 = np.array(losses_1step_2step).T\n",
    "losses_2 = np.array(losses_2step).T\n",
    "\n",
    "NNplt.plotNN_losses([losses_12],\\\n",
    "                    labels = ['1 step pretrained'],\\\n",
    "                    colors = ['orange'])\n",
    "\n",
    "NNplt.plotNN_shifted([losses_2],\\\n",
    "                     labels = ['random'],\\\n",
    "                     colors = ['blue'],\\\n",
    "                     shift = 50)"
   ]
  },
  {
   "cell_type": "code",
   "execution_count": 118,
   "id": "57e15691",
   "metadata": {},
   "outputs": [
    {
     "data": {
      "image/png": "[encoded data removed]",
      "text/plain": [
       "<Figure size 432x288 with 1 Axes>"
      ]
     },
     "metadata": {
      "needs_background": "light"
     },
     "output_type": "display_data"
    }
   ],
   "source": [
    "losses_12 = np.array(losses_1step_2step).T\n",
    "losses_2 = np.array(losses_2step).T\n",
    "\n",
    "NNplt.plotNN_losses([losses_12],\\\n",
    "                    labels = ['1 step pretrained'],\\\n",
    "                    colors = ['orange'])\n",
    "\n",
    "NNplt.plotNN_shifted([losses_2],\\\n",
    "                     labels = ['random'],\\\n",
    "                     colors = ['blue'],\\\n",
    "                     shift = 100)\n"
   ]
  },
  {
   "cell_type": "markdown",
   "id": "823d62db",
   "metadata": {},
   "source": [
    "# Primitive: Cue"
   ]
  },
  {
   "cell_type": "code",
   "execution_count": null,
   "id": "da75d0fd",
   "metadata": {},
   "outputs": [],
   "source": [
    "# Generate data\n",
    "\n",
    "operators = ['+', '*']\n",
    "input_ids = ['A', 'B', 'C', 'D'] \n",
    "init_values = [2,3,6]\n",
    "\n",
    "\n",
    "seqs = generate_sequences(operators, input_ids, len_seq, init_values = init_values, rand = False)\n",
    "\n",
    "\n",
    "# generate trial data\n",
    "batchsize = 16\n",
    "def generate_step_trials(len_seq, scale):\n",
    "    seqs = generate_sequences(operators, input_ids, len_seq, init_values = init_values, rand = False)\n",
    "    trainset, testset = train_test_split(seqs, test_size=1/6)\n",
    "    train_inputs = convert_seq2inputs(trainset*scale, num_classes=13, seq_len=5)\n",
    "    test_inputs = convert_seq2inputs(testset*scale, num_classes=13, seq_len=5)\n",
    "    train_data = DataLoader(train_inputs, batch_size=batchsize, shuffle=True)\n",
    "    test_data = DataLoader(test_inputs, batch_size=batchsize, shuffle=True)\n",
    "    return train_data, test_data\n",
    "\n",
    "    \n",
    "# 1 step trials\n",
    "train_data1, test_data1 = generate_step_trials(1, 64)\n",
    "\n",
    "# 2 step trials\n",
    "train_data2, test_data2 = generate_step_trials(2, 8)\n",
    "\n",
    "# 3 step trials\n",
    "train_data3, test_data3 = generate_step_trials(3, 1)\n",
    "\n",
    "print('train 1: ', len(train_data1))\n",
    "print('test 1: ', len(test_data1))\n",
    "print('train 2: ', len(train_data2))\n",
    "print('test 2: ', len(test_data2))\n",
    "print('train 3: ', len(train_data3))\n",
    "print('test 3: ', len(test_data3))"
   ]
  },
  {
   "cell_type": "code",
   "execution_count": null,
   "id": "5a175e95",
   "metadata": {},
   "outputs": [],
   "source": []
  }
 ],
 "metadata": {
  "kernelspec": {
   "display_name": "Python 3",
   "language": "python",
   "name": "python3"
  },
  "language_info": {
   "codemirror_mode": {
    "name": "ipython",
    "version": 3
   },
   "file_extension": ".py",
   "mimetype": "text/x-python",
   "name": "python",
   "nbconvert_exporter": "python",
   "pygments_lexer": "ipython3",
   "version": "3.8.8"
  }
 },
 "nbformat": 4,
 "nbformat_minor": 5
}
