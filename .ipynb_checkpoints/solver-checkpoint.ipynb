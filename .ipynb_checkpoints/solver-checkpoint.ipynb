{
 "cells": [
  {
   "cell_type": "code",
   "execution_count": 1,
   "id": "bf9169f8",
   "metadata": {},
   "outputs": [],
   "source": [
    "\"\"\" Solver. \n",
    "Takes trials and infers value of symbols.\n",
    "\"\"\""
   ]
  },
  {
   "cell_type": "code",
   "execution_count": 6,
   "id": "a1282f35",
   "metadata": {},
   "outputs": [],
   "source": [
    "import numpy as np\n",
    "import random\n",
    "from functions.rnn_cryptic import generate_sequences, convert_seq2inputs,\\\n",
    "                                  pad_seqs_2step, pad_seqs_1step, calculate_output, onehot2seq \n"
   ]
  },
  {
   "cell_type": "code",
   "execution_count": 424,
   "id": "b7ad36a4",
   "metadata": {},
   "outputs": [],
   "source": [
    "def seq2str(seqs):\n",
    "    A = []\n",
    "    B = []\n",
    "    for seq in seqs:\n",
    "        a = ''\n",
    "        for elem in seq:\n",
    "            if type(elem) is str:\n",
    "                a+= elem\n",
    "            elif type(elem) is tuple:\n",
    "                for el in elem:\n",
    "                    a+=el\n",
    "            else:\n",
    "                B.append(elem)\n",
    "        A.append(a)\n",
    "            \n",
    "    return A, B\n",
    "\n",
    "def coef_mat(trials, rows, cols, unique_chars):\n",
    "    res = np.zeros([rows, cols])\n",
    "    for i, t in enumerate(trials):\n",
    "        op = 1\n",
    "        for e in t:\n",
    "            if e == '+':\n",
    "                op = 1\n",
    "            elif e == '-':\n",
    "                op = -1\n",
    "            else:\n",
    "                res[i, unique_chars.index(e)] += op*1\n",
    "    return res\n",
    "\n",
    "def get_mats(seqs):\n",
    "    \n",
    "    trials, ans = seq2str(seqs)\n",
    "    tot_chars = ''.join(ch for ch in ''.join(trials) if ch.isalnum())\n",
    "    unique_chars = list(set(tot_chars))\n",
    "    rows = len(seqs)\n",
    "    cols = len(unique_chars)\n",
    "    res = coef_mat(trials, rows, cols, unique_chars)\n",
    "    \n",
    "    return res, ans\n",
    "\n",
    "def get_rank(seqs):\n",
    "    \n",
    "    trials, ans = seq2str(seqs)\n",
    "    tot_chars = ''.join(ch for ch in ''.join(trials) if ch.isalnum())\n",
    "    unique_chars = list(set(tot_chars))\n",
    "    rows = len(seqs)\n",
    "    cols = len(unique_chars)\n",
    "    res = coef_mat(trials, rows, cols, unique_chars)\n",
    "    \n",
    "    rank = np.linalg.matrix_rank(res)\n",
    "    print('rank is: ', rank, ' no. unknowns is: ', cols)\n",
    "    if rank == cols:\n",
    "        print('matrix is determined\\n')\n",
    "        out = 1\n",
    "    elif rank < cols:\n",
    "        print('matrix is underdetermined\\n')\n",
    "        out = 0\n",
    "    return out\n",
    "\n",
    "def change_padder(seqs, cue_dict, xval):\n",
    "    \"\"\" changes value of X from zero to a new value\n",
    "        and recalculates sequence output\"\"\"\n",
    "    cue_dict['X'] = xval\n",
    "    inps = [s[:-1] for s in seqs]\n",
    "    for inp in inps:\n",
    "        inp.append(calculate_output(inp, cue_dict, bidmas = False))\n",
    "\n",
    "    return inps, cue_dict\n",
    "\n",
    "          "
   ]
  },
  {
   "cell_type": "code",
   "execution_count": 496,
   "id": "2f93c2bc",
   "metadata": {},
   "outputs": [],
   "source": [
    "num_inputs = 4\n",
    "total_syms = ['A','B', 'C', 'D', 'E', 'F', 'G', 'H', 'I', 'J', 'K', 'L', 'M', 'N', 'O', 'P']\n",
    "all_syms = total_syms[:num_inputs]\n",
    "all_input_vals = list(np.arange(2,18))\n",
    "input_vals = random.sample(all_input_vals,num_inputs)\n",
    "# randomly select values for each input\n",
    "cue_dict = {'X':0}\n",
    "for i, s in enumerate(all_syms):\n",
    "    cue_dict[s] = input_vals[i]\n",
    "# generate trials\n",
    "p_add = pad_seqs_1step(all_syms, cue_dict)\n",
    "p_sub = pad_seqs_1step(all_syms, cue_dict, padder=('-','X'))\n",
    "train_sims = all_syms[1:]\n",
    "trainseqs_add = generate_sequences(['+'], train_sims, len_seq = 1, cue_dict = cue_dict, init_values = train_sims)\n",
    "testseqs_add = generate_sequences(['+'], all_syms, len_seq = 1, cue_dict = cue_dict, init_values = all_syms)\n",
    "trainseqs_sub = generate_sequences(['-'], train_sims, len_seq = 1, cue_dict = cue_dict, init_values = train_sims)\n",
    "testseqs_sub = generate_sequences(['-'], all_syms, len_seq = 1, cue_dict = cue_dict, init_values = all_syms)\n",
    "\n",
    "# remove any trian trials from test set\n",
    "for val in trainseqs_add:\n",
    "    if val in testseqs_add:\n",
    "        testseqs_add.remove(val)\n",
    "for val in trainseqs_sub:\n",
    "    if val in testseqs_sub:\n",
    "        testseqs_sub.remove(val)\n",
    "\n",
    "# randomly select a test trial to train non_primitive on\n",
    "rand_trials = random.sample(testseqs_add, 2)\n",
    "trainseqs_add_np = trainseqs_add + rand_trials\n",
    "for v in rand_trials:\n",
    "    testseqs_add.remove(v)\n",
    "rand_trials = random.sample(testseqs_sub, 2)\n",
    "trainseqs_sub_np = trainseqs_sub + rand_trials\n",
    "for v in rand_trials:\n",
    "    testseqs_sub.remove(v)\n"
   ]
  },
  {
   "cell_type": "code",
   "execution_count": 497,
   "id": "930e0ed6",
   "metadata": {},
   "outputs": [
    {
     "data": {
      "text/plain": [
       "[['B', ('+', 'B'), 4],\n",
       " ['B', ('+', 'C'), 10],\n",
       " ['B', ('+', 'D'), 17],\n",
       " ['C', ('+', 'B'), 10],\n",
       " ['C', ('+', 'C'), 16],\n",
       " ['C', ('+', 'D'), 23],\n",
       " ['D', ('+', 'B'), 17],\n",
       " ['D', ('+', 'C'), 23],\n",
       " ['D', ('+', 'D'), 30]]"
      ]
     },
     "execution_count": 497,
     "metadata": {},
     "output_type": "execute_result"
    }
   ],
   "source": [
    "trainseqs_add"
   ]
  },
  {
   "cell_type": "code",
   "execution_count": 500,
   "id": "1659adf9",
   "metadata": {},
   "outputs": [
    {
     "name": "stdout",
     "output_type": "stream",
     "text": [
      "primitive training subtraction, with no. symbols =  4\n",
      "rank is:  5  no. unknowns is:  5\n",
      "matrix is determined\n",
      "\n",
      "primitive training addition, with no. symbols =  4\n",
      "rank is:  5  no. unknowns is:  5\n",
      "matrix is determined\n",
      "\n",
      "without primitive training subtraction, with no. symbols =  4\n",
      "rank is:  4  no. unknowns is:  5\n",
      "matrix is underdetermined\n",
      "\n",
      "without primitive training addition, with no. symbols =  4\n",
      "rank is:  4  no. unknowns is:  5\n",
      "matrix is underdetermined\n",
      "\n"
     ]
    },
    {
     "data": {
      "text/plain": [
       "0"
      ]
     },
     "execution_count": 500,
     "metadata": {},
     "output_type": "execute_result"
    }
   ],
   "source": [
    "print('primitive training subtraction, with no. symbols = ', num_inputs)\n",
    "get_rank(pad_seqs_2step(trainseqs_sub, padder=('-','X')) + p_sub)\n",
    "\n",
    "print('primitive training addition, with no. symbols = ', num_inputs)\n",
    "get_rank(pad_seqs_2step(trainseqs_add, padder=('+','X')) + p_sub)\n",
    "\n",
    "print('without primitive training subtraction, with no. symbols = ', num_inputs)\n",
    "get_rank(pad_seqs_2step(trainseqs_sub_np, padder=('-','X')))\n",
    "\n",
    "print('without primitive training addition, with no. symbols = ', num_inputs)\n",
    "get_rank(pad_seqs_2step(trainseqs_add_np, padder=('+','X')))"
   ]
  },
  {
   "cell_type": "code",
   "execution_count": 501,
   "id": "f0772637",
   "metadata": {},
   "outputs": [
    {
     "data": {
      "text/plain": [
       "[['B', ('-', 'A'), ('-', 'A'), -4],\n",
       " ['B', ('-', 'A'), ('-', 'B'), -3],\n",
       " ['B', ('-', 'A'), ('-', 'C'), -9],\n",
       " ['B', ('-', 'A'), ('-', 'D'), -16],\n",
       " ['B', ('-', 'A'), ('-', 'X'), -1],\n",
       " ['B', ('-', 'B'), ('-', 'A'), -3],\n",
       " ['B', ('-', 'B'), ('-', 'B'), -2],\n",
       " ['B', ('-', 'B'), ('-', 'C'), -8],\n",
       " ['B', ('-', 'B'), ('-', 'D'), -15],\n",
       " ['B', ('-', 'B'), ('-', 'X'), 0],\n",
       " ['B', ('-', 'C'), ('-', 'A'), -9],\n",
       " ['B', ('-', 'C'), ('-', 'B'), -8],\n",
       " ['B', ('-', 'C'), ('-', 'C'), -14],\n",
       " ['B', ('-', 'C'), ('-', 'D'), -21],\n",
       " ['B', ('-', 'C'), ('-', 'X'), -6],\n",
       " ['B', ('-', 'D'), ('-', 'A'), -16],\n",
       " ['B', ('-', 'D'), ('-', 'B'), -15],\n",
       " ['B', ('-', 'D'), ('-', 'C'), -21],\n",
       " ['B', ('-', 'D'), ('-', 'D'), -28],\n",
       " ['B', ('-', 'D'), ('-', 'X'), -13],\n",
       " ['B', ('-', 'X'), ('-', 'A'), -1],\n",
       " ['B', ('-', 'X'), ('-', 'B'), 0],\n",
       " ['B', ('-', 'X'), ('-', 'C'), -6],\n",
       " ['B', ('-', 'X'), ('-', 'D'), -13],\n",
       " ['B', ('-', 'X'), ('-', 'X'), 2],\n",
       " ['C', ('-', 'A'), ('-', 'A'), 2],\n",
       " ['C', ('-', 'A'), ('-', 'B'), 3],\n",
       " ['C', ('-', 'A'), ('-', 'C'), -3],\n",
       " ['C', ('-', 'A'), ('-', 'D'), -10],\n",
       " ['C', ('-', 'A'), ('-', 'X'), 5],\n",
       " ['C', ('-', 'B'), ('-', 'A'), 3],\n",
       " ['C', ('-', 'B'), ('-', 'B'), 4],\n",
       " ['C', ('-', 'B'), ('-', 'C'), -2],\n",
       " ['C', ('-', 'B'), ('-', 'D'), -9],\n",
       " ['C', ('-', 'B'), ('-', 'X'), 6],\n",
       " ['C', ('-', 'C'), ('-', 'A'), -3],\n",
       " ['C', ('-', 'C'), ('-', 'B'), -2],\n",
       " ['C', ('-', 'C'), ('-', 'C'), -8],\n",
       " ['C', ('-', 'C'), ('-', 'D'), -15],\n",
       " ['C', ('-', 'C'), ('-', 'X'), 0],\n",
       " ['C', ('-', 'D'), ('-', 'A'), -10],\n",
       " ['C', ('-', 'D'), ('-', 'B'), -9],\n",
       " ['C', ('-', 'D'), ('-', 'C'), -15],\n",
       " ['C', ('-', 'D'), ('-', 'D'), -22],\n",
       " ['C', ('-', 'D'), ('-', 'X'), -7],\n",
       " ['C', ('-', 'X'), ('-', 'A'), 5],\n",
       " ['C', ('-', 'X'), ('-', 'B'), 6],\n",
       " ['C', ('-', 'X'), ('-', 'C'), 0],\n",
       " ['C', ('-', 'X'), ('-', 'D'), -7],\n",
       " ['C', ('-', 'X'), ('-', 'X'), 8],\n",
       " ['D', ('-', 'A'), ('-', 'A'), 9],\n",
       " ['D', ('-', 'A'), ('-', 'B'), 10],\n",
       " ['D', ('-', 'A'), ('-', 'C'), 4],\n",
       " ['D', ('-', 'A'), ('-', 'D'), -3],\n",
       " ['D', ('-', 'A'), ('-', 'X'), 12],\n",
       " ['D', ('-', 'B'), ('-', 'A'), 10],\n",
       " ['D', ('-', 'B'), ('-', 'B'), 11],\n",
       " ['D', ('-', 'B'), ('-', 'C'), 5],\n",
       " ['D', ('-', 'B'), ('-', 'D'), -2],\n",
       " ['D', ('-', 'B'), ('-', 'X'), 13],\n",
       " ['D', ('-', 'C'), ('-', 'A'), 4],\n",
       " ['D', ('-', 'C'), ('-', 'B'), 5],\n",
       " ['D', ('-', 'C'), ('-', 'C'), -1],\n",
       " ['D', ('-', 'C'), ('-', 'D'), -8],\n",
       " ['D', ('-', 'C'), ('-', 'X'), 7],\n",
       " ['D', ('-', 'D'), ('-', 'A'), -3],\n",
       " ['D', ('-', 'D'), ('-', 'B'), -2],\n",
       " ['D', ('-', 'D'), ('-', 'C'), -8],\n",
       " ['D', ('-', 'D'), ('-', 'D'), -15],\n",
       " ['D', ('-', 'D'), ('-', 'X'), 0],\n",
       " ['D', ('-', 'X'), ('-', 'A'), 12],\n",
       " ['D', ('-', 'X'), ('-', 'B'), 13],\n",
       " ['D', ('-', 'X'), ('-', 'C'), 7],\n",
       " ['D', ('-', 'X'), ('-', 'D'), 0],\n",
       " ['D', ('-', 'X'), ('-', 'X'), 15]]"
      ]
     },
     "execution_count": 501,
     "metadata": {},
     "output_type": "execute_result"
    }
   ],
   "source": [
    "gg = generate_sequences(['-'], all_syms+['X'], len_seq = 2, cue_dict = cue_dict, init_values = train_sims)\n",
    "gg"
   ]
  },
  {
   "cell_type": "code",
   "execution_count": 502,
   "id": "b0be83f1",
   "metadata": {},
   "outputs": [
    {
     "name": "stdout",
     "output_type": "stream",
     "text": [
      "rank is:  5  no. unknowns is:  5\n",
      "matrix is determined\n",
      "\n"
     ]
    },
    {
     "data": {
      "text/plain": [
       "1"
      ]
     },
     "execution_count": 502,
     "metadata": {},
     "output_type": "execute_result"
    }
   ],
   "source": [
    "get_rank(gg)"
   ]
  },
  {
   "cell_type": "code",
   "execution_count": 432,
   "id": "37582c31",
   "metadata": {},
   "outputs": [],
   "source": [
    "trainseqs_add = generate_sequences(['+'], train_sims, len_seq = 2, cue_dict = cue_dict, init_values = train_sims)\n"
   ]
  },
  {
   "cell_type": "code",
   "execution_count": 433,
   "id": "607dd824",
   "metadata": {},
   "outputs": [
    {
     "name": "stdout",
     "output_type": "stream",
     "text": [
      "rank is:  3  no. unknowns is:  3\n",
      "matrix is determined\n",
      "\n"
     ]
    },
    {
     "data": {
      "text/plain": [
       "1"
      ]
     },
     "execution_count": 433,
     "metadata": {},
     "output_type": "execute_result"
    }
   ],
   "source": [
    "get_rank(trainseqs_add)"
   ]
  },
  {
   "cell_type": "code",
   "execution_count": 222,
   "id": "cc781bd3",
   "metadata": {},
   "outputs": [
    {
     "data": {
      "text/plain": [
       "'E+E'"
      ]
     },
     "execution_count": 222,
     "metadata": {},
     "output_type": "execute_result"
    }
   ],
   "source": [
    "t"
   ]
  },
  {
   "cell_type": "code",
   "execution_count": 223,
   "id": "10540df4",
   "metadata": {},
   "outputs": [
    {
     "data": {
      "text/plain": [
       "array([[0., 0., 2., 0.],\n",
       "       [0., 1., 1., 0.],\n",
       "       [1., 0., 1., 0.],\n",
       "       [0., 0., 1., 1.],\n",
       "       [0., 1., 1., 0.],\n",
       "       [0., 2., 0., 0.],\n",
       "       [1., 1., 0., 0.],\n",
       "       [0., 1., 0., 1.],\n",
       "       [1., 0., 1., 0.],\n",
       "       [1., 1., 0., 0.],\n",
       "       [2., 0., 0., 0.],\n",
       "       [1., 0., 0., 1.],\n",
       "       [0., 0., 1., 1.],\n",
       "       [0., 1., 0., 1.],\n",
       "       [1., 0., 0., 1.],\n",
       "       [0., 0., 0., 2.]])"
      ]
     },
     "execution_count": 223,
     "metadata": {},
     "output_type": "execute_result"
    }
   ],
   "source": [
    "res"
   ]
  },
  {
   "cell_type": "code",
   "execution_count": 224,
   "id": "5d472110",
   "metadata": {},
   "outputs": [
    {
     "data": {
      "text/plain": [
       "['D', 'C', 'B', 'E']"
      ]
     },
     "execution_count": 224,
     "metadata": {},
     "output_type": "execute_result"
    }
   ],
   "source": [
    "unique_chars"
   ]
  },
  {
   "cell_type": "code",
   "execution_count": 225,
   "id": "19f07ba4",
   "metadata": {},
   "outputs": [
    {
     "data": {
      "text/plain": [
       "[12, 19, 9, 21, 19, 26, 16, 28, 9, 16, 6, 18, 21, 28, 18, 30]"
      ]
     },
     "execution_count": 225,
     "metadata": {},
     "output_type": "execute_result"
    }
   ],
   "source": [
    "ans"
   ]
  },
  {
   "cell_type": "code",
   "execution_count": 226,
   "id": "89207d68",
   "metadata": {},
   "outputs": [],
   "source": [
    "A = res\n",
    "B = ans\n",
    "A_pinv = np.linalg.pinv(A) \n",
    "x = np.dot(A_pinv,B)\n"
   ]
  },
  {
   "cell_type": "code",
   "execution_count": 227,
   "id": "719fd8ac",
   "metadata": {},
   "outputs": [
    {
     "data": {
      "text/plain": [
       "array([ 3., 13.,  6., 15.])"
      ]
     },
     "execution_count": 227,
     "metadata": {},
     "output_type": "execute_result"
    }
   ],
   "source": [
    "x"
   ]
  },
  {
   "cell_type": "code",
   "execution_count": 228,
   "id": "06550b34",
   "metadata": {},
   "outputs": [
    {
     "data": {
      "text/plain": [
       "{'A': 8, 'B': 6, 'C': 13, 'D': 3, 'E': 15}"
      ]
     },
     "execution_count": 228,
     "metadata": {},
     "output_type": "execute_result"
    }
   ],
   "source": [
    "cue_dict"
   ]
  },
  {
   "cell_type": "code",
   "execution_count": 229,
   "id": "9b32e094",
   "metadata": {},
   "outputs": [
    {
     "data": {
      "text/plain": [
       "['D', 'C', 'B', 'E']"
      ]
     },
     "execution_count": 229,
     "metadata": {},
     "output_type": "execute_result"
    }
   ],
   "source": [
    "unique_chars"
   ]
  },
  {
   "cell_type": "code",
   "execution_count": null,
   "id": "7cd1417c",
   "metadata": {},
   "outputs": [],
   "source": []
  }
 ],
 "metadata": {
  "kernelspec": {
   "display_name": "Python 3 (ipykernel)",
   "language": "python",
   "name": "python3"
  },
  "language_info": {
   "codemirror_mode": {
    "name": "ipython",
    "version": 3
   },
   "file_extension": ".py",
   "mimetype": "text/x-python",
   "name": "python",
   "nbconvert_exporter": "python",
   "pygments_lexer": "ipython3",
   "version": "3.8.8"
  }
 },
 "nbformat": 4,
 "nbformat_minor": 5
}
