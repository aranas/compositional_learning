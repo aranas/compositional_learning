{
 "cells": [
  {
   "cell_type": "code",
   "execution_count": 57,
   "id": "01751add",
   "metadata": {},
   "outputs": [],
   "source": [
    "import itertools\n",
    "import copy\n",
    "import collections\n",
    "import numpy as np\n",
    "from numpy.random import default_rng\n",
    "import matplotlib.pyplot as plt\n",
    "import torch\n",
    "from torch.utils.data import Dataset, DataLoader, random_split\n",
    "import torch.nn as nn\n",
    "import pickle\n",
    "import random\n",
    "\n",
    "######################\n",
    "### Generate sequences\n",
    "######################\n",
    "\n",
    "convert_inputcue = {'A': 1, \n",
    "                    'B': 2,\n",
    "                    'C': 3,\n",
    "                    'D': 4,\n",
    "                    'E': 5, \n",
    "                    'F': 6,\n",
    "                    'G': 7,\n",
    "                    'H': 8}\n",
    "\n",
    "convert_operation = {'+': 9,\n",
    "                     '*': 10,\n",
    "                     '-': 11,\n",
    "                     '%': 12}\n",
    "\n",
    "default_cues = {'A': 2, \n",
    "                'B': 3,\n",
    "                'C': 5,\n",
    "                'D': 7,\n",
    "                'E': 1, \n",
    "                'F': 4,\n",
    "                'G': 9,\n",
    "                'H': 11}\n",
    "\n",
    "def generate_trials(operators, input_ids, len_seq,\\\n",
    "                    init_values, rand, init_max, rep):\n",
    "    \n",
    "    ''' This function defines all possible permutations of initial value & sequence of input cues and operators.\n",
    "    Args: \n",
    "        operators, input_ids, init_values: lists of operator, input cue and initial values\n",
    "        len_seq: number of operation and input pairs per sequence\n",
    "        replacement: whether an operation/input can be repeated in a sequence\n",
    "    Returns:\n",
    "        Output is an array of shape n X len_seq+1.\n",
    "        Each row is one of n unique ordered permutations.\n",
    "        First column indicates the initial value at t=0.\n",
    "        Every following column contains a tuple, where the first position indicates\n",
    "        the operator and the second position indicates the input cue.\n",
    "        Final column indicates the outcome of the opperatioons on the initial value'''\n",
    "    \n",
    "    seq = []\n",
    "    combi_operators = list(itertools.product(operators, repeat=len_seq))*rep\n",
    "    if rand:\n",
    "        for op in combi_operators:\n",
    "            cue = random.choices(input_ids, k=2)\n",
    "            seq.append([random.choice(range(init_max)),\n",
    "                        *zip(tuple(op), tuple(cue))]) #group per time point t\n",
    "        \n",
    "    else:\n",
    "        combi_inputcue = list(itertools.product(input_ids, repeat=len_seq))\n",
    "        for init in init_values:\n",
    "            for cue in combi_inputcue:\n",
    "                for op in combi_operators:\n",
    "                    seq.append([init,\n",
    "                                *zip(tuple(op), cue)]) #group per time point t\n",
    "\n",
    "    return seq\n",
    "\n",
    "def operate_op(currval, step_tuple, cue_dict):\n",
    "    \"\"\" Function applies operations to input value\n",
    "    Args:\n",
    "        ...\n",
    "    Returns:\n",
    "        ...\n",
    "    \"\"\"\n",
    "    if not cue_dict:\n",
    "        nextval = step_tuple[1]\n",
    "    else:\n",
    "        nextval = cue_dict[step_tuple[1]]\n",
    "    if step_tuple[0] == '+': # add\n",
    "        currval = currval + nextval\n",
    "    elif step_tuple[0] == '*': # multiply\n",
    "        currval = currval * nextval\n",
    "    return currval\n",
    "\n",
    "def calculate_output(step_tuple, cue_dict):\n",
    "    \"\"\" Function applies operations to input value\n",
    "    Args:\n",
    "        ...\n",
    "    Returns:\n",
    "        ...\n",
    "    \"\"\"\n",
    "    curr_val = step_tuple[0]\n",
    "    for i in range(1,len(step_tuple)):\n",
    "        curr_val = operate_op(curr_val, step_tuple[i], cue_dict)\n",
    "    return curr_val\n",
    "\n",
    "\n",
    "def generate_sequences(operators, input_ids, len_seq, cue_dict = default_cues,\\\n",
    "                       init_values = None, rand=True, init_max = None, rep = 1):\n",
    "    \"\"\" Function applies operations to input value\n",
    "    Args:\n",
    "        ...\n",
    "    Returns:\n",
    "        ...\n",
    "    \"\"\"\n",
    "    all_trials = generate_trials(operators, input_ids, len_seq, init_values, rand, init_max, rep)\n",
    "    for trial in all_trials:\n",
    "        trial_output = calculate_output(trial, cue_dict)\n",
    "        trial.append(trial_output)\n",
    "    \n",
    "    return(all_trials)\n",
    "    \n",
    "##################################################\n",
    "## Transform data to rnn data\n",
    "##################################################\n",
    "\n",
    "\n",
    "class SequenceData(Dataset):\n",
    "    def __init__(self, data, labels, seq_len, stages, cont_out, primitive_type):\n",
    "\n",
    "        self.data = convert_seq2onehot(data, stages, primitive_type)\n",
    "        self.seq_len = seq_len\n",
    "        if cont_out:\n",
    "            self.labels = labels\n",
    "        else:\n",
    "            self.labels = convert_outs2labels(labels)\n",
    "            \n",
    "    def __len__(self):\n",
    "        return len(self.data)\n",
    "\n",
    "    def __getitem__(self, index):\n",
    "        sequence = self.data[index,:].astype(np.float32)\n",
    "        out_state = np.array(self.labels[index]).astype(np.float32)\n",
    "        return sequence, out_state\n",
    "    \n",
    "    \n",
    "def convert_seq2inputs(sequences, seq_len=5, stages = False, cont_out = True, num_classes=13, primitive_type = False):\n",
    "    '''\n",
    "    Function converts sequences as they are generated by generate_experiment_lists.py\n",
    "    into input to be fed into RNN (one-hote encoded)\n",
    "    Parameters:\n",
    "        sequences: list of trials with format : [initial_value, (operation, input_cue) ... , output_value]\n",
    "        num_classes: total number of features for onehot encoding\n",
    "        seq_len: number of time steps per sequence\n",
    "        stages: if False each unit is a time step, if True each tuple is a time step\n",
    "        cont_out: if True the output is continuous, if False output is categorical\n",
    "    ''' \n",
    "    seq = [sublist[:-1] for sublist in sequences]\n",
    "    out = [sublist[-1] for sublist in sequences]\n",
    "    \n",
    "    seqdata = SequenceData(seq, out, seq_len, stages, cont_out, primitive_type)\n",
    "\n",
    "    return seqdata\n",
    "\n",
    "\n",
    "def convert_seq2onehot(seq, stages, primitive_type, num_classes=13):\n",
    "    \"\"\" Function ...\n",
    "    Args:\n",
    "        ...\n",
    "    Returns:\n",
    "        ...\n",
    "    \"\"\"\n",
    "    data = []\n",
    "    for trial in seq:\n",
    "        trial_data = []\n",
    "        for i,t in enumerate(trial):\n",
    "            if i==0:\n",
    "                init = torch.zeros(num_classes)\n",
    "                init[0] = t\n",
    "                trial_data.append(init)\n",
    "                continue\n",
    "            else:\n",
    "                op = torch.tensor(convert_operation[t[0]])\n",
    "                op = torch.nn.functional.one_hot(op, num_classes=num_classes)\n",
    "                if not primitive_type:\n",
    "                    inputcue = torch.tensor(convert_inputcue[t[1]])\n",
    "                    inputcue = torch.nn.functional.one_hot(inputcue, num_classes=num_classes)\n",
    "                elif primitive_type == 'op':\n",
    "                    inputcue = torch.zeros(num_classes)\n",
    "                    inputcue[0] = t[1]\n",
    "                if stages:\n",
    "                    op_cue = op + inputcue\n",
    "                    trial_data.append(op_cue)\n",
    "                else:\n",
    "                    trial_data.append(op)\n",
    "                    trial_data.append(inputcue)\n",
    "\n",
    "                    \n",
    "        data.append(torch.stack(trial_data))\n",
    "        \n",
    "    data = torch.stack(data,dim=0) #combine into tensor of shape n_trials X n_time_steps X inputvector_size\n",
    "    data = data.numpy()\n",
    "    \n",
    "    return data\n",
    "\n",
    "\n",
    "def convert_outs2labels(outputs, num_outs=500):\n",
    "    \"\"\" Function ...\n",
    "    Args:\n",
    "        ...\n",
    "    Returns:\n",
    "        ...\n",
    "    \"\"\"\n",
    "    all_outs = []\n",
    "    for out in outputs:\n",
    "        out = torch.tensor(out)\n",
    "        onehot_out = torch.nn.functional.one_hot(out, num_classes = num_outs)\n",
    "        all_outs.append(onehot_out)\n",
    "    return all_outs\n"
   ]
  },
  {
   "cell_type": "code",
   "execution_count": 58,
   "id": "df53559b",
   "metadata": {},
   "outputs": [],
   "source": [
    "operators = ['*', '+']\n",
    "input_ids = ['A', 'B', 'C', 'D']"
   ]
  },
  {
   "cell_type": "code",
   "execution_count": 61,
   "id": "46e09ce7",
   "metadata": {},
   "outputs": [
    {
     "data": {
      "text/plain": [
       "[[7, ('*', 'B'), ('*', 'B'), 63],\n",
       " [2, ('*', 'B'), ('+', 'A'), 8],\n",
       " [7, ('+', 'D'), ('*', 'A'), 28],\n",
       " [2, ('+', 'D'), ('+', 'C'), 14],\n",
       " [5, ('*', 'C'), ('*', 'A'), 50],\n",
       " [6, ('*', 'B'), ('+', 'C'), 23],\n",
       " [1, ('+', 'D'), ('*', 'C'), 40],\n",
       " [3, ('+', 'C'), ('+', 'A'), 10],\n",
       " [4, ('*', 'B'), ('*', 'A'), 24],\n",
       " [7, ('*', 'B'), ('+', 'B'), 24],\n",
       " [7, ('+', 'C'), ('*', 'C'), 60],\n",
       " [1, ('+', 'B'), ('+', 'C'), 9]]"
      ]
     },
     "execution_count": 61,
     "metadata": {},
     "output_type": "execute_result"
    }
   ],
   "source": [
    "generate_sequences(operators, input_ids, len_seq, init_max = 8, rep = 3)"
   ]
  },
  {
   "cell_type": "code",
   "execution_count": 31,
   "id": "085cd0ff",
   "metadata": {},
   "outputs": [],
   "source": [
    "init_values = [1,2]"
   ]
  },
  {
   "cell_type": "code",
   "execution_count": 4,
   "id": "0a9e9351",
   "metadata": {},
   "outputs": [],
   "source": [
    "operators = ['x', '/'] \n",
    "input_ids = ['a', 'b', 'c']\n",
    "len_seq = 2"
   ]
  },
  {
   "cell_type": "code",
   "execution_count": 8,
   "id": "8c06976b",
   "metadata": {},
   "outputs": [],
   "source": [
    "combi_operators = list(itertools.product(operators, repeat=len_seq))"
   ]
  },
  {
   "cell_type": "code",
   "execution_count": 9,
   "id": "a8338ff6",
   "metadata": {},
   "outputs": [
    {
     "data": {
      "text/plain": [
       "[('x', 'x'), ('x', '/'), ('/', 'x'), ('/', '/')]"
      ]
     },
     "execution_count": 9,
     "metadata": {},
     "output_type": "execute_result"
    }
   ],
   "source": [
    "combi_operators"
   ]
  },
  {
   "cell_type": "code",
   "execution_count": null,
   "id": "04e3894e",
   "metadata": {},
   "outputs": [],
   "source": [
    "combi_inputcues = "
   ]
  },
  {
   "cell_type": "code",
   "execution_count": 26,
   "id": "50ce1073",
   "metadata": {},
   "outputs": [
    {
     "data": {
      "text/plain": [
       "[('c', 'b'), ('b', 'a'), ('b', 'b'), ('c', 'a')]"
      ]
     },
     "execution_count": 26,
     "metadata": {},
     "output_type": "execute_result"
    }
   ],
   "source": [
    "[tuple(random.choices(input_ids, k=2)) for i in combi_operators]"
   ]
  },
  {
   "cell_type": "code",
   "execution_count": 35,
   "id": "d52478a2",
   "metadata": {},
   "outputs": [],
   "source": [
    "init_max = 5"
   ]
  },
  {
   "cell_type": "code",
   "execution_count": 36,
   "id": "87f0191d",
   "metadata": {},
   "outputs": [
    {
     "data": {
      "text/plain": [
       "[0, 2, 2, 1, 2, 1]"
      ]
     },
     "execution_count": 36,
     "metadata": {},
     "output_type": "execute_result"
    }
   ],
   "source": [
    "random.choices(range(init_max), k = 6)"
   ]
  },
  {
   "cell_type": "code",
   "execution_count": null,
   "id": "536aa062",
   "metadata": {},
   "outputs": [],
   "source": []
  }
 ],
 "metadata": {
  "kernelspec": {
   "display_name": "Python 3",
   "language": "python",
   "name": "python3"
  },
  "language_info": {
   "codemirror_mode": {
    "name": "ipython",
    "version": 3
   },
   "file_extension": ".py",
   "mimetype": "text/x-python",
   "name": "python",
   "nbconvert_exporter": "python",
   "pygments_lexer": "ipython3",
   "version": "3.8.8"
  }
 },
 "nbformat": 4,
 "nbformat_minor": 5
}
