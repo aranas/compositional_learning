{
 "cells": [
  {
   "cell_type": "code",
   "execution_count": 1,
   "id": "b8a7691a",
   "metadata": {},
   "outputs": [],
   "source": [
    "import itertools\n",
    "import copy\n",
    "import numpy as np\n",
    "import matplotlib.pyplot as plt\n",
    "import torch\n",
    "from torch.utils.data import Dataset, DataLoader, random_split\n",
    "import torch.nn as nn\n",
    "import pickle\n",
    "import random\n",
    "from sklearn.model_selection import train_test_split"
   ]
  },
  {
   "cell_type": "code",
   "execution_count": 10,
   "id": "0773602a",
   "metadata": {},
   "outputs": [],
   "source": [
    "# save \n",
    "savepath = '../results/position_pretraining_080123/'\n",
    "\n",
    "with open(savepath + 'loss_1pos_1_3', 'rb') as file:\n",
    "    loss13 = pickle.load(file)\n",
    "    \n",
    "with open(savepath + 'loss_1pos_3', 'rb') as file:\n",
    "    loss3 = pickle.load(file)\n",
    "    \n",
    "with open(savepath + 'acc_1pos_3', 'rb') as file:\n",
    "    acc3 = pickle.load(file)"
   ]
  },
  {
   "cell_type": "code",
   "execution_count": null,
   "id": "ed1b8f7f",
   "metadata": {},
   "outputs": [],
   "source": [
    "# save \n",
    "savepath = '../results/position_pretraining_080123/'\n",
    "fileObject = open(savepath + 'loss_1pos_1_3', 'wb')\n",
    "pickle.dump(losses , fileObject)\n",
    "fileObject.close()\n",
    "fileObject = open(savepath + 'acc_1pos_1_3', 'wb')\n",
    "pickle.dump(accs , fileObject)\n",
    "fileObject.close()\n",
    "\n",
    "fileObject = open(savepath + 'loss_1pos_3', 'wb')\n",
    "pickle.dump(losses_rand , fileObject)\n",
    "fileObject.close()\n",
    "fileObject = open(savepath + 'acc_1pos_3', 'wb')\n",
    "pickle.dump(accs_rand , fileObject)\n",
    "fileObject.close()\n",
    "\n",
    "fileObject = open(savepath + 'acc_1pos_1shot', 'wb')\n",
    "pickle.dump(one_shot_acc, fileObject)\n",
    "fileObject.close()"
   ]
  }
 ],
 "metadata": {
  "kernelspec": {
   "display_name": "Python 3",
   "language": "python",
   "name": "python3"
  },
  "language_info": {
   "codemirror_mode": {
    "name": "ipython",
    "version": 3
   },
   "file_extension": ".py",
   "mimetype": "text/x-python",
   "name": "python",
   "nbconvert_exporter": "python",
   "pygments_lexer": "ipython3",
   "version": "3.8.8"
  }
 },
 "nbformat": 4,
 "nbformat_minor": 5
}
