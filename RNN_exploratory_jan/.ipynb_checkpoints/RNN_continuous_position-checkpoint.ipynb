{
 "cells": [
  {
   "cell_type": "code",
   "execution_count": 2,
   "id": "c38a1baf",
   "metadata": {},
   "outputs": [],
   "source": [
    "import itertools\n",
    "import copy\n",
    "import numpy as np\n",
    "import matplotlib.pyplot as plt\n",
    "import torch\n",
    "from torch.utils.data import Dataset, DataLoader, random_split\n",
    "import torch.nn as nn\n",
    "import pickle\n",
    "import random\n",
    "from sklearn.model_selection import train_test_split"
   ]
  },
  {
   "cell_type": "code",
   "execution_count": 3,
   "id": "e7955eeb",
   "metadata": {},
   "outputs": [],
   "source": [
    "import sys\n",
    "import os\n",
    "current = os.path.dirname(os.path.realpath('plotting.py'))\n",
    "parent = os.path.dirname(current)\n",
    "sys.path.append(parent)"
   ]
  },
  {
   "cell_type": "code",
   "execution_count": 4,
   "id": "952157f0",
   "metadata": {},
   "outputs": [],
   "source": [
    "import functions.plotting as NNplt\n",
    "from functions.rnn_cryptic import generate_sequences, convert_seq2inputs, pad_select, pad_seqs"
   ]
  },
  {
   "cell_type": "code",
   "execution_count": 5,
   "id": "f3032c47",
   "metadata": {},
   "outputs": [],
   "source": [
    "def unique(list1):\n",
    "    unique_list = []\n",
    "    for x in list1:\n",
    "        if x not in unique_list:\n",
    "            unique_list.append(x)\n",
    "    return unique_list"
   ]
  },
  {
   "cell_type": "markdown",
   "id": "05ef1333",
   "metadata": {},
   "source": [
    "# RNN"
   ]
  },
  {
   "cell_type": "code",
   "execution_count": 6,
   "id": "d099c029",
   "metadata": {},
   "outputs": [],
   "source": [
    "class OneStepRNN(nn.Module):\n",
    "\n",
    "    def __init__(self, input_size, output_size, hidden_size, num_layers):\n",
    "        super(OneStepRNN, self).__init__()\n",
    "        # Define parameters\n",
    "        self.rnn = torch.nn.RNN(input_size=input_size,\n",
    "                        hidden_size=hidden_size,\n",
    "                        num_layers= num_layers,\n",
    "                        batch_first=True)\n",
    "        self.num_layers = num_layers\n",
    "        self.hidden_size = hidden_size\n",
    "        # Define the layers\n",
    "        self.input2hidden = nn.Linear(input_size + self.hidden_size, self.hidden_size)\n",
    "        self.fc1tooutput = nn.Linear(self.hidden_size, output_size)\n",
    "\n",
    "    def forward(self, x, hidden):\n",
    "        combined = torch.cat((x, hidden), dim=0) ## dim = 1??\n",
    "        self.hidden = nn.functional.relu(self.input2hidden(combined))\n",
    "        self.output = self.fc1tooutput(self.hidden)\n",
    "        #return self.output.view(-1,output_size), self.hidden\n",
    "        return self.output, self.hidden\n",
    "\n",
    "    def get_activations(self, x, hidden):\n",
    "        self.forward(x, hidden)  # update the activations with the particular input\n",
    "        return self.hidden, self.output #, self.fc1_activations\n",
    "\n",
    "    def get_noise(self):\n",
    "        return self.hidden_noise\n",
    "\n",
    "    def initHidden(self):\n",
    "        return torch.zeros(1, self.hidden_size)[0]\n",
    "\n",
    "\n",
    "def train(sequence,label,model,optimizer,criterion):\n",
    "\n",
    "    optimizer.zero_grad()\n",
    "    #Read each cue in and keep hidden state for next cue\n",
    "    hidden = model.initHidden()\n",
    "    for i in range(len(sequence[0])):\n",
    "        output, hidden = model.forward(sequence[0][i], hidden)\n",
    "    #Compare final output to target\n",
    "    loss = criterion(output,label)#.long())\n",
    "    #Back-propagate\n",
    "    loss.backward()\n",
    "    optimizer.step()\n",
    "\n",
    "    return output, loss.item()\n",
    "\n",
    "def run(model, train_data, epochs):\n",
    "\n",
    "    model.train()\n",
    "    loss_history = []\n",
    "    for epoch in range(epochs):\n",
    "        lossTotal = 0\n",
    "        for x,y in train_data:\n",
    "            output, loss = train(x,y,model,optimizer,criterion)\n",
    "            lossTotal += loss # add MSE -> sum of square errors \n",
    "        loss_history.append(lossTotal)\n",
    "\n",
    "    print(f'loss: {round(lossTotal,1)} ')\n",
    "    return loss_history\n",
    "\n",
    "def run_acc(model, train_data, test_data, epochs, verbose = False):\n",
    "\n",
    "    model.train()\n",
    "    loss_history = []\n",
    "    acc_history = []\n",
    "    for epoch in range(epochs):\n",
    "        lossTotal = 0\n",
    "        for i, (x,y) in enumerate(train_data):\n",
    "            output, loss = train(x,y,model,optimizer,criterion)\n",
    "            lossTotal += loss # add MSE -> sum of square errors \n",
    "            if (epoch%100 == 2):\n",
    "                if i%50 == 0:\n",
    "                    if verbose:\n",
    "                        print('\\n################\\nepoch: ',epoch, '\\n################\\n')\n",
    "                        print('output =. ' , output.detach().numpy())\n",
    "                        print('label =. ' , y.detach().numpy())\n",
    "                        test_acc(model, test_data, hidden_size, verbose = True)\n",
    "        loss_history.append(lossTotal)\n",
    "        acc = test_acc(model, test_data, hidden_size)\n",
    "        acc_history.append(acc)\n",
    "\n",
    "    print(f'loss: {round(lossTotal,1)} ')\n",
    "    print(f'accuracy: {round(acc,2)} ')\n",
    "    return loss_history, acc_history\n",
    "\n",
    "\n",
    "\n",
    "def run_cvrmse(model, train_data, epochs):\n",
    "\n",
    "    model.train()\n",
    "    rmse_history = []\n",
    "    for epoch in range(epochs):\n",
    "        lossTotal = 0\n",
    "        ylog = 0\n",
    "        for x,y in train_data:\n",
    "            ylog += y.mean().item()\n",
    "            output, loss = train(x,y,model,optimizer,criterion)\n",
    "            lossTotal += loss # add MSE -> sum of square errors \n",
    "        rmse = (lossTotal/len(train_data))**0.5 # root mean square error\n",
    "        cvrmse = rmse/(ylog/len(train_data))\n",
    "        rmse_history.append(cvrmse)\n",
    "\n",
    "    print(f'cv rmse: {round(cvrmse,2)} ')\n",
    "    return rmse_history\n",
    "\n",
    "\n",
    "def test_model(model, testdata, hidden_size, verbose=False):\n",
    "    model.eval()\n",
    "    SSE = 0\n",
    "    yvals = []\n",
    "    for x,y in testdata:\n",
    "        yvals.append(y.item())\n",
    "        hidden = torch.zeros(1, hidden_size)[0]\n",
    "        for step in x[0]:\n",
    "            hidden, y_hat = model.get_activations(step,hidden)\n",
    "        SE = (y.item() - y_hat.detach().item())**2 # squared error\n",
    "        SSE += SE # sum of square error\n",
    "    RMSE = (SSE/len(yvals))**0.5\n",
    "    CV_RMSE = 100*RMSE/np.mean(yvals)\n",
    "    \n",
    "    return CV_RMSE\n",
    "\n",
    "def test_acc(model, testdata, hidden_size, verbose = False):\n",
    "    model.eval()\n",
    "    correct = 0\n",
    "    for x,y in testdata:\n",
    "        hidden = torch.zeros(1, hidden_size)[0]\n",
    "        for step in x[0]:\n",
    "            hidden, y_hat = model.get_activations(step,hidden)\n",
    "        correct += sum(torch.round(y) == torch.round(y_hat)).item()/len(y)\n",
    "    acc = correct/len(testdata)\n",
    "    \n",
    "    if verbose:\n",
    "        print('test accuracy: %f ' % (acc))\n",
    "\n",
    "    return acc\n",
    "\n",
    "def shuffle_weights(model):\n",
    "    model2 = OneStepRNN(input_size, output_size, hidden_size, num_layers)\n",
    "    mod_dict = model.state_dict()\n",
    "    shuffled_dict = {layer: shuffle_tensor(val) for layer, val in mod_dict.items()}\n",
    "    model2.load_state_dict(shuffled_dict)\n",
    "    return model2\n",
    "\n",
    "def shuffle_tensor(t):\n",
    "    idx = torch.randperm(t.nelement())\n",
    "    t = t.view(-1)[idx].view(t.size())\n",
    "    return t\n",
    "    "
   ]
  },
  {
   "cell_type": "markdown",
   "id": "9e6733e3",
   "metadata": {},
   "source": [
    "# Experiments:\n",
    "1 step pretraining (compare 1 step pretraining to 2)\n",
    "\n",
    "primitive op (work out how operations work)\n",
    "\n",
    "primitive cue (work out number corresponding to cue id)\n",
    "\n",
    "...stages vs sentence trial structure"
   ]
  },
  {
   "cell_type": "markdown",
   "id": "72becd36",
   "metadata": {},
   "source": [
    "# 1 step pretraining"
   ]
  },
  {
   "cell_type": "code",
   "execution_count": 8,
   "id": "d0caee68",
   "metadata": {},
   "outputs": [
    {
     "name": "stdout",
     "output_type": "stream",
     "text": [
      "train 1:  64\n",
      "train 2:  64\n",
      "results/step_pretraining/batchsize_1/\n"
     ]
    }
   ],
   "source": [
    "# Generate data\n",
    "\n",
    "operators = ['+', '*']\n",
    "input_ids = ['A', 'B'] # 2, 3\n",
    "init_values = [5,7]\n",
    "\n",
    "# generate trial data\n",
    "batchsize = 1\n",
    "scale = 2\n",
    "\n",
    "len_seq = 1\n",
    "seqs = generate_sequences(operators, input_ids, len_seq, init_values = init_values, rand = False)\n",
    "padseqs = pad_select(seqs, [0])\n",
    "train_inputs = convert_seq2inputs(padseqs*scale*4, num_classes=13, seq_len=8)\n",
    "train_data1 = DataLoader(train_inputs, batch_size=batchsize, shuffle=True)\n",
    "\n",
    "len_seq = 1\n",
    "seqs = generate_sequences(operators, input_ids, len_seq, init_values = init_values, rand = False)\n",
    "padseqs = pad_select(seqs, [1])\n",
    "train_inputs = convert_seq2inputs(padseqs*scale*4, num_classes=13, seq_len=8)\n",
    "train_data2 = DataLoader(train_inputs, batch_size=batchsize, shuffle=True)\n",
    "\n",
    "print('train 1: ', len(train_data1))\n",
    "print('train 2: ', len(train_data2))\n",
    "save_dir = 'results/step_pretraining/batchsize_' + str(batchsize) + '/'\n",
    "print(save_dir)"
   ]
  },
  {
   "cell_type": "markdown",
   "id": "a1a67e04",
   "metadata": {},
   "source": [
    "# Step pretraining"
   ]
  },
  {
   "cell_type": "code",
   "execution_count": 76,
   "id": "89c4f2e3",
   "metadata": {},
   "outputs": [
    {
     "name": "stdout",
     "output_type": "stream",
     "text": [
      "### rep 0  ###\n",
      "loss: 288.7 \n",
      "accuracy: 0.96 \n",
      "### rep 1  ###\n",
      "loss: 28.7 \n",
      "accuracy: 0.92 \n",
      "### rep 2  ###\n",
      "loss: 9.3 \n",
      "accuracy: 0.62 \n",
      "### rep 3  ###\n",
      "loss: 4.9 \n",
      "accuracy: 0.58 \n",
      "### rep 4  ###\n",
      "loss: 269.2 \n",
      "accuracy: 0.79 \n"
     ]
    }
   ],
   "source": [
    "# batch size = 1\n",
    "\n",
    "num_classes = 14\n",
    "input_size = num_classes\n",
    "output_size = batchsize\n",
    "hidden_size = 20\n",
    "num_layers = 1\n",
    "learningRate = 0.005\n",
    "epochs = 100\n",
    "\n",
    "for j in range(5):\n",
    "    print('### rep', j, ' ###')\n",
    "    model = OneStepRNN(input_size, output_size, hidden_size, num_layers)\n",
    "    criterion = nn.MSELoss()\n",
    "    optimizer = torch.optim.Adam(model.parameters(), lr=learningRate)\n",
    "    loss1, acc1 = run_acc(model, train_data1, train_data1, epochs)\n",
    "    "
   ]
  },
  {
   "cell_type": "code",
   "execution_count": 77,
   "id": "4cc18e2c",
   "metadata": {},
   "outputs": [
    {
     "name": "stdout",
     "output_type": "stream",
     "text": [
      "### rep 0  ###\n",
      "loss: 23.7 \n",
      "accuracy: 0.79 \n",
      "### rep 1  ###\n",
      "loss: 2.5 \n",
      "accuracy: 1.0 \n",
      "### rep 2  ###\n",
      "loss: 4.0 \n",
      "accuracy: 1.0 \n",
      "### rep 3  ###\n",
      "loss: 0.7 \n",
      "accuracy: 1.0 \n",
      "### rep 4  ###\n",
      "loss: 23.6 \n",
      "accuracy: 0.96 \n"
     ]
    }
   ],
   "source": [
    "# batch size = 1\n",
    "\n",
    "num_classes = 14\n",
    "input_size = num_classes\n",
    "output_size = batchsize\n",
    "hidden_size = 20\n",
    "num_layers = 1\n",
    "learningRate = 0.005\n",
    "epochs = 300\n",
    "\n",
    "for j in range(5):\n",
    "    print('### rep', j, ' ###')\n",
    "    model = OneStepRNN(input_size, output_size, hidden_size, num_layers)\n",
    "    criterion = nn.MSELoss()\n",
    "    optimizer = torch.optim.Adam(model.parameters(), lr=learningRate)\n",
    "    loss1, acc1 = run_acc(model, train_data1, train_data1, epochs)\n",
    "    "
   ]
  },
  {
   "cell_type": "code",
   "execution_count": 80,
   "id": "ee6191c3",
   "metadata": {},
   "outputs": [
    {
     "name": "stdout",
     "output_type": "stream",
     "text": [
      "### rep 0  ###\n",
      "loss: 462.2 \n",
      "accuracy: 0.01 \n",
      "### rep 1  ###\n",
      "loss: 419.2 \n",
      "accuracy: 0.05 \n",
      "### rep 2  ###\n",
      "loss: 445.8 \n",
      "accuracy: 0.12 \n",
      "### rep 3  ###\n",
      "loss: 435.8 \n",
      "accuracy: 0.05 \n",
      "### rep 4  ###\n",
      "loss: 462.0 \n",
      "accuracy: 0.09 \n"
     ]
    }
   ],
   "source": [
    "# batch size = 8\n",
    "\n",
    "num_classes = 14\n",
    "input_size = num_classes\n",
    "output_size = batchsize\n",
    "hidden_size = 20\n",
    "num_layers = 1\n",
    "learningRate = 0.005\n",
    "epochs = 300\n",
    "\n",
    "for j in range(5):\n",
    "    print('### rep', j, ' ###')\n",
    "    model = OneStepRNN(input_size, output_size, hidden_size, num_layers)\n",
    "    criterion = nn.MSELoss()\n",
    "    optimizer = torch.optim.Adam(model.parameters(), lr=learningRate)\n",
    "    loss1, acc1 = run_acc(model, train_data1, train_data1, epochs)\n",
    "    "
   ]
  },
  {
   "cell_type": "code",
   "execution_count": 81,
   "id": "318f5e88",
   "metadata": {},
   "outputs": [
    {
     "name": "stdout",
     "output_type": "stream",
     "text": [
      "### rep 0  ###\n",
      "loss: 425.2 \n",
      "accuracy: 0.03 \n",
      "### rep 1  ###\n",
      "loss: 457.7 \n",
      "accuracy: 0.04 \n",
      "### rep 2  ###\n",
      "loss: 451.8 \n",
      "accuracy: 0.04 \n",
      "### rep 3  ###\n",
      "loss: 443.0 \n",
      "accuracy: 0.06 \n",
      "### rep 4  ###\n",
      "loss: 429.3 \n",
      "accuracy: 0.03 \n"
     ]
    }
   ],
   "source": [
    "# batch size = 8\n",
    "\n",
    "num_classes = 14\n",
    "input_size = num_classes\n",
    "output_size = batchsize\n",
    "hidden_size = 20\n",
    "num_layers = 1\n",
    "learningRate = 0.05\n",
    "epochs = 300\n",
    "\n",
    "for j in range(5):\n",
    "    print('### rep', j, ' ###')\n",
    "    model = OneStepRNN(input_size, output_size, hidden_size, num_layers)\n",
    "    criterion = nn.MSELoss()\n",
    "    optimizer = torch.optim.Adam(model.parameters(), lr=learningRate)\n",
    "    loss1, acc1 = run_acc(model, train_data1, train_data1, epochs)\n",
    "    "
   ]
  },
  {
   "cell_type": "code",
   "execution_count": 85,
   "id": "b4771c95",
   "metadata": {},
   "outputs": [
    {
     "name": "stdout",
     "output_type": "stream",
     "text": [
      "### rep 0  ###\n",
      "loss: 472.8 \n",
      "accuracy: 0.0 \n",
      "### rep 1  ###\n",
      "loss: 460.9 \n",
      "accuracy: 0.03 \n",
      "### rep 2  ###\n",
      "loss: 461.8 \n",
      "accuracy: 0.06 \n",
      "### rep 3  ###\n",
      "loss: 459.6 \n",
      "accuracy: 0.03 \n",
      "### rep 4  ###\n",
      "loss: 454.9 \n",
      "accuracy: 0.08 \n"
     ]
    }
   ],
   "source": [
    "# batch size = 8\n",
    "\n",
    "num_classes = 14\n",
    "input_size = num_classes\n",
    "output_size = batchsize\n",
    "hidden_size = 20\n",
    "num_layers = 1\n",
    "learningRate = 0.001\n",
    "epochs = 300\n",
    "\n",
    "for j in range(5):\n",
    "    print('### rep', j, ' ###')\n",
    "    model = OneStepRNN(input_size, output_size, hidden_size, num_layers)\n",
    "    criterion = nn.MSELoss()\n",
    "    optimizer = torch.optim.Adam(model.parameters(), lr=learningRate)\n",
    "    loss1, acc1 = run_acc(model, train_data1, train_data1, epochs)\n",
    "    "
   ]
  },
  {
   "cell_type": "code",
   "execution_count": 86,
   "id": "77efa8af",
   "metadata": {},
   "outputs": [
    {
     "name": "stdout",
     "output_type": "stream",
     "text": [
      "### rep 0  ###\n",
      "loss: 353.3 \n",
      "accuracy: 0.05 \n",
      "### rep 1  ###\n",
      "loss: 403.4 \n",
      "accuracy: 0.05 \n",
      "### rep 2  ###\n",
      "loss: 433.2 \n",
      "accuracy: 0.03 \n",
      "### rep 3  ###\n",
      "loss: 423.7 \n",
      "accuracy: 0.03 \n",
      "### rep 4  ###\n",
      "loss: 448.5 \n",
      "accuracy: 0.01 \n"
     ]
    }
   ],
   "source": [
    "# batch size = 8\n",
    "\n",
    "num_classes = 14\n",
    "input_size = num_classes\n",
    "output_size = batchsize\n",
    "hidden_size = 20\n",
    "num_layers = 1\n",
    "learningRate = 0.005\n",
    "epochs = 300\n",
    "\n",
    "for j in range(5):\n",
    "    print('### rep', j, ' ###')\n",
    "    model = OneStepRNN(input_size, output_size, hidden_size, num_layers)\n",
    "    criterion = nn.MSELoss()\n",
    "    optimizer = torch.optim.Adam(model.parameters(), lr=learningRate)\n",
    "    loss1, acc1 = run_acc(model, train_data1, train_data1, epochs)\n",
    "    "
   ]
  },
  {
   "cell_type": "code",
   "execution_count": 91,
   "id": "fb59b03b",
   "metadata": {},
   "outputs": [
    {
     "name": "stdout",
     "output_type": "stream",
     "text": [
      "### rep 0  ###\n",
      "loss: 393.7 \n",
      "accuracy: 0.01 \n"
     ]
    }
   ],
   "source": [
    "# batch size = 8\n",
    "\n",
    "num_classes = 14\n",
    "input_size = num_classes\n",
    "output_size = batchsize\n",
    "hidden_size = 20\n",
    "num_layers = 1\n",
    "learningRate = 0.005\n",
    "epochs = 1200\n",
    "\n",
    "for j in range(1):\n",
    "    print('### rep', j, ' ###')\n",
    "    model = OneStepRNN(input_size, output_size, hidden_size, num_layers)\n",
    "    criterion = nn.MSELoss()\n",
    "    optimizer = torch.optim.Adam(model.parameters(), lr=learningRate)\n",
    "    loss1, acc1 = run_acc(model, train_data1, train_data1, epochs)\n",
    "    "
   ]
  },
  {
   "cell_type": "code",
   "execution_count": 90,
   "id": "7f5906fd",
   "metadata": {},
   "outputs": [
    {
     "data": {
      "text/plain": [
       "[<matplotlib.lines.Line2D at 0x7f912b2e90d0>]"
      ]
     },
     "execution_count": 90,
     "metadata": {},
     "output_type": "execute_result"
    },
    {
     "data": {
      "image/png": "[encoded data removed]",
      "text/plain": [
       "<Figure size 432x288 with 1 Axes>"
      ]
     },
     "metadata": {
      "needs_background": "light"
     },
     "output_type": "display_data"
    }
   ],
   "source": [
    "plt.plot(acc1)"
   ]
  },
  {
   "cell_type": "code",
   "execution_count": null,
   "id": "02c9a65f",
   "metadata": {},
   "outputs": [],
   "source": []
  },
  {
   "cell_type": "code",
   "execution_count": 66,
   "id": "b8212bb7",
   "metadata": {},
   "outputs": [
    {
     "data": {
      "text/plain": [
       "12.0"
      ]
     },
     "execution_count": 66,
     "metadata": {},
     "output_type": "execute_result"
    }
   ],
   "source": [
    "192/16"
   ]
  },
  {
   "cell_type": "code",
   "execution_count": null,
   "id": "307dc318",
   "metadata": {},
   "outputs": [],
   "source": []
  },
  {
   "cell_type": "code",
   "execution_count": 67,
   "id": "8b04691c",
   "metadata": {},
   "outputs": [],
   "source": [
    "# Parameters\n",
    "\n",
    "num_classes = 14\n",
    "input_size = num_classes\n",
    "output_size = batchsize\n",
    "hidden_size = 20\n",
    "num_layers = 1\n",
    "learningRate = 0.005\n",
    "epochs = 1000"
   ]
  },
  {
   "cell_type": "code",
   "execution_count": 68,
   "id": "da4d999d",
   "metadata": {},
   "outputs": [
    {
     "name": "stdout",
     "output_type": "stream",
     "text": [
      "### rep 0  ###\n",
      "loss: 236.0 \n",
      "accuracy: 0.02 \n",
      "loss: 1791.2 \n",
      "accuracy: 0.02 \n",
      "loss: 1787.4 \n",
      "accuracy: 0.02 \n",
      "### rep 1  ###\n",
      "loss: 233.2 \n",
      "accuracy: 0.03 \n",
      "loss: 1796.0 \n",
      "accuracy: 0.05 \n",
      "loss: 1766.5 \n",
      "accuracy: 0.03 \n",
      "### rep 2  ###\n",
      "loss: 239.8 \n",
      "accuracy: 0.03 \n",
      "loss: 1828.6 \n",
      "accuracy: 0.04 \n",
      "loss: 1773.6 \n",
      "accuracy: 0.01 \n",
      "### rep 3  ###\n",
      "loss: 240.6 \n",
      "accuracy: 0.03 \n",
      "loss: 1787.7 \n",
      "accuracy: 0.05 \n",
      "loss: 1923.1 \n",
      "accuracy: 0.02 \n",
      "### rep 4  ###\n",
      "loss: 233.4 \n",
      "accuracy: 0.02 \n",
      "loss: 1818.9 \n",
      "accuracy: 0.04 \n",
      "loss: 1957.6 \n",
      "accuracy: 0.02 \n"
     ]
    }
   ],
   "source": [
    "# 2 step task\n",
    "\n",
    "num_sims = 5\n",
    "epochs = 50\n",
    "\n",
    "losses12 = []\n",
    "losses2 = []\n",
    "accs12 = []\n",
    "accs2 = []\n",
    "\n",
    "for j in range(num_sims):\n",
    "    print('### rep', j, ' ###')\n",
    "    model = OneStepRNN(input_size, output_size, hidden_size, num_layers)\n",
    "    criterion = nn.MSELoss()\n",
    "    optimizer = torch.optim.Adam(model.parameters(), lr=learningRate)\n",
    "    loss1, acc1 = run_acc(model, train_data1, train_data1, epochs)\n",
    "    \n",
    "    model2 = shuffle_weights(model)\n",
    "    \n",
    "    loss2, acc2 = run_acc(model, train_data2, train_data2, epochs)\n",
    "    losses12.append(loss1+loss2)\n",
    "    accs12.append(acc1+acc2)\n",
    "    \n",
    "    optimizer = torch.optim.Adam(model2.parameters(), lr=learningRate)\n",
    "    loss3, acc3 = run_acc(model2, train_data2, train_data2, epochs)\n",
    "    losses2.append(loss3)\n",
    "    accs2.append(acc3)\n"
   ]
  },
  {
   "cell_type": "code",
   "execution_count": null,
   "id": "c3c988da",
   "metadata": {},
   "outputs": [],
   "source": []
  },
  {
   "cell_type": "code",
   "execution_count": 70,
   "id": "6bd64b8e",
   "metadata": {},
   "outputs": [
    {
     "name": "stdout",
     "output_type": "stream",
     "text": [
      "### rep 0  ###\n",
      "loss: 240.3 \n",
      "accuracy: 0.07 \n",
      "### rep 1  ###\n",
      "loss: 235.8 \n",
      "accuracy: 0.01 \n",
      "### rep 2  ###\n",
      "loss: 230.3 \n",
      "accuracy: 0.05 \n",
      "### rep 3  ###\n",
      "loss: 238.0 \n",
      "accuracy: 0.04 \n",
      "### rep 4  ###\n",
      "loss: 251.3 \n",
      "accuracy: 0.05 \n"
     ]
    }
   ],
   "source": [
    "num_classes = 14\n",
    "input_size = num_classes\n",
    "output_size = batchsize\n",
    "hidden_size = 20\n",
    "num_layers = 1\n",
    "learningRate = 0.005\n",
    "epochs = 100\n",
    "\n",
    "for j in range(5):\n",
    "    print('### rep', j, ' ###')\n",
    "    model = OneStepRNN(input_size, output_size, hidden_size, num_layers)\n",
    "    criterion = nn.MSELoss()\n",
    "    optimizer = torch.optim.Adam(model.parameters(), lr=learningRate)\n",
    "    loss1, acc1 = run_acc(model, train_data1, train_data1, epochs)\n",
    "    "
   ]
  },
  {
   "cell_type": "code",
   "execution_count": 71,
   "id": "553720d5",
   "metadata": {},
   "outputs": [
    {
     "name": "stdout",
     "output_type": "stream",
     "text": [
      "### rep 0  ###\n",
      "loss: 217.3 \n",
      "accuracy: 0.04 \n",
      "### rep 1  ###\n",
      "loss: 223.4 \n",
      "accuracy: 0.01 \n",
      "### rep 2  ###\n"
     ]
    },
    {
     "ename": "KeyboardInterrupt",
     "evalue": "",
     "output_type": "error",
     "traceback": [
      "\u001b[0;31m---------------------------------------------------------------------------\u001b[0m",
      "\u001b[0;31mKeyboardInterrupt\u001b[0m                         Traceback (most recent call last)",
      "\u001b[0;32m<ipython-input-71-0c3bb6a03310>\u001b[0m in \u001b[0;36m<module>\u001b[0;34m\u001b[0m\n\u001b[1;32m     12\u001b[0m     \u001b[0mcriterion\u001b[0m \u001b[0;34m=\u001b[0m \u001b[0mnn\u001b[0m\u001b[0;34m.\u001b[0m\u001b[0mMSELoss\u001b[0m\u001b[0;34m(\u001b[0m\u001b[0;34m)\u001b[0m\u001b[0;34m\u001b[0m\u001b[0;34m\u001b[0m\u001b[0m\n\u001b[1;32m     13\u001b[0m     \u001b[0moptimizer\u001b[0m \u001b[0;34m=\u001b[0m \u001b[0mtorch\u001b[0m\u001b[0;34m.\u001b[0m\u001b[0moptim\u001b[0m\u001b[0;34m.\u001b[0m\u001b[0mAdam\u001b[0m\u001b[0;34m(\u001b[0m\u001b[0mmodel\u001b[0m\u001b[0;34m.\u001b[0m\u001b[0mparameters\u001b[0m\u001b[0;34m(\u001b[0m\u001b[0;34m)\u001b[0m\u001b[0;34m,\u001b[0m \u001b[0mlr\u001b[0m\u001b[0;34m=\u001b[0m\u001b[0mlearningRate\u001b[0m\u001b[0;34m)\u001b[0m\u001b[0;34m\u001b[0m\u001b[0;34m\u001b[0m\u001b[0m\n\u001b[0;32m---> 14\u001b[0;31m     \u001b[0mloss1\u001b[0m\u001b[0;34m,\u001b[0m \u001b[0macc1\u001b[0m \u001b[0;34m=\u001b[0m \u001b[0mrun_acc\u001b[0m\u001b[0;34m(\u001b[0m\u001b[0mmodel\u001b[0m\u001b[0;34m,\u001b[0m \u001b[0mtrain_data1\u001b[0m\u001b[0;34m,\u001b[0m \u001b[0mtrain_data1\u001b[0m\u001b[0;34m,\u001b[0m \u001b[0mepochs\u001b[0m\u001b[0;34m)\u001b[0m\u001b[0;34m\u001b[0m\u001b[0;34m\u001b[0m\u001b[0m\n\u001b[0m\u001b[1;32m     15\u001b[0m \u001b[0;34m\u001b[0m\u001b[0m\n",
      "\u001b[0;32m<ipython-input-64-dcd927001633>\u001b[0m in \u001b[0;36mrun_acc\u001b[0;34m(model, train_data, test_data, epochs, verbose)\u001b[0m\n\u001b[1;32m     69\u001b[0m         \u001b[0mlossTotal\u001b[0m \u001b[0;34m=\u001b[0m \u001b[0;36m0\u001b[0m\u001b[0;34m\u001b[0m\u001b[0;34m\u001b[0m\u001b[0m\n\u001b[1;32m     70\u001b[0m         \u001b[0;32mfor\u001b[0m \u001b[0mi\u001b[0m\u001b[0;34m,\u001b[0m \u001b[0;34m(\u001b[0m\u001b[0mx\u001b[0m\u001b[0;34m,\u001b[0m\u001b[0my\u001b[0m\u001b[0;34m)\u001b[0m \u001b[0;32min\u001b[0m \u001b[0menumerate\u001b[0m\u001b[0;34m(\u001b[0m\u001b[0mtrain_data\u001b[0m\u001b[0;34m)\u001b[0m\u001b[0;34m:\u001b[0m\u001b[0;34m\u001b[0m\u001b[0;34m\u001b[0m\u001b[0m\n\u001b[0;32m---> 71\u001b[0;31m             \u001b[0moutput\u001b[0m\u001b[0;34m,\u001b[0m \u001b[0mloss\u001b[0m \u001b[0;34m=\u001b[0m \u001b[0mtrain\u001b[0m\u001b[0;34m(\u001b[0m\u001b[0mx\u001b[0m\u001b[0;34m,\u001b[0m\u001b[0my\u001b[0m\u001b[0;34m,\u001b[0m\u001b[0mmodel\u001b[0m\u001b[0;34m,\u001b[0m\u001b[0moptimizer\u001b[0m\u001b[0;34m,\u001b[0m\u001b[0mcriterion\u001b[0m\u001b[0;34m)\u001b[0m\u001b[0;34m\u001b[0m\u001b[0;34m\u001b[0m\u001b[0m\n\u001b[0m\u001b[1;32m     72\u001b[0m             \u001b[0mlossTotal\u001b[0m \u001b[0;34m+=\u001b[0m \u001b[0mloss\u001b[0m \u001b[0;31m# add MSE -> sum of square errors\u001b[0m\u001b[0;34m\u001b[0m\u001b[0;34m\u001b[0m\u001b[0m\n\u001b[1;32m     73\u001b[0m             \u001b[0;32mif\u001b[0m \u001b[0;34m(\u001b[0m\u001b[0mepoch\u001b[0m\u001b[0;34m%\u001b[0m\u001b[0;36m100\u001b[0m \u001b[0;34m==\u001b[0m \u001b[0;36m2\u001b[0m\u001b[0;34m)\u001b[0m\u001b[0;34m:\u001b[0m\u001b[0;34m\u001b[0m\u001b[0;34m\u001b[0m\u001b[0m\n",
      "\u001b[0;32m<ipython-input-64-dcd927001633>\u001b[0m in \u001b[0;36mtrain\u001b[0;34m(sequence, label, model, optimizer, criterion)\u001b[0m\n\u001b[1;32m     38\u001b[0m     \u001b[0mhidden\u001b[0m \u001b[0;34m=\u001b[0m \u001b[0mmodel\u001b[0m\u001b[0;34m.\u001b[0m\u001b[0minitHidden\u001b[0m\u001b[0;34m(\u001b[0m\u001b[0;34m)\u001b[0m\u001b[0;34m\u001b[0m\u001b[0;34m\u001b[0m\u001b[0m\n\u001b[1;32m     39\u001b[0m     \u001b[0;32mfor\u001b[0m \u001b[0mi\u001b[0m \u001b[0;32min\u001b[0m \u001b[0mrange\u001b[0m\u001b[0;34m(\u001b[0m\u001b[0mlen\u001b[0m\u001b[0;34m(\u001b[0m\u001b[0msequence\u001b[0m\u001b[0;34m[\u001b[0m\u001b[0;36m0\u001b[0m\u001b[0;34m]\u001b[0m\u001b[0;34m)\u001b[0m\u001b[0;34m)\u001b[0m\u001b[0;34m:\u001b[0m\u001b[0;34m\u001b[0m\u001b[0;34m\u001b[0m\u001b[0m\n\u001b[0;32m---> 40\u001b[0;31m         \u001b[0moutput\u001b[0m\u001b[0;34m,\u001b[0m \u001b[0mhidden\u001b[0m \u001b[0;34m=\u001b[0m \u001b[0mmodel\u001b[0m\u001b[0;34m.\u001b[0m\u001b[0mforward\u001b[0m\u001b[0;34m(\u001b[0m\u001b[0msequence\u001b[0m\u001b[0;34m[\u001b[0m\u001b[0;36m0\u001b[0m\u001b[0;34m]\u001b[0m\u001b[0;34m[\u001b[0m\u001b[0mi\u001b[0m\u001b[0;34m]\u001b[0m\u001b[0;34m,\u001b[0m \u001b[0mhidden\u001b[0m\u001b[0;34m)\u001b[0m\u001b[0;34m\u001b[0m\u001b[0;34m\u001b[0m\u001b[0m\n\u001b[0m\u001b[1;32m     41\u001b[0m     \u001b[0;31m#Compare final output to target\u001b[0m\u001b[0;34m\u001b[0m\u001b[0;34m\u001b[0m\u001b[0;34m\u001b[0m\u001b[0m\n\u001b[1;32m     42\u001b[0m     \u001b[0mloss\u001b[0m \u001b[0;34m=\u001b[0m \u001b[0mcriterion\u001b[0m\u001b[0;34m(\u001b[0m\u001b[0moutput\u001b[0m\u001b[0;34m,\u001b[0m\u001b[0mlabel\u001b[0m\u001b[0;34m)\u001b[0m\u001b[0;31m#.long())\u001b[0m\u001b[0;34m\u001b[0m\u001b[0;34m\u001b[0m\u001b[0m\n",
      "\u001b[0;32m<ipython-input-64-dcd927001633>\u001b[0m in \u001b[0;36mforward\u001b[0;34m(self, x, hidden)\u001b[0m\n\u001b[1;32m     16\u001b[0m     \u001b[0;32mdef\u001b[0m \u001b[0mforward\u001b[0m\u001b[0;34m(\u001b[0m\u001b[0mself\u001b[0m\u001b[0;34m,\u001b[0m \u001b[0mx\u001b[0m\u001b[0;34m,\u001b[0m \u001b[0mhidden\u001b[0m\u001b[0;34m)\u001b[0m\u001b[0;34m:\u001b[0m\u001b[0;34m\u001b[0m\u001b[0;34m\u001b[0m\u001b[0m\n\u001b[1;32m     17\u001b[0m         \u001b[0mcombined\u001b[0m \u001b[0;34m=\u001b[0m \u001b[0mtorch\u001b[0m\u001b[0;34m.\u001b[0m\u001b[0mcat\u001b[0m\u001b[0;34m(\u001b[0m\u001b[0;34m(\u001b[0m\u001b[0mx\u001b[0m\u001b[0;34m,\u001b[0m \u001b[0mhidden\u001b[0m\u001b[0;34m)\u001b[0m\u001b[0;34m,\u001b[0m \u001b[0mdim\u001b[0m\u001b[0;34m=\u001b[0m\u001b[0;36m0\u001b[0m\u001b[0;34m)\u001b[0m \u001b[0;31m## dim = 1??\u001b[0m\u001b[0;34m\u001b[0m\u001b[0;34m\u001b[0m\u001b[0m\n\u001b[0;32m---> 18\u001b[0;31m         \u001b[0mself\u001b[0m\u001b[0;34m.\u001b[0m\u001b[0mhidden\u001b[0m \u001b[0;34m=\u001b[0m \u001b[0mnn\u001b[0m\u001b[0;34m.\u001b[0m\u001b[0mfunctional\u001b[0m\u001b[0;34m.\u001b[0m\u001b[0mrelu\u001b[0m\u001b[0;34m(\u001b[0m\u001b[0mself\u001b[0m\u001b[0;34m.\u001b[0m\u001b[0minput2hidden\u001b[0m\u001b[0;34m(\u001b[0m\u001b[0mcombined\u001b[0m\u001b[0;34m)\u001b[0m\u001b[0;34m)\u001b[0m\u001b[0;34m\u001b[0m\u001b[0;34m\u001b[0m\u001b[0m\n\u001b[0m\u001b[1;32m     19\u001b[0m         \u001b[0mself\u001b[0m\u001b[0;34m.\u001b[0m\u001b[0moutput\u001b[0m \u001b[0;34m=\u001b[0m \u001b[0mself\u001b[0m\u001b[0;34m.\u001b[0m\u001b[0mfc1tooutput\u001b[0m\u001b[0;34m(\u001b[0m\u001b[0mself\u001b[0m\u001b[0;34m.\u001b[0m\u001b[0mhidden\u001b[0m\u001b[0;34m)\u001b[0m\u001b[0;34m\u001b[0m\u001b[0;34m\u001b[0m\u001b[0m\n\u001b[1;32m     20\u001b[0m         \u001b[0;31m#return self.output.view(-1,output_size), self.hidden\u001b[0m\u001b[0;34m\u001b[0m\u001b[0;34m\u001b[0m\u001b[0;34m\u001b[0m\u001b[0m\n",
      "\u001b[0;32m~/opt/anaconda3/lib/python3.8/site-packages/torch/nn/modules/module.py\u001b[0m in \u001b[0;36m_call_impl\u001b[0;34m(self, *input, **kwargs)\u001b[0m\n\u001b[1;32m   1188\u001b[0m         if not (self._backward_hooks or self._forward_hooks or self._forward_pre_hooks or _global_backward_hooks\n\u001b[1;32m   1189\u001b[0m                 or _global_forward_hooks or _global_forward_pre_hooks):\n\u001b[0;32m-> 1190\u001b[0;31m             \u001b[0;32mreturn\u001b[0m \u001b[0mforward_call\u001b[0m\u001b[0;34m(\u001b[0m\u001b[0;34m*\u001b[0m\u001b[0minput\u001b[0m\u001b[0;34m,\u001b[0m \u001b[0;34m**\u001b[0m\u001b[0mkwargs\u001b[0m\u001b[0;34m)\u001b[0m\u001b[0;34m\u001b[0m\u001b[0;34m\u001b[0m\u001b[0m\n\u001b[0m\u001b[1;32m   1191\u001b[0m         \u001b[0;31m# Do not call functions when jit is used\u001b[0m\u001b[0;34m\u001b[0m\u001b[0;34m\u001b[0m\u001b[0;34m\u001b[0m\u001b[0m\n\u001b[1;32m   1192\u001b[0m         \u001b[0mfull_backward_hooks\u001b[0m\u001b[0;34m,\u001b[0m \u001b[0mnon_full_backward_hooks\u001b[0m \u001b[0;34m=\u001b[0m \u001b[0;34m[\u001b[0m\u001b[0;34m]\u001b[0m\u001b[0;34m,\u001b[0m \u001b[0;34m[\u001b[0m\u001b[0;34m]\u001b[0m\u001b[0;34m\u001b[0m\u001b[0;34m\u001b[0m\u001b[0m\n",
      "\u001b[0;32m~/opt/anaconda3/lib/python3.8/site-packages/torch/nn/modules/linear.py\u001b[0m in \u001b[0;36mforward\u001b[0;34m(self, input)\u001b[0m\n\u001b[1;32m    112\u001b[0m \u001b[0;34m\u001b[0m\u001b[0m\n\u001b[1;32m    113\u001b[0m     \u001b[0;32mdef\u001b[0m \u001b[0mforward\u001b[0m\u001b[0;34m(\u001b[0m\u001b[0mself\u001b[0m\u001b[0;34m,\u001b[0m \u001b[0minput\u001b[0m\u001b[0;34m:\u001b[0m \u001b[0mTensor\u001b[0m\u001b[0;34m)\u001b[0m \u001b[0;34m->\u001b[0m \u001b[0mTensor\u001b[0m\u001b[0;34m:\u001b[0m\u001b[0;34m\u001b[0m\u001b[0;34m\u001b[0m\u001b[0m\n\u001b[0;32m--> 114\u001b[0;31m         \u001b[0;32mreturn\u001b[0m \u001b[0mF\u001b[0m\u001b[0;34m.\u001b[0m\u001b[0mlinear\u001b[0m\u001b[0;34m(\u001b[0m\u001b[0minput\u001b[0m\u001b[0;34m,\u001b[0m \u001b[0mself\u001b[0m\u001b[0;34m.\u001b[0m\u001b[0mweight\u001b[0m\u001b[0;34m,\u001b[0m \u001b[0mself\u001b[0m\u001b[0;34m.\u001b[0m\u001b[0mbias\u001b[0m\u001b[0;34m)\u001b[0m\u001b[0;34m\u001b[0m\u001b[0;34m\u001b[0m\u001b[0m\n\u001b[0m\u001b[1;32m    115\u001b[0m \u001b[0;34m\u001b[0m\u001b[0m\n\u001b[1;32m    116\u001b[0m     \u001b[0;32mdef\u001b[0m \u001b[0mextra_repr\u001b[0m\u001b[0;34m(\u001b[0m\u001b[0mself\u001b[0m\u001b[0;34m)\u001b[0m \u001b[0;34m->\u001b[0m \u001b[0mstr\u001b[0m\u001b[0;34m:\u001b[0m\u001b[0;34m\u001b[0m\u001b[0;34m\u001b[0m\u001b[0m\n",
      "\u001b[0;31mKeyboardInterrupt\u001b[0m: "
     ]
    }
   ],
   "source": [
    "num_classes = 14\n",
    "input_size = num_classes\n",
    "output_size = batchsize\n",
    "hidden_size = 20\n",
    "num_layers = 1\n",
    "learningRate = 0.005\n",
    "epochs = 1000\n",
    "\n",
    "for j in range(5):\n",
    "    print('### rep', j, ' ###')\n",
    "    model = OneStepRNN(input_size, output_size, hidden_size, num_layers)\n",
    "    criterion = nn.MSELoss()\n",
    "    optimizer = torch.optim.Adam(model.parameters(), lr=learningRate)\n",
    "    loss1, acc1 = run_acc(model, train_data1, train_data1, epochs)\n",
    "    "
   ]
  },
  {
   "cell_type": "code",
   "execution_count": 72,
   "id": "467e1688",
   "metadata": {},
   "outputs": [
    {
     "name": "stdout",
     "output_type": "stream",
     "text": [
      "### rep 0  ###\n",
      "loss: 233.0 \n",
      "accuracy: 0.0 \n",
      "### rep 1  ###\n",
      "loss: 229.5 \n",
      "accuracy: 0.01 \n",
      "### rep 2  ###\n",
      "loss: 231.0 \n",
      "accuracy: 0.0 \n",
      "### rep 3  ###\n",
      "loss: 232.7 \n",
      "accuracy: 0.01 \n",
      "### rep 4  ###\n",
      "loss: 228.4 \n",
      "accuracy: 0.01 \n"
     ]
    }
   ],
   "source": [
    "num_classes = 14\n",
    "input_size = num_classes\n",
    "output_size = batchsize\n",
    "hidden_size = 20\n",
    "num_layers = 1\n",
    "learningRate = 0.001\n",
    "epochs = 500\n",
    "\n",
    "for j in range(5):\n",
    "    print('### rep', j, ' ###')\n",
    "    model = OneStepRNN(input_size, output_size, hidden_size, num_layers)\n",
    "    criterion = nn.MSELoss()\n",
    "    optimizer = torch.optim.Adam(model.parameters(), lr=learningRate)\n",
    "    loss1, acc1 = run_acc(model, train_data1, train_data1, epochs)\n",
    "    "
   ]
  },
  {
   "cell_type": "code",
   "execution_count": 73,
   "id": "0f760d59",
   "metadata": {},
   "outputs": [
    {
     "name": "stdout",
     "output_type": "stream",
     "text": [
      "### rep 0  ###\n",
      "loss: 229.3 \n",
      "accuracy: 0.0 \n",
      "### rep 1  ###\n",
      "loss: 245.5 \n",
      "accuracy: 0.03 \n",
      "### rep 2  ###\n",
      "loss: 233.1 \n",
      "accuracy: 0.0 \n",
      "### rep 3  ###\n",
      "loss: 229.5 \n",
      "accuracy: 0.0 \n",
      "### rep 4  ###\n",
      "loss: 230.6 \n",
      "accuracy: 0.0 \n"
     ]
    }
   ],
   "source": [
    "num_classes = 14\n",
    "input_size = num_classes\n",
    "output_size = batchsize\n",
    "hidden_size = 20\n",
    "num_layers = 1\n",
    "learningRate = 0.0005\n",
    "epochs = 500\n",
    "\n",
    "for j in range(5):\n",
    "    print('### rep', j, ' ###')\n",
    "    model = OneStepRNN(input_size, output_size, hidden_size, num_layers)\n",
    "    criterion = nn.MSELoss()\n",
    "    optimizer = torch.optim.Adam(model.parameters(), lr=learningRate)\n",
    "    loss1, acc1 = run_acc(model, train_data1, train_data1, epochs)\n",
    "    "
   ]
  },
  {
   "cell_type": "code",
   "execution_count": null,
   "id": "e00b0b52",
   "metadata": {},
   "outputs": [],
   "source": []
  },
  {
   "cell_type": "code",
   "execution_count": 61,
   "id": "702397cb",
   "metadata": {},
   "outputs": [
    {
     "data": {
      "image/png": "[encoded data removed]",
      "text/plain": [
       "<Figure size 432x288 with 1 Axes>"
      ]
     },
     "metadata": {
      "needs_background": "light"
     },
     "output_type": "display_data"
    }
   ],
   "source": [
    "losses_12 = np.array(losses12).T\n",
    "losses_2 = np.array(losses2).T\n",
    "\n",
    "NNplt.plotNN_losses([losses_12],\\\n",
    "                    labels = ['1 step pretrained'],\\\n",
    "                    colors = ['orange'])\n",
    "\n",
    "NNplt.plotNN_shifted([losses_2],\\\n",
    "                     labels = ['random'],\\\n",
    "                     colors = ['blue'],\\\n",
    "                     shift = 50)"
   ]
  },
  {
   "cell_type": "code",
   "execution_count": null,
   "id": "4b0ea7df",
   "metadata": {},
   "outputs": [],
   "source": []
  },
  {
   "cell_type": "code",
   "execution_count": null,
   "id": "8119cfe5",
   "metadata": {},
   "outputs": [],
   "source": []
  },
  {
   "cell_type": "code",
   "execution_count": null,
   "id": "a9f447bb",
   "metadata": {},
   "outputs": [],
   "source": []
  }
 ],
 "metadata": {
  "kernelspec": {
   "display_name": "Python 3",
   "language": "python",
   "name": "python3"
  },
  "language_info": {
   "codemirror_mode": {
    "name": "ipython",
    "version": 3
   },
   "file_extension": ".py",
   "mimetype": "text/x-python",
   "name": "python",
   "nbconvert_exporter": "python",
   "pygments_lexer": "ipython3",
   "version": "3.8.8"
  }
 },
 "nbformat": 4,
 "nbformat_minor": 5
}
