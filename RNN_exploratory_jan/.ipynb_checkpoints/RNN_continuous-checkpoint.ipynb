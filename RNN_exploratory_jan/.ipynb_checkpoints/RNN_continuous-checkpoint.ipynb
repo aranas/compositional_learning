{
 "cells": [
  {
   "cell_type": "code",
   "execution_count": 1,
   "id": "c38a1baf",
   "metadata": {},
   "outputs": [],
   "source": [
    "import itertools\n",
    "import copy\n",
    "import numpy as np\n",
    "import matplotlib.pyplot as plt\n",
    "import torch\n",
    "from torch.utils.data import Dataset, DataLoader, random_split\n",
    "import torch.nn as nn\n",
    "import pickle\n",
    "import random\n",
    "from sklearn.model_selection import train_test_split"
   ]
  },
  {
   "cell_type": "code",
   "execution_count": 2,
   "id": "952157f0",
   "metadata": {},
   "outputs": [
    {
     "ename": "ModuleNotFoundError",
     "evalue": "No module named 'functions'",
     "output_type": "error",
     "traceback": [
      "\u001b[0;31m---------------------------------------------------------------------------\u001b[0m",
      "\u001b[0;31mModuleNotFoundError\u001b[0m                       Traceback (most recent call last)",
      "\u001b[0;32m<ipython-input-2-84aec8ee11e6>\u001b[0m in \u001b[0;36m<module>\u001b[0;34m\u001b[0m\n\u001b[0;32m----> 1\u001b[0;31m \u001b[0;32mimport\u001b[0m \u001b[0mfunctions\u001b[0m\u001b[0;34m.\u001b[0m\u001b[0mplotting\u001b[0m \u001b[0;32mas\u001b[0m \u001b[0mNNplt\u001b[0m\u001b[0;34m\u001b[0m\u001b[0;34m\u001b[0m\u001b[0m\n\u001b[0m\u001b[1;32m      2\u001b[0m \u001b[0;32mfrom\u001b[0m \u001b[0mfunctions\u001b[0m\u001b[0;34m.\u001b[0m\u001b[0mrnn_sequences\u001b[0m \u001b[0;32mimport\u001b[0m \u001b[0mgenerate_sequences\u001b[0m\u001b[0;34m,\u001b[0m \u001b[0mconvert_seq2inputs\u001b[0m\u001b[0;34m\u001b[0m\u001b[0;34m\u001b[0m\u001b[0m\n",
      "\u001b[0;31mModuleNotFoundError\u001b[0m: No module named 'functions'"
     ]
    }
   ],
   "source": [
    "import functions.plotting as NNplt\n",
    "from functions.rnn_sequences import generate_sequences, convert_seq2inputs"
   ]
  },
  {
   "cell_type": "code",
   "execution_count": null,
   "id": "f3032c47",
   "metadata": {},
   "outputs": [],
   "source": [
    "def unique(list1):\n",
    "    unique_list = []\n",
    "    for x in list1:\n",
    "        if x not in unique_list:\n",
    "            unique_list.append(x)\n",
    "    return unique_list"
   ]
  },
  {
   "cell_type": "markdown",
   "id": "05ef1333",
   "metadata": {},
   "source": [
    "# RNN"
   ]
  },
  {
   "cell_type": "code",
   "execution_count": null,
   "id": "d099c029",
   "metadata": {},
   "outputs": [],
   "source": [
    "class OneStepRNN(nn.Module):\n",
    "\n",
    "    def __init__(self, input_size, output_size, hidden_size, num_layers):\n",
    "        super(OneStepRNN, self).__init__()\n",
    "        # Define parameters\n",
    "        self.rnn = torch.nn.RNN(input_size=input_size,\n",
    "                        hidden_size=hidden_size,\n",
    "                        num_layers= num_layers,\n",
    "                        batch_first=True)\n",
    "        self.num_layers = num_layers\n",
    "        self.hidden_size = hidden_size\n",
    "        # Define the layers\n",
    "        self.input2hidden = nn.Linear(input_size + self.hidden_size, self.hidden_size)\n",
    "        self.fc1tooutput = nn.Linear(self.hidden_size, output_size)\n",
    "\n",
    "    def forward(self, x, hidden):\n",
    "        combined = torch.cat((x, hidden), dim=0) ## dim = 1??\n",
    "        self.hidden = nn.functional.relu(self.input2hidden(combined))\n",
    "        self.output = self.fc1tooutput(self.hidden)\n",
    "        #return self.output.view(-1,output_size), self.hidden\n",
    "        return self.output, self.hidden\n",
    "\n",
    "    def get_activations(self, x, hidden):\n",
    "        self.forward(x, hidden)  # update the activations with the particular input\n",
    "        return self.hidden, self.output #, self.fc1_activations\n",
    "\n",
    "    def get_noise(self):\n",
    "        return self.hidden_noise\n",
    "\n",
    "    def initHidden(self):\n",
    "        return torch.zeros(1, self.hidden_size)[0]\n",
    "\n",
    "\n",
    "def train(sequence,label,model,optimizer,criterion):\n",
    "\n",
    "    optimizer.zero_grad()\n",
    "    #Read each cue in and keep hidden state for next cue\n",
    "    hidden = model.initHidden()\n",
    "    for i in range(len(sequence[0])):\n",
    "        output, hidden = model.forward(sequence[0][i], hidden)\n",
    "    #Compare final output to target\n",
    "    loss = criterion(output,label)#.long())\n",
    "    #Back-propagate\n",
    "    loss.backward()\n",
    "    optimizer.step()\n",
    "\n",
    "    return output, loss.item()\n",
    "\n",
    "def run(model, train_data, epochs):\n",
    "\n",
    "    model.train()\n",
    "    loss_history = []\n",
    "    for epoch in range(epochs):\n",
    "        lossTotal = 0\n",
    "        for x,y in train_data:\n",
    "            output, loss = train(x,y,model,optimizer,criterion)\n",
    "            lossTotal += loss # add MSE -> sum of square errors \n",
    "        loss_history.append(lossTotal)\n",
    "\n",
    "    print(f'loss: {round(lossTotal,1)} ')\n",
    "    return loss_history\n",
    "\n",
    "def run_acc(model, train_data, test_data, epochs):\n",
    "\n",
    "    model.train()\n",
    "    loss_history = []\n",
    "    acc_history = []\n",
    "    for epoch in range(epochs):\n",
    "        lossTotal = 0\n",
    "        for x,y in train_data:\n",
    "            output, loss = train(x,y,model,optimizer,criterion)\n",
    "            lossTotal += loss # add MSE -> sum of square errors \n",
    "        loss_history.append(lossTotal)\n",
    "        acc = test_acc(model, test_data, hidden_size)\n",
    "        acc_history.append(acc)\n",
    "\n",
    "    print(f'loss: {round(lossTotal,1)} ')\n",
    "    print(f'accuracy: {round(acc,2)} ')\n",
    "    return loss_history, acc_history\n",
    "\n",
    "def run_acc2(model, train_data, test_data1, test_data2, epochs):\n",
    "\n",
    "    model.train()\n",
    "    loss_history = []\n",
    "    acc1_history = []\n",
    "    acc2_history = []\n",
    "    for epoch in range(epochs):\n",
    "        lossTotal = 0\n",
    "        for x,y in train_data:\n",
    "            output, loss = train(x,y,model,optimizer,criterion)\n",
    "            lossTotal += loss # add MSE -> sum of square errors \n",
    "        loss_history.append(lossTotal)\n",
    "        acc1 = test_acc(model, test_data1, hidden_size)\n",
    "        acc2 = test_acc(model, test_data2, hidden_size)\n",
    "        acc1_history.append(acc1)\n",
    "        acc2_history.append(acc2)\n",
    "\n",
    "    print(f'loss: {round(lossTotal,1)} ')\n",
    "    print(f'train accuracy: {round(acc1,2)} ')\n",
    "    print(f'test accuracy: {round(acc2,2)} ')\n",
    "    return loss_history, acc1_history, acc2_history\n",
    "\n",
    "\n",
    "def run_cvrmse(model, train_data, epochs):\n",
    "\n",
    "    model.train()\n",
    "    rmse_history = []\n",
    "    for epoch in range(epochs):\n",
    "        lossTotal = 0\n",
    "        ylog = 0\n",
    "        for x,y in train_data:\n",
    "            ylog += y.mean().item()\n",
    "            output, loss = train(x,y,model,optimizer,criterion)\n",
    "            lossTotal += loss # add MSE -> sum of square errors \n",
    "        rmse = (lossTotal/len(train_data))**0.5 # root mean square error\n",
    "        cvrmse = rmse/(ylog/len(train_data))\n",
    "        rmse_history.append(cvrmse)\n",
    "\n",
    "    print(f'cv rmse: {round(cvrmse,2)} ')\n",
    "    return rmse_history\n",
    "\n",
    "\n",
    "def test_model(model, testdata, hidden_size, verbose=False):\n",
    "    model.eval()\n",
    "    SSE = 0\n",
    "    yvals = []\n",
    "    for x,y in testdata:\n",
    "        yvals.append(y.item())\n",
    "        hidden = torch.zeros(1, hidden_size)[0]\n",
    "        for step in x[0]:\n",
    "            hidden, y_hat = model.get_activations(step,hidden)\n",
    "        SE = (y.item() - y_hat.detach().item())**2 # squared error\n",
    "        SSE += SE # sum of square error\n",
    "    RMSE = (SSE/len(yvals))**0.5\n",
    "    CV_RMSE = 100*RMSE/np.mean(yvals)\n",
    "    \n",
    "    return CV_RMSE\n",
    "\n",
    "def test_acc(model, testdata, hidden_size, verbose = False):\n",
    "    model.eval()\n",
    "    correct = 0\n",
    "    for x,y in testdata:\n",
    "        hidden = torch.zeros(1, hidden_size)[0]\n",
    "        for step in x[0]:\n",
    "            hidden, y_hat = model.get_activations(step,hidden)\n",
    "        correct += sum(torch.round(y) == torch.round(y_hat)).item()/len(y)\n",
    "    acc = correct/len(testdata)\n",
    "    \n",
    "    if verbose:\n",
    "        print('test accuracy: %f ' % (acc))\n",
    "\n",
    "    return acc\n",
    "\n",
    "def shuffle_weights(model):\n",
    "    model2 = OneStepRNN(input_size, output_size, hidden_size, num_layers)\n",
    "    mod_dict = model.state_dict()\n",
    "    shuffled_dict = {layer: shuffle_tensor(val) for layer, val in mod_dict.items()}\n",
    "    model2.load_state_dict(shuffled_dict)\n",
    "    return model2\n",
    "\n",
    "def shuffle_statedict(mod_dict):\n",
    "    return {layer: shuffle_tensor(val) for layer, val in mod_dict.items()}\n",
    "\n"
   ]
  },
  {
   "cell_type": "markdown",
   "id": "9e6733e3",
   "metadata": {},
   "source": [
    "# Experiments:\n",
    "1 step pretraining (compare 1 step pretraining to 2)\n",
    "\n",
    "primitive op (work out how operations work)\n",
    "\n",
    "primitive cue (work out number corresponding to cue id)\n",
    "\n",
    "...stages vs sentence trial structure"
   ]
  },
  {
   "cell_type": "markdown",
   "id": "72becd36",
   "metadata": {},
   "source": [
    "# Training Data"
   ]
  },
  {
   "cell_type": "code",
   "execution_count": null,
   "id": "d0caee68",
   "metadata": {},
   "outputs": [],
   "source": [
    "# Generate data\n",
    "\n",
    "operators = ['+', '*']\n",
    "input_ids = ['A', 'B'] # 2, 3\n",
    "init_values = [5,7]\n",
    "\n",
    "# generate trial data\n",
    "batchsize = 1\n",
    "def generate_step_trials(len_seq, scale):\n",
    "    seqs = generate_sequences(operators, input_ids, len_seq, init_values = init_values, rand = False)\n",
    "    print(len(seqs))\n",
    "    trainset, testset = train_test_split(seqs, test_size=1/4)\n",
    "    train_inputs = convert_seq2inputs(trainset*scale, num_classes=13, seq_len=5)\n",
    "    test_inputs = convert_seq2inputs(testset*scale, num_classes=13, seq_len=5)\n",
    "    train_data = DataLoader(train_inputs, batch_size=batchsize, shuffle=True)\n",
    "    test_data = DataLoader(test_inputs, batch_size=batchsize, shuffle=True)\n",
    "    return train_data, test_data\n",
    "\n",
    "    \n",
    "# 1 step trials\n",
    "train_data1, test_data1 = generate_step_trials(1, 16)\n",
    "\n",
    "# 2 step trials\n",
    "train_data2, test_data2 = generate_step_trials(2, 4)\n",
    "\n",
    "# 3 step trials\n",
    "train_data3, test_data3 = generate_step_trials(3, 1)\n",
    "\n",
    "print('train 1: ', len(train_data1))\n",
    "print('test 1: ', len(test_data1))\n",
    "print('train 2: ', len(train_data2))\n",
    "print('test 2: ', len(test_data2))\n",
    "print('train 3: ', len(train_data3))\n",
    "print('test 3: ', len(test_data3))\n",
    "\n",
    "save_dir = 'results/step_pretraining/batchsize_' + str(batchsize) + '/'\n",
    "print(save_dir)"
   ]
  },
  {
   "cell_type": "markdown",
   "id": "d720455a",
   "metadata": {},
   "source": [
    "# Test out RNN"
   ]
  },
  {
   "cell_type": "code",
   "execution_count": 28,
   "id": "03dd4be1",
   "metadata": {},
   "outputs": [],
   "source": [
    "# Parameters\n",
    "\n",
    "num_classes = 13\n",
    "input_size = num_classes\n",
    "output_size = batchsize\n",
    "hidden_size = 20\n",
    "num_layers = 1\n",
    "learningRate = 0.0005\n",
    "epochs = 600\n",
    "\n",
    "num_sims = 100\n",
    "losses2 = []\n",
    "acctrain2 =[]\n",
    "acctest2 = []\n",
    "for j in range(num_sims):\n",
    "    print('### rep', j, ' ###')\n",
    "    model = OneStepRNN(input_size, output_size, hidden_size, num_layers)\n",
    "    criterion = nn.MSELoss()\n",
    "    optimizer = torch.optim.Adam(model.parameters(), lr=learningRate)\n",
    "    loss2, acctrain, acctest = run_acc2(model, train_data2, train_data2, test_data2, epochs)\n",
    "    losses2.append(loss2)\n",
    "    acctrain2.append(acctrain)\n",
    "    acctest2.append(acctest)"
   ]
  },
  {
   "cell_type": "code",
   "execution_count": 22,
   "id": "e3923315",
   "metadata": {},
   "outputs": [
    {
     "data": {
      "image/png": "[encoded data removed]",
      "text/plain": [
       "<Figure size 432x288 with 1 Axes>"
      ]
     },
     "metadata": {
      "needs_background": "light"
     },
     "output_type": "display_data"
    }
   ],
   "source": [
    "plt.plot(losses2[2])\n",
    "plt.xlabel('epochs')\n",
    "plt.ylabel('loss')\n",
    "plt.savefig('figures/RNN_cont/schematics/singleRNN_loss.png')"
   ]
  },
  {
   "cell_type": "code",
   "execution_count": 24,
   "id": "076a64a0",
   "metadata": {},
   "outputs": [
    {
     "data": {
      "image/png": "[encoded data removed]",
      "text/plain": [
       "<Figure size 432x288 with 1 Axes>"
      ]
     },
     "metadata": {
      "needs_background": "light"
     },
     "output_type": "display_data"
    }
   ],
   "source": [
    "plt.plot(acctrain2[2], color = 'green')\n",
    "plt.xlabel('epochs')\n",
    "plt.ylabel('train accuracy')\n",
    "plt.savefig('figures/RNN_cont/schematics/singleRNN_train_acc.png')"
   ]
  },
  {
   "cell_type": "code",
   "execution_count": 27,
   "id": "44b6dcb7",
   "metadata": {},
   "outputs": [
    {
     "data": {
      "image/png": "[encoded data removed]",
      "text/plain": [
       "<Figure size 432x288 with 1 Axes>"
      ]
     },
     "metadata": {
      "needs_background": "light"
     },
     "output_type": "display_data"
    }
   ],
   "source": [
    "plt.plot(acctest2[2], color = 'purple')\n",
    "plt.xlabel('epochs')\n",
    "plt.ylabel('test accuracy')\n",
    "plt.ylim(0,1)\n",
    "plt.savefig('figures/RNN_cont/schematics/singleRNN_test_acc.png')"
   ]
  },
  {
   "cell_type": "code",
   "execution_count": null,
   "id": "3158add0",
   "metadata": {},
   "outputs": [],
   "source": []
  },
  {
   "cell_type": "markdown",
   "id": "830f3444",
   "metadata": {},
   "source": [
    "# Batching"
   ]
  },
  {
   "cell_type": "code",
   "execution_count": 823,
   "id": "39543d36",
   "metadata": {},
   "outputs": [
    {
     "name": "stdout",
     "output_type": "stream",
     "text": [
      "8\n",
      "32\n",
      "128\n",
      "train 1:  128\n",
      "train 2:  128\n",
      "train 3:  128\n",
      "results/step_pretraining/batchsize_1/\n"
     ]
    }
   ],
   "source": [
    "# Generate data\n",
    "\n",
    "operators = ['+', '*']\n",
    "input_ids = ['A', 'B'] \n",
    "init_values = [6,7]\n",
    "\n",
    "# generate trial data\n",
    "batchsize = 1\n",
    "def generate_step_trials(len_seq, scale):\n",
    "    seqs = generate_sequences(operators, input_ids, len_seq, init_values = init_values, rand = False)\n",
    "    print(len(seqs))\n",
    "    train_inputs = convert_seq2inputs(seqs*scale, num_classes=13, seq_len=5)\n",
    "    train_data = DataLoader(train_inputs, batch_size=batchsize, shuffle=True)\n",
    "    return train_data\n",
    "\n",
    "    \n",
    "# 1 step trials\n",
    "train_data1 = generate_step_trials(1, 16)\n",
    "\n",
    "# 2 step trials\n",
    "train_data2 = generate_step_trials(2, 4)\n",
    "\n",
    "# 3 step trials\n",
    "train_data3 = generate_step_trials(3, 1)\n",
    "\n",
    "print('train 1: ', len(train_data1))\n",
    "print('train 2: ', len(train_data2))\n",
    "print('train 3: ', len(train_data3))\n",
    "\n",
    "save_dir = 'results/step_pretraining/batchsize_' + str(batchsize) + '/'\n",
    "print(save_dir)"
   ]
  },
  {
   "cell_type": "code",
   "execution_count": null,
   "id": "c4328313",
   "metadata": {},
   "outputs": [
    {
     "name": "stdout",
     "output_type": "stream",
     "text": [
      "### rep 0  ###\n"
     ]
    }
   ],
   "source": [
    "#%%timeit -r 1 -n 1\n",
    "# Parameters\n",
    "num_classes = 13\n",
    "input_size = num_classes\n",
    "output_size = batchsize\n",
    "hidden_size = 20\n",
    "num_layers = 1\n",
    "learningRate = 0.001\n",
    "epochs = 400\n",
    "\n",
    "num_sims = 1\n",
    "losses2 = []\n",
    "acctrain2 =[]\n",
    "for j in range(num_sims):\n",
    "    print('### rep', j, ' ###')\n",
    "    model = OneStepRNN(input_size, output_size, hidden_size, num_layers)\n",
    "    criterion = nn.MSELoss()\n",
    "    optimizer = torch.optim.Adam(model.parameters(), lr=learningRate)\n",
    "    loss2, acctrain = run_acc(model, train_data2, train_data2, epochs)\n",
    "    losses2.append(loss2)\n",
    "    acctrain2.append(acctrain)"
   ]
  },
  {
   "cell_type": "code",
   "execution_count": 829,
   "id": "84d80748",
   "metadata": {},
   "outputs": [
    {
     "data": {
      "text/plain": [
       "[<matplotlib.lines.Line2D at 0x7fb141f7a8b0>]"
      ]
     },
     "execution_count": 829,
     "metadata": {},
     "output_type": "execute_result"
    },
    {
     "data": {
      "image/png": "[encoded data removed]",
      "text/plain": [
       "<Figure size 432x288 with 1 Axes>"
      ]
     },
     "metadata": {
      "needs_background": "light"
     },
     "output_type": "display_data"
    }
   ],
   "source": [
    "plt.plot(acctrain2[0])"
   ]
  },
  {
   "cell_type": "code",
   "execution_count": 830,
   "id": "91728867",
   "metadata": {},
   "outputs": [
    {
     "data": {
      "text/plain": [
       "[<matplotlib.lines.Line2D at 0x7fb1420517f0>]"
      ]
     },
     "execution_count": 830,
     "metadata": {},
     "output_type": "execute_result"
    },
    {
     "data": {
      "image/png": "[encoded data removed]",
      "text/plain": [
       "<Figure size 432x288 with 1 Axes>"
      ]
     },
     "metadata": {
      "needs_background": "light"
     },
     "output_type": "display_data"
    }
   ],
   "source": [
    "plt.plot(losses2[0])"
   ]
  },
  {
   "cell_type": "code",
   "execution_count": 749,
   "id": "afc845f7",
   "metadata": {},
   "outputs": [
    {
     "name": "stdout",
     "output_type": "stream",
     "text": [
      "### rep 0  ###\n",
      "loss: 522.8 \n",
      "accuracy: 0.0 \n",
      "694 ms ± 0 ns per loop (mean ± std. dev. of 1 run, 1 loop each)\n"
     ]
    }
   ],
   "source": [
    "%%timeit -r 1 -n 1\n",
    "# Parameters\n",
    "\n",
    "num_classes = 13\n",
    "input_size = num_classes\n",
    "output_size = batchsize\n",
    "hidden_size = 20\n",
    "num_layers = 1\n",
    "learningRate = 0.0005\n",
    "epochs = 100\n",
    "\n",
    "num_sims = 1\n",
    "losses2 = []\n",
    "acctrain2 =[]\n",
    "for j in range(num_sims):\n",
    "    print('### rep', j, ' ###')\n",
    "    model = OneStepRNN(input_size, output_size, hidden_size, num_layers)\n",
    "    criterion = nn.MSELoss()\n",
    "    optimizer = torch.optim.Adam(model.parameters(), lr=learningRate)\n",
    "    loss2, acctrain = run_acc(model, train_data2, test_data2, epochs)\n",
    "    losses2.append(loss2)\n",
    "    acctrain2.append(acctrain)"
   ]
  },
  {
   "cell_type": "code",
   "execution_count": null,
   "id": "0d4f2123",
   "metadata": {},
   "outputs": [],
   "source": [
    "times\n",
    "\n",
    "1 bacth = 53.4 s ± 0 ns , "
   ]
  }
 ],
 "metadata": {
  "kernelspec": {
   "display_name": "Python 3",
   "language": "python",
   "name": "python3"
  },
  "language_info": {
   "codemirror_mode": {
    "name": "ipython",
    "version": 3
   },
   "file_extension": ".py",
   "mimetype": "text/x-python",
   "name": "python",
   "nbconvert_exporter": "python",
   "pygments_lexer": "ipython3",
   "version": "3.8.8"
  }
 },
 "nbformat": 4,
 "nbformat_minor": 5
}
