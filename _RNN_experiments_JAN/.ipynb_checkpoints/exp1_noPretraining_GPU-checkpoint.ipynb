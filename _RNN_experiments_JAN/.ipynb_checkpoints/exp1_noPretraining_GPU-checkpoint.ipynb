{
 "cells": [
  {
   "cell_type": "code",
   "execution_count": 1,
   "id": "393c91b0",
   "metadata": {},
   "outputs": [],
   "source": [
    "import itertools\n",
    "import copy\n",
    "import numpy as np\n",
    "import matplotlib.pyplot as plt\n",
    "import torch\n",
    "from torch.utils.data import Dataset, DataLoader, random_split\n",
    "import torch.nn as nn\n",
    "import pickle\n",
    "import random\n",
    "from sklearn.model_selection import train_test_split\n",
    "import time\n",
    "from joblib import Parallel, delayed\n",
    "\n",
    "import sys\n",
    "import os\n",
    "current = os.path.dirname(os.path.realpath('plotting.py'))\n",
    "parent = os.path.dirname(current)\n",
    "sys.path.append(parent)\n",
    "import functions.plotting as NNplt\n",
    "from functions.rnn_cryptic import generate_sequences, convert_seq2inputs, pad_seqs_2step"
   ]
  },
  {
   "cell_type": "code",
   "execution_count": 2,
   "id": "dc9c8e45",
   "metadata": {},
   "outputs": [
    {
     "name": "stdout",
     "output_type": "stream",
     "text": [
      "True\n",
      "True\n"
     ]
    }
   ],
   "source": [
    "import torch\n",
    "import math\n",
    "# this ensures that the current MacOS version is at least 12.3+\n",
    "print(torch.backends.mps.is_available())\n",
    "# this ensures that the current current PyTorch installation was built with MPS activated.\n",
    "print(torch.backends.mps.is_built())\n"
   ]
  },
  {
   "cell_type": "code",
   "execution_count": 3,
   "id": "faed2acc",
   "metadata": {},
   "outputs": [],
   "source": [
    "num_classes = 14\n",
    "batchsize= 5\n",
    "# specs\n",
    "input_size = num_classes\n",
    "output_size = 1\n",
    "hidden_size = 20\n",
    "num_layers = 1\n",
    "learningRate = 0.005\n"
   ]
  },
  {
   "cell_type": "markdown",
   "id": "644aa041",
   "metadata": {},
   "source": [
    "# RNN"
   ]
  },
  {
   "cell_type": "code",
   "execution_count": 4,
   "id": "3a421eba",
   "metadata": {},
   "outputs": [],
   "source": [
    "class OneStepRNN(nn.Module):\n",
    "\n",
    "    def __init__(self, input_size, output_size, hidden_size, num_layers):\n",
    "        super(OneStepRNN, self).__init__()\n",
    "        # Define parameters\n",
    "        self.rnn = torch.nn.RNN(input_size=input_size,\n",
    "                        hidden_size=hidden_size,\n",
    "                        num_layers= num_layers,\n",
    "                        batch_first=True)\n",
    "        self.num_layers = num_layers\n",
    "        self.hidden_size = hidden_size\n",
    "        # Define the layers\n",
    "        self.input2hidden = nn.Linear(input_size + self.hidden_size, self.hidden_size)\n",
    "        self.fc1tooutput = nn.Linear(self.hidden_size, output_size)\n",
    "\n",
    "    def forward(self, x, hidden):\n",
    "        combined = torch.cat((x, hidden), dim=0) ## dim = 1??\n",
    "        self.hidden = nn.functional.relu(self.input2hidden(combined))\n",
    "        self.output = self.fc1tooutput(self.hidden)\n",
    "        #return self.output.view(-1,output_size), self.hidden\n",
    "        return self.output, self.hidden\n",
    "\n",
    "    def get_activations(self, x, hidden):\n",
    "        self.forward(x, hidden)  # update the activations with the particular input\n",
    "        return self.hidden, self.output #, self.fc1_activations\n",
    "\n",
    "    def get_noise(self):\n",
    "        return self.hidden_noise\n",
    "\n",
    "    def initHidden(self):\n",
    "        return torch.zeros(1, self.hidden_size)[0]\n",
    "\n",
    "\n",
    "def train(sequence,label,model,optimizer,criterion):\n",
    "    model.train()\n",
    "    optimizer.zero_grad()\n",
    "    #Read each cue in and keep hidden state for next cue\n",
    "    hidden = model.initHidden()\n",
    "    batch_out = []\n",
    "    for batchseq in sequence:\n",
    "        for i in range(len(batchseq)):\n",
    "            output, hidden = model.forward(batchseq[i], hidden)\n",
    "        batch_out.append(output)\n",
    "        #Compare final output to target\n",
    "    batch_out = torch.cat(batch_out)\n",
    "    loss = criterion(batch_out,label)#.long())\n",
    "\n",
    "    #Back-propagate\n",
    "    loss.backward()\n",
    "    optimizer.step()\n",
    "\n",
    "    return batch_out, loss.item()\n",
    "\n",
    "\n",
    "def run(model, train_data, epochs):\n",
    "\n",
    "    model.train()\n",
    "    loss_history = []\n",
    "    for epoch in range(epochs):\n",
    "        lossTotal = 0\n",
    "        for x,y in train_data:\n",
    "            output, loss = train(x,y,model,optimizer,criterion)\n",
    "            lossTotal += loss # add MSE -> sum of square errors \n",
    "        loss_history.append(lossTotal)\n",
    "\n",
    "    print(f'loss: {round(lossTotal,1)} ')\n",
    "    return loss_history\n",
    "\n",
    "def run_acc(model,optimizer,criterion, train_data, test_data, epochs, verbose = False):\n",
    "    \n",
    "    loss_history = np.empty((0,1))\n",
    "    all_accs = np.empty((0,len(test_data)))\n",
    "    for epoch in range(epochs):\n",
    "        lossTotal = 0\n",
    "        for i, (x,y) in enumerate(train_data):\n",
    "            output, loss = train(x,y,model,optimizer,criterion)\n",
    "            lossTotal += loss # add MSE -> sum of square errors \n",
    "            if (epoch%100 == 2):\n",
    "                if i%50 == 0:\n",
    "                    if verbose:\n",
    "                        print('\\n################\\nepoch: ',epoch, '\\n################\\n')\n",
    "                        print('output =. ' , output.detach().numpy())\n",
    "                        print('label =. ' , y.detach().numpy())\n",
    "                        test_acc(model, test_data, hidden_size, verbose = True)\n",
    "        loss_history = np.vstack([loss_history, lossTotal])\n",
    "        acc = test_acc(model, test_data, hidden_size)\n",
    "        all_accs = np.vstack([all_accs,acc])\n",
    "\n",
    "    print(f'loss: {round(lossTotal,1)} ')\n",
    "    return loss_history, all_accs\n",
    "\n",
    "def test_acc(model, testdata, hidden_size, verbose = False):\n",
    "    model.eval()\n",
    "    accs = np.empty((1, 0))\n",
    "    for testset in testdata:\n",
    "        batch_correct = []\n",
    "        for x,y in testset:\n",
    "            correct = 0\n",
    "            for i in range(len(x)):\n",
    "                hidden = torch.zeros(1, hidden_size)[0]\n",
    "                for step in x[i]:\n",
    "                    hidden, y_hat = model.get_activations(step,hidden)\n",
    "                correct += sum(torch.round(y[i]) == torch.round(y_hat)).item()\n",
    "            batch_correct.append(correct/len(y))\n",
    "        acc = np.mean(batch_correct)\n",
    "        accs = np.append(accs, [acc])\n",
    "    if verbose:\n",
    "        print('test accuracy: %f ' % (acc))\n",
    "    return accs\n",
    "\n",
    "\n",
    "def shuffle_weights(model):\n",
    "    model2 = OneStepRNN(input_size, output_size, hidden_size, num_layers)\n",
    "    mod_dict = model.state_dict()\n",
    "    shuffled_dict = {layer: shuffle_tensor(val) for layer, val in mod_dict.items()}\n",
    "    model2.load_state_dict(shuffled_dict)\n",
    "    return model2\n",
    "\n",
    "def shuffle_tensor(t):\n",
    "    idx = torch.randperm(t.nelement())\n",
    "    t = t.view(-1)[idx].view(t.size())\n",
    "    return t\n",
    "\n",
    "# def run_sim(i):\n",
    "#     print('########## rep ', i, '##########')\n",
    "#     model = OneStepRNN(input_size, output_size, hidden_size, num_layers)\n",
    "#     criterion = nn.MSELoss()\n",
    "#     optimizer = torch.optim.Adam(model.parameters(), lr=learningRate)\n",
    "#     loss1, acc1 = run_acc(model,optimizer,criterion, trainset[0], test_sets, epochs)\n",
    "#     loss2, acc2 = run_acc(model,optimizer,criterion, trainset[1], test_sets, epochs)\n",
    "#     losses = loss1+loss2\n",
    "#     accs = np.vstack([acc1,acc2])\n",
    "#     return losses, accs\n",
    "\n",
    "def run_sim(i):\n",
    "    print('########## rep ', i, '##########')\n",
    "    model = OneStepRNN(input_size, output_size, hidden_size, num_layers)\n",
    "    criterion = nn.MSELoss()\n",
    "    optimizer = torch.optim.Adam(model.parameters(), lr=learningRate)\n",
    "    loss1, acc1 = run_acc(model,optimizer,criterion, trainset, test_sets, epochs)\n",
    "\n",
    "    return loss1, acc1, model\n",
    "\n",
    "\n",
    "def seq_acc(model, testset, hidden_size, rep = 10, verbose = False):\n",
    "    \n",
    "    train_inputs = convert_seq2inputs(testset, num_classes=num_classes, seq_len=8)\n",
    "    testdata = DataLoader(train_inputs, batch_size=batchsize, shuffle=False)\n",
    "    model.eval()\n",
    "    trials = []\n",
    "    accs = []\n",
    "    for _ in range(rep):\n",
    "        for j, (x,y) in enumerate(testdata):\n",
    "            for i in range(len(x)):\n",
    "                hidden = torch.zeros(1, hidden_size)[0]\n",
    "                for step in x[i]:\n",
    "                    hidden, y_hat = model.get_activations(step,hidden)\n",
    "                correct = sum(torch.round(y[i]) == torch.round(y_hat)).item() \n",
    "                accs.append(float(correct))\n",
    "                curr_trial = testset[4*j+i].copy()\n",
    "                trials.append([x for x in curr_trial if x!= ('X', 'X')])\n",
    "#                 trials.append(curr_trial)\n",
    "    \n",
    "    df = pd.DataFrame({'trial':trials, 'acc':accs})\n",
    "    df['trial'] = df['trial'].apply(str)\n",
    "    df = df.groupby(['trial']).mean().sort_values(by = 'acc', ascending=False)\n",
    "                \n",
    "    return df "
   ]
  },
  {
   "cell_type": "markdown",
   "id": "6c2efd31",
   "metadata": {},
   "source": [
    "# Load Training and Test data"
   ]
  },
  {
   "cell_type": "code",
   "execution_count": 5,
   "id": "e8848b79",
   "metadata": {},
   "outputs": [],
   "source": [
    "# Load Training and Test data\n",
    "trianpath = '../sequences/training/'\n",
    "\n",
    "#Mset\n",
    "with open(trianpath + 'Mset', 'rb') as f:\n",
    "    Mset = pickle.load(f)\n",
    "with open(trianpath + 'Mcombos', 'rb') as f:\n",
    "    Mcombos = pickle.load(f)\n",
    "with open(trianpath + 'Morder', 'rb') as f:\n",
    "    Morder = pickle.load(f)\n",
    "with open(trianpath + 'Minit', 'rb') as f:\n",
    "    Minit = pickle.load(f)\n",
    "\n",
    "# MC set\n",
    "with open(trianpath + 'MCset', 'rb') as f:\n",
    "    MCset = pickle.load(f)\n",
    "with open(trianpath + 'MCorder', 'rb') as f:\n",
    "    MCorder = pickle.load(f)\n",
    "with open(trianpath + 'MCinit', 'rb') as f:\n",
    "    MCinit = pickle.load(f)\n",
    "    \n",
    "# DC set\n",
    "with open(trianpath + 'DCset', 'rb') as f:\n",
    "    DCset = pickle.load(f)\n",
    "with open(trianpath + 'DCorder', 'rb') as f:\n",
    "    DCorder = pickle.load(f)\n",
    "with open(trianpath + 'DCinit', 'rb') as f:\n",
    "    DCinit = pickle.load(f)\n",
    "\n",
    "# F set\n",
    "with open(trianpath + 'Fset', 'rb') as f:\n",
    "    Fset = pickle.load(f)\n",
    "with open(trianpath + 'Finit', 'rb') as f:\n",
    "    Finit = pickle.load(f)"
   ]
  },
  {
   "cell_type": "code",
   "execution_count": 6,
   "id": "3a3b5498",
   "metadata": {},
   "outputs": [],
   "source": [
    "# convert sequences to inputs \n",
    "num_classes = 14\n",
    "\n",
    "# Mset\n",
    "train_inputs = convert_seq2inputs(Mset, num_classes=num_classes, seq_len=7)\n",
    "trainMset = DataLoader(train_inputs, batch_size=batchsize, shuffle=True)\n",
    "\n",
    "train_inputs = convert_seq2inputs(Mcombos, num_classes=num_classes, seq_len=7)\n",
    "testMcombos = DataLoader(train_inputs, batch_size=batchsize, shuffle=True)\n",
    "\n",
    "train_inputs = convert_seq2inputs(Morder, num_classes=num_classes, seq_len=7)\n",
    "testMorder = DataLoader(train_inputs, batch_size=batchsize, shuffle=True)\n",
    "\n",
    "train_inputs = convert_seq2inputs(Minit, num_classes=num_classes, seq_len=7)\n",
    "testMinit = DataLoader(train_inputs, batch_size=batchsize, shuffle=True)\n",
    "\n",
    "# MCaset\n",
    "train_inputs = convert_seq2inputs(MCset, num_classes=num_classes, seq_len=7)\n",
    "trainMCset = DataLoader(train_inputs, batch_size=batchsize, shuffle=True)\n",
    "\n",
    "train_inputs = convert_seq2inputs(MCorder, num_classes=num_classes, seq_len=7)\n",
    "testMCorder = DataLoader(train_inputs, batch_size=batchsize, shuffle=True)\n",
    "\n",
    "train_inputs = convert_seq2inputs(MCinit, num_classes=num_classes, seq_len=7)\n",
    "testMCinit = DataLoader(train_inputs, batch_size=batchsize, shuffle=True)\n",
    "\n",
    "# DCaset\n",
    "train_inputs = convert_seq2inputs(DCset, num_classes=num_classes, seq_len=7)\n",
    "trainDCset = DataLoader(train_inputs, batch_size=batchsize, shuffle=True)\n",
    "\n",
    "train_inputs = convert_seq2inputs(DCorder, num_classes=num_classes, seq_len=7)\n",
    "testDCorder = DataLoader(train_inputs, batch_size=batchsize, shuffle=True)\n",
    "\n",
    "train_inputs = convert_seq2inputs(DCinit, num_classes=num_classes, seq_len=7)\n",
    "testDCinit = DataLoader(train_inputs, batch_size=batchsize, shuffle=True)\n",
    "\n",
    "# Fset\n",
    "train_inputs = convert_seq2inputs(Fset, num_classes=num_classes, seq_len=7)\n",
    "trainFset = DataLoader(train_inputs, batch_size=batchsize, shuffle=True)\n",
    "\n",
    "train_inputs = convert_seq2inputs(Finit, num_classes=num_classes, seq_len=7)\n",
    "testFinit = DataLoader(train_inputs, batch_size=batchsize, shuffle=True)\n"
   ]
  },
  {
   "cell_type": "markdown",
   "id": "af6f5059",
   "metadata": {},
   "source": [
    "# Train RNN"
   ]
  },
  {
   "cell_type": "markdown",
   "id": "493944c3",
   "metadata": {},
   "source": [
    "# Set F"
   ]
  },
  {
   "cell_type": "code",
   "execution_count": null,
   "id": "8fe332f1",
   "metadata": {},
   "outputs": [],
   "source": [
    "num_sims = 1\n",
    "epochs = 8000\n",
    "learningRate = 0.01\n",
    "trainset = trainFset\n",
    "test_sets = [trainFset, testFinit]\n",
    "t1 = time.time()\n",
    "Fres = Parallel(n_jobs = -1)(delayed(run_sim)(i) for i in range(num_sims))\n",
    "# train on 1 position\n",
    "t2 = time.time()\n",
    "print('time: ', t2-t1)\n",
    "\n",
    "Flosses = np.hstack([Fres[i][0] for i in range(len(Fres))])\n",
    "accFtrain = np.array([Fres[i][1][:,0] for i in range(len(Fres))]).T\n",
    "accFinit = np.array([Fres[i][1][:,1] for i in range(len(Fres))]).T"
   ]
  },
  {
   "cell_type": "code",
   "execution_count": 72,
   "id": "ede9e173",
   "metadata": {},
   "outputs": [
    {
     "name": "stdout",
     "output_type": "stream",
     "text": [
      "train final acc:   0.1517241379310345\n",
      "init final acc:   0.12413793103448276\n"
     ]
    }
   ],
   "source": [
    "print('train final acc:  ', np.mean(accFtrain[-1,:]))\n",
    "print('init final acc:  ', np.mean(accFinit[-1,:]))"
   ]
  },
  {
   "cell_type": "code",
   "execution_count": 73,
   "id": "9e615776",
   "metadata": {},
   "outputs": [
    {
     "data": {
      "text/plain": [
       "Text(0.5, 1.0, 'F training losses')"
      ]
     },
     "execution_count": 73,
     "metadata": {},
     "output_type": "execute_result"
    },
    {
     "data": {
      "image/png": "[encoded data removed]",
      "text/plain": [
       "<Figure size 432x288 with 1 Axes>"
      ]
     },
     "metadata": {
      "needs_background": "light"
     },
     "output_type": "display_data"
    }
   ],
   "source": [
    "NNplt.plotNN_shifted([Flosses],\\\n",
    "                    labels = ['loss'],\\\n",
    "                    colors = ['blue'],\\\n",
    "                    shift = 0)\n",
    "plt.title('F training losses', size=20)"
   ]
  },
  {
   "cell_type": "code",
   "execution_count": 74,
   "id": "edc62b03",
   "metadata": {},
   "outputs": [
    {
     "data": {
      "text/plain": [
       "Text(0.5, 1.0, 'F training accuracy')"
      ]
     },
     "execution_count": 74,
     "metadata": {},
     "output_type": "execute_result"
    },
    {
     "data": {
      "image/png": "[encoded data removed]",
      "text/plain": [
       "<Figure size 432x288 with 1 Axes>"
      ]
     },
     "metadata": {
      "needs_background": "light"
     },
     "output_type": "display_data"
    }
   ],
   "source": [
    "NNplt.plotNN_shifted([accFtrain, accFinit],\\\n",
    "                    labels = ['train', 'init'],\\\n",
    "                    colors = ['green', 'red'],\\\n",
    "                    shift = 0)\n",
    "plt.ylabel('accuracy')\n",
    "plt.title('F training accuracy', size = 20)"
   ]
  },
  {
   "cell_type": "code",
   "execution_count": 70,
   "id": "6c3d5251",
   "metadata": {},
   "outputs": [
    {
     "data": {
      "text/plain": [
       "6.507499999999999"
      ]
     },
     "execution_count": 70,
     "metadata": {},
     "output_type": "execute_result"
    }
   ],
   "source": [
    "23427/60/60"
   ]
  },
  {
   "cell_type": "code",
   "execution_count": null,
   "id": "79c02e24",
   "metadata": {},
   "outputs": [],
   "source": []
  }
 ],
 "metadata": {
  "kernelspec": {
   "display_name": "Python 3",
   "language": "python",
   "name": "python3"
  },
  "language_info": {
   "codemirror_mode": {
    "name": "ipython",
    "version": 3
   },
   "file_extension": ".py",
   "mimetype": "text/x-python",
   "name": "python",
   "nbconvert_exporter": "python",
   "pygments_lexer": "ipython3",
   "version": "3.8.8"
  }
 },
 "nbformat": 4,
 "nbformat_minor": 5
}
