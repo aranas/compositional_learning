{
 "cells": [
  {
   "cell_type": "code",
   "execution_count": 1,
   "id": "393c91b0",
   "metadata": {},
   "outputs": [],
   "source": [
    "import itertools\n",
    "import copy\n",
    "import numpy as np\n",
    "import matplotlib.pyplot as plt\n",
    "import torch\n",
    "from torch.utils.data import Dataset, DataLoader, random_split\n",
    "import torch.nn as nn\n",
    "import pickle\n",
    "import random\n",
    "from sklearn.model_selection import train_test_split\n",
    "import time\n",
    "from joblib import Parallel, delayed\n",
    "\n",
    "import sys\n",
    "import os\n",
    "current = os.path.dirname(os.path.realpath('plotting.py'))\n",
    "parent = os.path.dirname(current)\n",
    "sys.path.append(parent)\n",
    "import functions.plotting as NNplt\n",
    "from functions.rnn_cryptic import generate_sequences, convert_seq2inputs, pad_seqs"
   ]
  },
  {
   "cell_type": "code",
   "execution_count": 2,
   "id": "dc9c8e45",
   "metadata": {},
   "outputs": [
    {
     "name": "stdout",
     "output_type": "stream",
     "text": [
      "True\n",
      "True\n"
     ]
    }
   ],
   "source": [
    "import torch\n",
    "import math\n",
    "# this ensures that the current MacOS version is at least 12.3+\n",
    "print(torch.backends.mps.is_available())\n",
    "# this ensures that the current current PyTorch installation was built with MPS activated.\n",
    "print(torch.backends.mps.is_built())\n"
   ]
  },
  {
   "cell_type": "markdown",
   "id": "644aa041",
   "metadata": {},
   "source": [
    "# RNN"
   ]
  },
  {
   "cell_type": "code",
   "execution_count": 3,
   "id": "3a421eba",
   "metadata": {},
   "outputs": [],
   "source": [
    "class OneStepRNN(nn.Module):\n",
    "\n",
    "    def __init__(self, input_size, output_size, hidden_size, num_layers):\n",
    "        super(OneStepRNN, self).__init__()\n",
    "        # Define parameters\n",
    "        self.rnn = torch.nn.RNN(input_size=input_size,\n",
    "                        hidden_size=hidden_size,\n",
    "                        num_layers= num_layers,\n",
    "                        batch_first=True)\n",
    "        self.num_layers = num_layers\n",
    "        self.hidden_size = hidden_size\n",
    "        # Define the layers\n",
    "        self.input2hidden = nn.Linear(input_size + self.hidden_size, self.hidden_size)\n",
    "        self.fc1tooutput = nn.Linear(self.hidden_size, output_size)\n",
    "\n",
    "    def forward(self, x, hidden):\n",
    "        combined = torch.cat((x, hidden), dim=0) ## dim = 1??\n",
    "        self.hidden = nn.functional.relu(self.input2hidden(combined))\n",
    "        self.output = self.fc1tooutput(self.hidden)\n",
    "        #return self.output.view(-1,output_size), self.hidden\n",
    "        return self.output, self.hidden\n",
    "\n",
    "    def get_activations(self, x, hidden):\n",
    "        self.forward(x, hidden)  # update the activations with the particular input\n",
    "        return self.hidden, self.output #, self.fc1_activations\n",
    "\n",
    "    def get_noise(self):\n",
    "        return self.hidden_noise\n",
    "\n",
    "    def initHidden(self):\n",
    "        return torch.zeros(1, self.hidden_size)[0]\n",
    "\n",
    "\n",
    "def train(sequence,label,model,optimizer,criterion):\n",
    "\n",
    "    optimizer.zero_grad()\n",
    "    #Read each cue in and keep hidden state for next cue\n",
    "    hidden = model.initHidden()\n",
    "    for i in range(len(sequence[0])):\n",
    "        output, hidden = model.forward(sequence[0][i], hidden)\n",
    "    #Compare final output to target\n",
    "    loss = criterion(output,label)#.long())\n",
    "    #Back-propagate\n",
    "    loss.backward()\n",
    "    optimizer.step()\n",
    "\n",
    "    return output, loss.item()\n",
    "\n",
    "def run(model, train_data, epochs):\n",
    "\n",
    "    model.train()\n",
    "    loss_history = []\n",
    "    for epoch in range(epochs):\n",
    "        lossTotal = 0\n",
    "        for x,y in train_data:\n",
    "            output, loss = train(x,y,model,optimizer,criterion)\n",
    "            lossTotal += loss # add MSE -> sum of square errors \n",
    "        loss_history.append(lossTotal)\n",
    "\n",
    "    print(f'loss: {round(lossTotal,1)} ')\n",
    "    return loss_history\n",
    "\n",
    "def run_acc(model,optimizer,criterion, train_data, test_data, epochs, verbose = False):\n",
    "\n",
    "    model.train()\n",
    "    loss_history = np.empty((0,1))\n",
    "    all_accs = np.empty((0,len(test_data)))\n",
    "    for epoch in range(epochs):\n",
    "        lossTotal = 0\n",
    "        for i, (x,y) in enumerate(train_data):\n",
    "            output, loss = train(x,y,model,optimizer,criterion)\n",
    "            lossTotal += loss # add MSE -> sum of square errors \n",
    "            if (epoch%100 == 2):\n",
    "                if i%50 == 0:\n",
    "                    if verbose:\n",
    "                        print('\\n################\\nepoch: ',epoch, '\\n################\\n')\n",
    "                        print('output =. ' , output.detach().numpy())\n",
    "                        print('label =. ' , y.detach().numpy())\n",
    "                        test_acc(model, test_data, hidden_size, verbose = True)\n",
    "        loss_history = np.vstack([loss_history, lossTotal])\n",
    "        acc = test_acc(model, test_data, hidden_size)\n",
    "        all_accs = np.vstack([all_accs,acc])\n",
    "\n",
    "    print(f'loss: {round(lossTotal,1)} ')\n",
    "    return loss_history, all_accs\n",
    "\n",
    "def test_acc(model, testdata, hidden_size, verbose = False):\n",
    "    model.eval()\n",
    "    accs = np.empty((1, 0))\n",
    "    for testset in testdata:\n",
    "        correct = 0\n",
    "        for x,y in testset:\n",
    "            hidden = torch.zeros(1, hidden_size)[0]\n",
    "            for step in x[0]:\n",
    "                hidden, y_hat = model.get_activations(step,hidden)\n",
    "            correct += sum(torch.round(y) == torch.round(y_hat)).item()/len(y)\n",
    "        acc = correct/len(testset)\n",
    "        accs = np.append(accs, [acc])\n",
    "    if verbose:\n",
    "        print('test accuracy: %f ' % (acc))\n",
    "\n",
    "    return accs\n",
    "\n",
    "def shuffle_weights(model):\n",
    "    model2 = OneStepRNN(input_size, output_size, hidden_size, num_layers)\n",
    "    mod_dict = model.state_dict()\n",
    "    shuffled_dict = {layer: shuffle_tensor(val) for layer, val in mod_dict.items()}\n",
    "    model2.load_state_dict(shuffled_dict)\n",
    "    return model2\n",
    "\n",
    "def shuffle_tensor(t):\n",
    "    idx = torch.randperm(t.nelement())\n",
    "    t = t.view(-1)[idx].view(t.size())\n",
    "    return t\n",
    "\n",
    "def run_sim(i):\n",
    "    print('########## rep ', i, '##########')\n",
    "    model = OneStepRNN(input_size, output_size, hidden_size, num_layers)\n",
    "    criterion = nn.MSELoss()\n",
    "    optimizer = torch.optim.Adam(model.parameters(), lr=learningRate)\n",
    "    loss, acc = run_acc(model,optimizer,criterion, trainset, test_sets, epochs)\n",
    "    return loss, acc\n",
    "    "
   ]
  },
  {
   "cell_type": "markdown",
   "id": "6c2efd31",
   "metadata": {},
   "source": [
    "# Load Training and Test data"
   ]
  },
  {
   "cell_type": "code",
   "execution_count": 4,
   "id": "e8848b79",
   "metadata": {},
   "outputs": [],
   "source": [
    "# Load Training and Test data\n",
    "trianpath = '../sequences/training/'\n",
    "\n",
    "#Mset\n",
    "with open(trianpath + 'Mset', 'rb') as f:\n",
    "    Mset = pickle.load(f)\n",
    "with open(trianpath + 'Mtest_combos', 'rb') as f:\n",
    "    Mtest_combos = pickle.load(f)\n",
    "with open(trianpath + 'Mtest_order', 'rb') as f:\n",
    "    Mtest_order = pickle.load(f)\n",
    "with open(trianpath + 'Mtest_init', 'rb') as f:\n",
    "    Mtest_init = pickle.load(f)\n",
    "\n",
    "# MC set\n",
    "with open(trianpath + 'MCset', 'rb') as f:\n",
    "    MCset = pickle.load(f)\n",
    "with open(trianpath + 'MCtest_order', 'rb') as f:\n",
    "    MCtest_order = pickle.load(f)\n",
    "with open(trianpath + 'MCtest_init', 'rb') as f:\n",
    "    MCtest_init = pickle.load(f)\n",
    "    \n",
    "# DC set\n",
    "with open(trianpath + 'DCset', 'rb') as f:\n",
    "    DCset = pickle.load(f)\n",
    "with open(trianpath + 'DCtest_order', 'rb') as f:\n",
    "    DCtest_order = pickle.load(f)\n",
    "with open(trianpath + 'DCtest_init', 'rb') as f:\n",
    "    DCtest_init = pickle.load(f)\n",
    "\n",
    "# F set\n",
    "with open(trianpath + 'Fset', 'rb') as f:\n",
    "    Fset = pickle.load(f)\n",
    "with open(trianpath + 'Ftest_init', 'rb') as f:\n",
    "    Ftest_init = pickle.load(f)"
   ]
  },
  {
   "cell_type": "code",
   "execution_count": 5,
   "id": "3a3b5498",
   "metadata": {},
   "outputs": [],
   "source": [
    "# convert sequences to inputs \n",
    "num_classes = 14\n",
    "batchsize=1\n",
    "\n",
    "# Mset\n",
    "train_inputs = convert_seq2inputs(Mset, num_classes=num_classes, seq_len=8)\n",
    "trainMset = DataLoader(train_inputs, batch_size=batchsize, shuffle=True)\n",
    "\n",
    "train_inputs = convert_seq2inputs(Mtest_combos, num_classes=num_classes, seq_len=8)\n",
    "trainMtest_combos = DataLoader(train_inputs, batch_size=batchsize, shuffle=True)\n",
    "\n",
    "train_inputs = convert_seq2inputs(Mtest_order, num_classes=num_classes, seq_len=8)\n",
    "trainMtest_order = DataLoader(train_inputs, batch_size=batchsize, shuffle=True)\n",
    "\n",
    "train_inputs = convert_seq2inputs(Mtest_init, num_classes=num_classes, seq_len=8)\n",
    "trainMtest_init = DataLoader(train_inputs, batch_size=batchsize, shuffle=True)\n",
    "\n",
    "# MCaset\n",
    "train_inputs = convert_seq2inputs(MCset, num_classes=num_classes, seq_len=8)\n",
    "trainMCset = DataLoader(train_inputs, batch_size=batchsize, shuffle=True)\n",
    "\n",
    "train_inputs = convert_seq2inputs(MCtest_order, num_classes=num_classes, seq_len=8)\n",
    "trainMCtest_order = DataLoader(train_inputs, batch_size=batchsize, shuffle=True)\n",
    "\n",
    "train_inputs = convert_seq2inputs(MCtest_init, num_classes=num_classes, seq_len=8)\n",
    "trainMCtest_init = DataLoader(train_inputs, batch_size=batchsize, shuffle=True)\n",
    "\n",
    "# DCaset\n",
    "train_inputs = convert_seq2inputs(DCset, num_classes=num_classes, seq_len=8)\n",
    "trainDCset = DataLoader(train_inputs, batch_size=batchsize, shuffle=True)\n",
    "\n",
    "train_inputs = convert_seq2inputs(DCtest_order, num_classes=num_classes, seq_len=8)\n",
    "trainDCtest_order = DataLoader(train_inputs, batch_size=batchsize, shuffle=True)\n",
    "\n",
    "train_inputs = convert_seq2inputs(DCtest_init, num_classes=num_classes, seq_len=8)\n",
    "trainDCtest_init = DataLoader(train_inputs, batch_size=batchsize, shuffle=True)\n",
    "\n",
    "# Fset\n",
    "train_inputs = convert_seq2inputs(Fset, num_classes=num_classes, seq_len=8)\n",
    "trainFset = DataLoader(train_inputs, batch_size=batchsize, shuffle=True)\n",
    "\n",
    "train_inputs = convert_seq2inputs(Ftest_init, num_classes=num_classes, seq_len=8)\n",
    "trainFtest_init = DataLoader(train_inputs, batch_size=batchsize, shuffle=True)\n"
   ]
  },
  {
   "cell_type": "markdown",
   "id": "af6f5059",
   "metadata": {},
   "source": [
    "# Train RNN"
   ]
  },
  {
   "cell_type": "code",
   "execution_count": 42,
   "id": "f1e2a390",
   "metadata": {},
   "outputs": [],
   "source": [
    "# specs\n",
    "input_size = num_classes\n",
    "output_size = batchsize\n",
    "hidden_size = 20\n",
    "num_layers = 1\n",
    "learningRate = 0.005\n",
    "epochs = 400\n"
   ]
  },
  {
   "cell_type": "markdown",
   "id": "86a86eb7",
   "metadata": {},
   "source": [
    "# Set M"
   ]
  },
  {
   "cell_type": "code",
   "execution_count": 8,
   "id": "e85beed0",
   "metadata": {},
   "outputs": [
    {
     "name": "stdout",
     "output_type": "stream",
     "text": [
      "time:  316.5425899028778\n"
     ]
    }
   ],
   "source": [
    "num_sims = 100\n",
    "trainset = trainMset\n",
    "test_sets = [trainMset, trainMtest_combos, trainMtest_order, trainMtest_init]\n",
    "t1 = time.time()\n",
    "res = Parallel(n_jobs = -1)(delayed(run_sim)(i) for i in range(num_sims))\n",
    "# train on 1 position\n",
    "t2 = time.time()\n",
    "print('time: ', t2-t1)\n",
    "\n",
    "losses = np.hstack([res[i][0] for i in range(len(res))])\n",
    "acc_train = np.array([res[i][1][:,0] for i in range(len(res))]).T\n",
    "acc_test_combos = np.array([res[i][1][:,1] for i in range(len(res))]).T\n",
    "acc_test_order = np.array([res[i][1][:,2] for i in range(len(res))]).T\n",
    "acc_test_init = np.array([res[i][1][:,3] for i in range(len(res))]).T"
   ]
  },
  {
   "cell_type": "code",
   "execution_count": 32,
   "id": "c713ee6d",
   "metadata": {},
   "outputs": [
    {
     "data": {
      "image/png": "[encoded data removed]",
      "text/plain": [
       "<Figure size 432x288 with 1 Axes>"
      ]
     },
     "metadata": {
      "needs_background": "light"
     },
     "output_type": "display_data"
    }
   ],
   "source": [
    "NNplt.plotNN_shifted([acc_train, acc_test_combos, acc_test_order, acc_test_init],\\\n",
    "                    labels = ['train','combo', 'order', 'init'],\\\n",
    "                    colors = ['green','orange', 'red', 'brown'],\\\n",
    "                    shift = 0)\n",
    "NNplt.plotNN_shifted([losses/1000],\\\n",
    "                    labels = ['loss'],\\\n",
    "                    colors = ['blue'],\\\n",
    "                    shift = 0)\n"
   ]
  },
  {
   "cell_type": "markdown",
   "id": "08accad8",
   "metadata": {},
   "source": [
    "# Set MC"
   ]
  },
  {
   "cell_type": "code",
   "execution_count": 52,
   "id": "2588358c",
   "metadata": {},
   "outputs": [
    {
     "name": "stdout",
     "output_type": "stream",
     "text": [
      "time:  95.1957404812177\n"
     ]
    }
   ],
   "source": [
    "epochs = 1200\n",
    "\n",
    "trainset = trainMCset\n",
    "test_sets = [trainMCset, trainMCtest_order, trainMCtest_init]\n",
    "t1 = time.time()\n",
    "res = Parallel(n_jobs = -1)(delayed(run_sim)(i) for i in range(num_sims))\n",
    "# train on 1 position\n",
    "t2 = time.time()\n",
    "print('time: ', (t2-t1)/60)\n",
    "\n",
    "losses = np.hstack([res[i][0] for i in range(len(res))])\n",
    "acc_train = np.array([res[i][1][:,0] for i in range(len(res))]).T\n",
    "acc_test_order = np.array([res[i][1][:,1] for i in range(len(res))]).T\n",
    "acc_test_init = np.array([res[i][1][:,2] for i in range(len(res))]).T"
   ]
  },
  {
   "cell_type": "code",
   "execution_count": 34,
   "id": "98a821ac",
   "metadata": {},
   "outputs": [],
   "source": []
  },
  {
   "cell_type": "code",
   "execution_count": 53,
   "id": "44b4171d",
   "metadata": {},
   "outputs": [
    {
     "data": {
      "image/png": "[encoded data removed]",
      "text/plain": [
       "<Figure size 432x288 with 1 Axes>"
      ]
     },
     "metadata": {
      "needs_background": "light"
     },
     "output_type": "display_data"
    }
   ],
   "source": [
    "NNplt.plotNN_shifted([acc_train, acc_test_order, acc_test_init],\\\n",
    "                    labels = ['train', 'order', 'init'],\\\n",
    "                    colors = ['green','orange', 'red'],\\\n",
    "                    shift = 0)\n",
    "NNplt.plotNN_shifted([losses/(losses.max()*0.6)],\\\n",
    "                    labels = ['loss'],\\\n",
    "                    colors = ['blue'],\\\n",
    "                    shift = 0)\n"
   ]
  },
  {
   "cell_type": "markdown",
   "id": "defe7a4e",
   "metadata": {},
   "source": [
    "# Set DC"
   ]
  },
  {
   "cell_type": "code",
   "execution_count": 54,
   "id": "a8aaa5d2",
   "metadata": {},
   "outputs": [
    {
     "name": "stdout",
     "output_type": "stream",
     "text": [
      "time:  119.48236916462581\n"
     ]
    }
   ],
   "source": [
    "epochs = 1200\n",
    "\n",
    "trainset = trainDCset\n",
    "test_sets = [trainDCset, trainDCtest_order, trainDCtest_init]\n",
    "t1 = time.time()\n",
    "Dres = Parallel(n_jobs = -1)(delayed(run_sim)(i) for i in range(num_sims))\n",
    "# train on 1 position\n",
    "t2 = time.time()\n",
    "print('time: ', (t2-t1)/60)\n",
    "\n",
    "Dlosses = np.hstack([Dres[i][0] for i in range(len(res))])\n",
    "Dacc_train = np.array([Dres[i][1][:,0] for i in range(len(res))]).T\n",
    "Dacc_test_order = np.array([Dres[i][1][:,1] for i in range(len(res))]).T\n",
    "Dacc_test_init = np.array([Dres[i][1][:,2] for i in range(len(res))]).T"
   ]
  },
  {
   "cell_type": "code",
   "execution_count": null,
   "id": "690d39b4",
   "metadata": {},
   "outputs": [],
   "source": []
  },
  {
   "cell_type": "code",
   "execution_count": null,
   "id": "99d42387",
   "metadata": {},
   "outputs": [],
   "source": []
  },
  {
   "cell_type": "code",
   "execution_count": null,
   "id": "9ac36127",
   "metadata": {},
   "outputs": [],
   "source": []
  },
  {
   "cell_type": "code",
   "execution_count": null,
   "id": "7c39baa6",
   "metadata": {},
   "outputs": [],
   "source": []
  },
  {
   "cell_type": "markdown",
   "id": "007eac69",
   "metadata": {},
   "source": [
    "# Set F"
   ]
  },
  {
   "cell_type": "code",
   "execution_count": null,
   "id": "4eb6fbcc",
   "metadata": {},
   "outputs": [],
   "source": [
    "epochs = 1200\n",
    "\n",
    "trainset = trainFset\n",
    "test_sets = [trainFset, trainFtest_init]\n",
    "t1 = time.time()\n",
    "Fres = Parallel(n_jobs = -1)(delayed(run_sim)(i) for i in range(num_sims))\n",
    "# train on 1 position\n",
    "t2 = time.time()\n",
    "print('time: ', (t2-t1)/60)\n",
    "\n",
    "Flosses = np.hstack([Fres[i][0] for i in range(len(res))])\n",
    "Facc_train = np.array([Fres[i][1][:,0] for i in range(len(res))]).T\n",
    "Facc_test_order = np.array([Fres[i][1][:,1] for i in range(len(res))]).T\n",
    "Facc_test_init = np.array([Fres[i][1][:,2] for i in range(len(res))]).T"
   ]
  },
  {
   "cell_type": "code",
   "execution_count": null,
   "id": "f0324e92",
   "metadata": {},
   "outputs": [],
   "source": []
  },
  {
   "cell_type": "code",
   "execution_count": null,
   "id": "e5a6c118",
   "metadata": {},
   "outputs": [],
   "source": []
  },
  {
   "cell_type": "code",
   "execution_count": null,
   "id": "e7cb76a8",
   "metadata": {},
   "outputs": [],
   "source": []
  }
 ],
 "metadata": {
  "kernelspec": {
   "display_name": "Python 3",
   "language": "python",
   "name": "python3"
  },
  "language_info": {
   "codemirror_mode": {
    "name": "ipython",
    "version": 3
   },
   "file_extension": ".py",
   "mimetype": "text/x-python",
   "name": "python",
   "nbconvert_exporter": "python",
   "pygments_lexer": "ipython3",
   "version": "3.8.8"
  }
 },
 "nbformat": 4,
 "nbformat_minor": 5
}
