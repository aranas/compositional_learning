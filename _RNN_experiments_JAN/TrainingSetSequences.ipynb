{
 "cells": [
  {
   "cell_type": "code",
   "execution_count": 1,
   "id": "3a93b6c8",
   "metadata": {},
   "outputs": [],
   "source": [
    "import itertools\n",
    "import copy\n",
    "import collections\n",
    "import numpy as np\n",
    "from numpy.random import default_rng\n",
    "import matplotlib.pyplot as plt\n",
    "import torch\n",
    "from torch.utils.data import Dataset, DataLoader, random_split\n",
    "import torch.nn as nn\n",
    "import pickle\n",
    "import random\n",
    "from sklearn.model_selection import train_test_split"
   ]
  },
  {
   "cell_type": "code",
   "execution_count": 20,
   "id": "40505163",
   "metadata": {},
   "outputs": [],
   "source": [
    "ops = ['+', '*', '-']\n",
    "inputs = ['A', 'B', 'C', 'D']\n",
    "nsteps = 1"
   ]
  },
  {
   "cell_type": "code",
   "execution_count": 9,
   "id": "92576960",
   "metadata": {},
   "outputs": [
    {
     "data": {
      "text/plain": [
       "[('A', 'B'), ('A', 'C'), ('A', 'D'), ('B', 'C'), ('B', 'D'), ('C', 'D')]"
      ]
     },
     "execution_count": 9,
     "metadata": {},
     "output_type": "execute_result"
    }
   ],
   "source": [
    "list(itertools.combinations(inputs, 2))"
   ]
  },
  {
   "cell_type": "code",
   "execution_count": 28,
   "id": "4facefe8",
   "metadata": {},
   "outputs": [],
   "source": [
    "# MC/DC\n",
    "\n",
    "inp_op_pairs = []\n",
    "for op in ops:\n",
    "    for inp in inputs:\n",
    "        inp_op_pairs.append((op, inp))\n",
    "\n",
    "inits = inputs*3\n",
    "random.shuffle(inits)\n",
    "\n",
    "setMC = []\n",
    "for i in range(len(inits)):\n",
    "    trial = [inits[i]]\n",
    "    trial.append(inp_op_pairs[i])\n",
    "    setMC.append(trial)\n",
    "    \n",
    "inits = inputs*6\n",
    "random.shuffle(inits)\n",
    "\n",
    "setDC = []\n",
    "for i in range(len(inits)):\n",
    "    trial = [inits[i]]\n",
    "    trial.append(inp_op_pairs[i])\n",
    "    setDC.append(trial)\n",
    "    \n",
    "setM = [['A', ('+', 'B')],\\\n",
    "        ['C', ('*', 'D')],\\\n",
    "        ['D', ('-', 'A')]]\n"
   ]
  },
  {
   "cell_type": "code",
   "execution_count": null,
   "id": "5101a71c",
   "metadata": {},
   "outputs": [],
   "source": []
  },
  {
   "cell_type": "code",
   "execution_count": null,
   "id": "ffaa15d3",
   "metadata": {},
   "outputs": [],
   "source": []
  }
 ],
 "metadata": {
  "kernelspec": {
   "display_name": "Python 3 (ipykernel)",
   "language": "python",
   "name": "python3"
  },
  "language_info": {
   "codemirror_mode": {
    "name": "ipython",
    "version": 3
   },
   "file_extension": ".py",
   "mimetype": "text/x-python",
   "name": "python",
   "nbconvert_exporter": "python",
   "pygments_lexer": "ipython3",
   "version": "3.8.15"
  }
 },
 "nbformat": 4,
 "nbformat_minor": 5
}
