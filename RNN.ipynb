{
 "cells": [
  {
   "cell_type": "code",
   "execution_count": 1,
   "id": "27ffbcc7",
   "metadata": {},
   "outputs": [],
   "source": [
    "import random"
   ]
  },
  {
   "cell_type": "code",
   "execution_count": 2,
   "id": "581ab877",
   "metadata": {},
   "outputs": [],
   "source": [
    "mygals = ['Mia', 'megan', 'laila', 'sophia', 'kiera', 'aisha']"
   ]
  },
  {
   "cell_type": "code",
   "execution_count": 5,
   "id": "dda0ce3c",
   "metadata": {},
   "outputs": [],
   "source": [
    "random.shuffle(mygals)"
   ]
  },
  {
   "cell_type": "code",
   "execution_count": 6,
   "id": "28bf2819",
   "metadata": {},
   "outputs": [
    {
     "data": {
      "text/plain": [
       "['sophia', 'Mia', 'aisha', 'kiera', 'laila', 'megan']"
      ]
     },
     "execution_count": 6,
     "metadata": {},
     "output_type": "execute_result"
    }
   ],
   "source": [
    "mygals"
   ]
  },
  {
   "cell_type": "code",
   "execution_count": null,
   "id": "4bf7899a",
   "metadata": {},
   "outputs": [],
   "source": []
  }
 ],
 "metadata": {
  "kernelspec": {
   "display_name": "Python 3",
   "language": "python",
   "name": "python3"
  },
  "language_info": {
   "codemirror_mode": {
    "name": "ipython",
    "version": 3
   },
   "file_extension": ".py",
   "mimetype": "text/x-python",
   "name": "python",
   "nbconvert_exporter": "python",
   "pygments_lexer": "ipython3",
   "version": "3.8.8"
  }
 },
 "nbformat": 4,
 "nbformat_minor": 5
}
