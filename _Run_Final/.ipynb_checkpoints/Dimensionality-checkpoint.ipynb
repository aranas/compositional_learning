{
 "cells": [
  {
   "cell_type": "markdown",
   "id": "7eb5366f",
   "metadata": {},
   "source": [
    " \"\"\" Compares dimensionality of representations by comparing variance explained by PC1 vs. PC2 for each regime\"\"\""
   ]
  },
  {
   "cell_type": "code",
   "execution_count": 1,
   "id": "aca7fc02",
   "metadata": {},
   "outputs": [],
   "source": [
    "import itertools\n",
    "import copy\n",
    "import numpy as np\n",
    "import matplotlib.pyplot as plt\n",
    "import torch\n",
    "from torch.utils.data import Dataset, DataLoader, random_split\n",
    "import torch.nn as nn\n",
    "import pickle\n",
    "import random\n",
    "from sklearn.model_selection import train_test_split\n",
    "import time\n",
    "from joblib import Parallel, delayed\n",
    "import pandas as pd\n",
    "import sys\n",
    "import os\n",
    "import seaborn as sns \n",
    "from sklearn.metrics import r2_score\n",
    "import math\n",
    "import matplotlib as mpl\n",
    "from tqdm import tqdm\n",
    "from matplotlib.lines import Line2D\n",
    "from sklearn.decomposition import PCA\n",
    "import statannot\n",
    "from statannotations.Annotator import Annotator\n",
    "\n",
    "from cryptic_rnn import *"
   ]
  },
  {
   "cell_type": "code",
   "execution_count": 2,
   "id": "25899406",
   "metadata": {},
   "outputs": [
    {
     "name": "stdout",
     "output_type": "stream",
     "text": [
      "cue_dict  {'A': 11, 'B': 7, 'C': 10, 'D': 16}\n",
      "primitives  [[('+', 'A'), '=', 11], [('+', 'B'), '=', 7], [('+', 'C'), '=', 10], [('+', 'D'), '=', 16]]\n",
      "trainseqs  [[('+', 'A'), ('+', 'B'), '=', 18], [('+', 'B'), ('+', 'C'), '=', 17], [('+', 'C'), ('+', 'A'), '=', 21]]\n",
      "trainseqs_b  [[('+', 'A'), ('+', 'B'), '=', 18], [('+', 'B'), ('+', 'C'), '=', 17], [('+', 'C'), ('+', 'A'), '=', 21], [('+', 'A'), ('+', 'C'), '=', 21], [('+', 'B'), ('+', 'D'), '=', 23]]\n",
      "trainseqs_p  [[('+', 'A'), ('+', 'B'), '=', 18], [('+', 'B'), ('+', 'C'), '=', 17], [('+', 'C'), ('+', 'A'), '=', 21], [('+', 'A'), '=', 11], [('+', 'B'), '=', 7], [('+', 'C'), '=', 10], [('+', 'D'), '=', 16]]\n",
      "trainseqs_bp  [[('+', 'A'), ('+', 'B'), '=', 18], [('+', 'B'), ('+', 'C'), '=', 17], [('+', 'C'), ('+', 'A'), '=', 21], [('+', 'A'), ('+', 'C'), '=', 21], [('+', 'B'), ('+', 'D'), '=', 23], [('+', 'A'), '=', 11], [('+', 'B'), '=', 7], [('+', 'C'), '=', 10], [('+', 'D'), '=', 16]]\n",
      "testseqs  [[('+', 'A'), ('+', 'A'), '=', 22], [('+', 'A'), ('+', 'D'), '=', 27], [('+', 'B'), ('+', 'A'), '=', 18], [('+', 'B'), ('+', 'B'), '=', 14], [('+', 'C'), ('+', 'B'), '=', 17], [('+', 'C'), ('+', 'C'), '=', 20], [('+', 'C'), ('+', 'D'), '=', 26], [('+', 'D'), ('+', 'A'), '=', 27], [('+', 'D'), ('+', 'B'), '=', 23], [('+', 'D'), ('+', 'C'), '=', 26], [('+', 'D'), ('+', 'D'), '=', 32]]\n"
     ]
    }
   ],
   "source": [
    "# color scheme\n",
    "bp_colors = ['#00A7E1', '#F17720']\n",
    "bp_pal = {'Balanced': '#00A7E1', 'Primitives':'#F17720'}\n",
    "\n",
    "# data\n",
    "num_classes = 22\n",
    "batchsize=1\n",
    "\n",
    "# RNN specs\n",
    "input_size = num_classes\n",
    "hidden_size = 20\n",
    "\n",
    "# Sequences\n",
    "ops = '+'\n",
    "\n",
    "num_inputs = 4\n",
    "total_syms = ['A','B', 'C', 'D', 'E', 'F', 'G', 'H', 'I', 'J', 'K', 'L', 'M', 'N', 'O', 'P']\n",
    "all_syms = total_syms[:num_inputs]\n",
    "all_input_vals = list(np.arange(2,18))\n",
    "input_vals = random.sample(all_input_vals,num_inputs)\n",
    "# randomly select values for each input\n",
    "cue_dict = {}\n",
    "for i, s in enumerate(all_syms):\n",
    "    cue_dict[s] = input_vals[i]\n",
    "    \n",
    "print('cue_dict ',cue_dict)\n",
    "primitives = generate_pos_primitives(all_syms, cue_dict)\n",
    "print('primitives ',primitives)\n",
    "\n",
    "trainseqs = generate_pos_other(ops, all_syms[:-1], cue_dict)\n",
    "trainseqs_b = generate_pos_other(ops, all_syms[:-1], cue_dict) + generate_balanced_primitives(ops, all_syms, cue_dict)\n",
    "trainseqs_p = trainseqs + primitives\n",
    "trainseqs_bp = trainseqs_b + primitives\n",
    "\n",
    "print('trainseqs ',trainseqs)\n",
    "print('trainseqs_b ',trainseqs_b)\n",
    "print('trainseqs_p ',trainseqs_p)\n",
    "print('trainseqs_bp ',trainseqs_bp)\n",
    "\n",
    "testseqs_all = generate_pos_trials(ops, all_syms, all_syms, cue_dict)\n",
    "testseqs = [seq for seq in testseqs_all if seq not in trainseqs_b]\n",
    "valset_idx = [idx for idx, seq in enumerate(testseqs_all) if seq not in trainseqs_b]\n",
    "\n",
    "print('testseqs ', testseqs )"
   ]
  },
  {
   "cell_type": "code",
   "execution_count": 6,
   "id": "e49b6666",
   "metadata": {},
   "outputs": [],
   "source": [
    "## read data \n",
    "save_dir = '../results/train_2seqs/res_20_lazy'\n",
    "with open(save_dir, 'rb') as f:\n",
    "    res1 = pickle.load(f)\n",
    "    \n",
    "full_rdmats = calculate_RDMs(res1, testseqs_all, hidden_size=20)\n",
    "dms_p = full_rdmats['rdms_p']\n",
    "dms_b = full_rdmats['rdms_b']\n",
    "ft_cue_dicts =  full_rdmats['cue_dicts']"
   ]
  },
  {
   "cell_type": "markdown",
   "id": "b574919f",
   "metadata": {},
   "source": [
    "# PCA variance explained\n",
    "\n",
    "Step = 2\n",
    "\n",
    "For each regime\\\n",
    "   For each RNN\\\n",
    "       fit PCA\\\n",
    "       variance explained by PC1\\\n",
    "       variance explained by pc2\n",
    "       \n",
    "scatter/density plot of density for each model in each regime for PC1\n",
    "       "
   ]
  },
  {
   "cell_type": "code",
   "execution_count": 221,
   "id": "86ab3aa0",
   "metadata": {},
   "outputs": [],
   "source": [
    "t = 2\n",
    "\n",
    "regimes = [dms_b[t], dms_p[t]]\n",
    "pc1_vals = []\n",
    "pc2_vals = []\n",
    "pc3_vals = []\n",
    "for regime in regimes:\n",
    "    pc1 = []\n",
    "    pc2 = []\n",
    "    pc3 = []\n",
    "    for mat in regime:\n",
    "        pca = PCA(n_components=3)\n",
    "        pca_fit = pca.fit_transform(mat)\n",
    "        pc1.append(pca.explained_variance_ratio_[0])\n",
    "        pc2.append(pca.explained_variance_ratio_[1])\n",
    "        pc3.append(pca.explained_variance_ratio_[2])\n",
    "    pc1_vals.append(pc1)\n",
    "    pc2_vals.append(pc2)\n",
    "    pc3_vals.append(pc3)\n",
    "    \n",
    "    "
   ]
  },
  {
   "cell_type": "code",
   "execution_count": 222,
   "id": "4687960d",
   "metadata": {},
   "outputs": [
    {
     "data": {
      "text/plain": [
       "(2, 800)"
      ]
     },
     "execution_count": 222,
     "metadata": {},
     "output_type": "execute_result"
    }
   ],
   "source": [
    "np.array(pc2_vals).shape"
   ]
  },
  {
   "cell_type": "code",
   "execution_count": 223,
   "id": "414100da",
   "metadata": {},
   "outputs": [
    {
     "data": {
      "text/plain": [
       "array([0.80224784, 0.75429783])"
      ]
     },
     "execution_count": 223,
     "metadata": {},
     "output_type": "execute_result"
    }
   ],
   "source": [
    "np.array(pc1_vals).mean(axis=1)"
   ]
  },
  {
   "cell_type": "code",
   "execution_count": 224,
   "id": "917265d6",
   "metadata": {},
   "outputs": [
    {
     "data": {
      "text/plain": [
       "array([0.17748793, 0.21079451])"
      ]
     },
     "execution_count": 224,
     "metadata": {},
     "output_type": "execute_result"
    }
   ],
   "source": [
    "np.array(pc2_vals).mean(axis=1)"
   ]
  },
  {
   "cell_type": "code",
   "execution_count": 225,
   "id": "f3384faa",
   "metadata": {},
   "outputs": [
    {
     "data": {
      "text/plain": [
       "array([0.01053116, 0.01797647])"
      ]
     },
     "execution_count": 225,
     "metadata": {},
     "output_type": "execute_result"
    }
   ],
   "source": [
    "np.array(pc3_vals).mean(axis=1)"
   ]
  },
  {
   "cell_type": "code",
   "execution_count": 226,
   "id": "80bf570d",
   "metadata": {},
   "outputs": [
    {
     "data": {
      "text/plain": [
       "WilcoxonResult(statistic=112058.0, pvalue=1.7941085219317228e-13)"
      ]
     },
     "execution_count": 226,
     "metadata": {},
     "output_type": "execute_result"
    }
   ],
   "source": [
    "scipy.stats.wilcoxon(np.array(pc1_vals)[0,:], np.array(pc1_vals)[1,:])"
   ]
  },
  {
   "cell_type": "markdown",
   "id": "d1ff16ff",
   "metadata": {},
   "source": [
    "# Plot"
   ]
  },
  {
   "cell_type": "code",
   "execution_count": 227,
   "id": "bd12445d",
   "metadata": {},
   "outputs": [],
   "source": [
    "N = len(dms_p[0])\n",
    "\n",
    "pc1_all = [pc for sublist in pc1_vals for pc in sublist]\n",
    "pc2_all = [pc for sublist in pc2_vals for pc in sublist]\n",
    "pc3_all = [pc for sublist in pc3_vals for pc in sublist]\n",
    "\n",
    "regime_names = (['Balanced']*N + ['Primitives']*N )*3\n",
    "all_PCs = pc1_all + pc2_all + pc3_all\n",
    "pc_number = ['PC1']*len(pc1_all) + ['PC2']*len(pc2_all) + ['PC3']*len(pc3_all)\n",
    "\n",
    "pca_df = pd.DataFrame({'Regime': regime_names, 'PC': pc_number,'Variance explained': all_PCs}) \n",
    "#xpos = np.repeat([0,1,2], N) + np.random.normal(0, 0.05, N*3)"
   ]
  },
  {
   "cell_type": "code",
   "execution_count": 228,
   "id": "87f00512",
   "metadata": {},
   "outputs": [
    {
     "name": "stdout",
     "output_type": "stream",
     "text": [
      "p-value annotation legend:\n",
      "      ns: p <= 1.00e+00\n",
      "       *: 1.00e-02 < p <= 5.00e-02\n",
      "      **: 1.00e-03 < p <= 1.00e-02\n",
      "     ***: 1.00e-04 < p <= 1.00e-03\n",
      "    ****: p <= 1.00e-04\n",
      "\n",
      "PC2_Balanced vs. PC2_Primitives: Wilcoxon test (paired samples), P_val:2.235e-09 Stat=1.211e+05\n",
      "PC1_Balanced vs. PC1_Primitives: Wilcoxon test (paired samples), P_val:1.794e-13 Stat=1.121e+05\n",
      "PC3_Balanced vs. PC3_Primitives: Wilcoxon test (paired samples), P_val:1.343e-81 Stat=3.511e+04\n"
     ]
    },
    {
     "data": {
      "text/plain": [
       "Text(0.5, 1.02, 'Variance explained by each principle component')"
      ]
     },
     "execution_count": 228,
     "metadata": {},
     "output_type": "execute_result"
    },
    {
     "data": {
      "image/png": "[encoded data removed]",
      "text/plain": [
       "<Figure size 640x480 with 1 Axes>"
      ]
     },
     "metadata": {},
     "output_type": "display_data"
    }
   ],
   "source": [
    "fig, ax = plt.subplots()\n",
    "sns.barplot(pca_df, x = 'PC', y = 'Variance explained', hue='Regime' , palette=bp_pal, capsize=0.05, errwidth=2)\n",
    "pairs = [(('PC1', 'Balanced'), ('PC1', 'Primitives')),\n",
    "         (('PC2', 'Balanced'), ('PC2', 'Primitives')),\n",
    "         (('PC3', 'Balanced'), ('PC3', 'Primitives'))]\n",
    "x = 'PC'\n",
    "y = 'Variance explained'\n",
    "hue='Regime'\n",
    "annotator = Annotator(ax, pairs, data=pca_df, x=x, y=y, hue=hue)\n",
    "annotator.configure(test='Wilcoxon', text_format='star', loc='outside')\n",
    "annotator.apply_and_annotate()\n",
    "\n",
    "ax.set_ylabel('Explained Variance Ratio')\n",
    "ax.set_xlabel('Principle Component')\n",
    "plt.suptitle('Variance explained by each principle component', y=1.02)"
   ]
  },
  {
   "cell_type": "code",
   "execution_count": null,
   "id": "7ec5ecaa",
   "metadata": {},
   "outputs": [],
   "source": []
  },
  {
   "cell_type": "code",
   "execution_count": null,
   "id": "c1a23f87",
   "metadata": {},
   "outputs": [],
   "source": []
  }
 ],
 "metadata": {
  "kernelspec": {
   "display_name": "Python 3 (ipykernel)",
   "language": "python",
   "name": "python3"
  },
  "language_info": {
   "codemirror_mode": {
    "name": "ipython",
    "version": 3
   },
   "file_extension": ".py",
   "mimetype": "text/x-python",
   "name": "python",
   "nbconvert_exporter": "python",
   "pygments_lexer": "ipython3",
   "version": "3.8.8"
  }
 },
 "nbformat": 4,
 "nbformat_minor": 5
}
