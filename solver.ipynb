{
 "cells": [
  {
   "cell_type": "code",
   "execution_count": 1,
   "id": "d7a7e6b1",
   "metadata": {},
   "outputs": [
    {
     "data": {
      "text/plain": [
       "' Solver. \\nTakes trials and infers value of symbols.\\n'"
      ]
     },
     "execution_count": 1,
     "metadata": {},
     "output_type": "execute_result"
    }
   ],
   "source": [
    "\"\"\" Solver. \n",
    "Takes trials and infers value of symbols.\n",
    "\"\"\""
   ]
  },
  {
   "cell_type": "code",
   "execution_count": 2,
   "id": "26519a23",
   "metadata": {},
   "outputs": [],
   "source": [
    "import numpy as np\n",
    "import random\n",
    "from functions.rnn_cryptic import generate_sequences, convert_seq2inputs,\\\n",
    "                                  pad_seqs_2step, pad_seqs_1step, calculate_output, onehot2seq \n"
   ]
  },
  {
   "cell_type": "code",
   "execution_count": 3,
   "id": "3e983f19",
   "metadata": {},
   "outputs": [],
   "source": [
    "def seq2str(seqs):\n",
    "    A = []\n",
    "    B = []\n",
    "    for seq in seqs:\n",
    "        a = ''\n",
    "        for elem in seq:\n",
    "            if type(elem) is str:\n",
    "                a+= elem\n",
    "            elif type(elem) is tuple:\n",
    "                for el in elem:\n",
    "                    a+=el\n",
    "            else:\n",
    "                B.append(elem)\n",
    "        A.append(a)\n",
    "            \n",
    "    return A, B\n",
    "\n",
    "def coef_mat(trials, rows, cols, unique_chars):\n",
    "    res = np.zeros([rows, cols])\n",
    "    for i, t in enumerate(trials):\n",
    "        op = 1\n",
    "        for e in t:\n",
    "            if e == '+':\n",
    "                op = 1\n",
    "            elif e == '-':\n",
    "                op = -1\n",
    "            else:\n",
    "                res[i, unique_chars.index(e)] += op*1\n",
    "    return res\n",
    "\n",
    "# def get_mats(seqs):\n",
    "    \n",
    "#     trials, ans = seq2str(seqs)\n",
    "#     tot_chars = ''.join(ch for ch in ''.join(trials) if ch.isalnum())\n",
    "#     unique_chars = list(set(tot_chars))\n",
    "#     rows = len(seqs)\n",
    "#     cols = len(unique_chars)\n",
    "#     res = coef_mat(trials, rows, cols, unique_chars)\n",
    "    \n",
    "#     return res, ans\n",
    "\n",
    "def get_rank(seqs):\n",
    "    \n",
    "    trials, ans = seq2str(seqs)\n",
    "    tot_chars = ''.join(ch for ch in ''.join(trials) if ch.isalnum())\n",
    "    unique_chars = list(set(tot_chars))\n",
    "    rows = len(seqs)\n",
    "    cols = len(unique_chars)\n",
    "    res = coef_mat(trials, rows, cols, unique_chars)\n",
    "    \n",
    "    rank = np.linalg.matrix_rank(res)\n",
    "    print('rank is: ', rank, ' no. unknowns is: ', cols)\n",
    "    if rank == cols:\n",
    "        print('matrix is determined\\n')\n",
    "        out = 1\n",
    "    elif rank < cols:\n",
    "        print('matrix is underdetermined\\n')\n",
    "        out = 0\n",
    "    return out\n",
    "\n",
    "def change_padder(seqs, cue_dict, xval):\n",
    "    \"\"\" changes value of X from zero to a new value\n",
    "        and recalculates sequence output\"\"\"\n",
    "    cue_dict['X'] = xval\n",
    "    inps = [s[:-1] for s in seqs]\n",
    "    for inp in inps:\n",
    "        inp.append(calculate_output(inp, cue_dict, bidmas = False))\n",
    "\n",
    "    return inps, cue_dict\n",
    "\n",
    "          "
   ]
  },
  {
   "cell_type": "code",
   "execution_count": 4,
   "id": "39edd10c",
   "metadata": {},
   "outputs": [],
   "source": [
    "num_inputs = 2\n",
    "\n",
    "###############################\n",
    "total_syms = ['X','A','B', 'C', 'D', 'E', 'F', 'G', 'H', 'I', 'J', 'K', 'L', 'M', 'N', 'O', 'P']\n",
    "all_syms = total_syms[:num_inputs]\n",
    "all_input_vals = list(np.arange(2,18))\n",
    "input_vals = random.sample(all_input_vals,num_inputs)\n",
    "# randomly select values for each input\n",
    "cue_dict = {}\n",
    "for i, s in enumerate(all_syms):\n",
    "    cue_dict[s] = input_vals[i]\n",
    "\n",
    "# generate trials\n",
    "p_add = pad_seqs_1step(all_syms, cue_dict)\n",
    "p_sub = pad_seqs_1step(all_syms, cue_dict, padder=('-','X'))\n",
    "train_sims = all_syms[:-1]\n",
    "trainseqs_add = generate_sequences(['+'], train_sims, len_seq = 2, cue_dict = cue_dict, init_values = train_sims)\n",
    "testseqs_add = generate_sequences(['+'], all_syms, len_seq = 2, cue_dict = cue_dict, init_values = all_syms)\n",
    "trainseqs_sub = generate_sequences(['-'], train_sims, len_seq = 2, cue_dict = cue_dict, init_values = train_sims)\n",
    "testseqs_sub = generate_sequences(['-'], all_syms, len_seq = 2, cue_dict = cue_dict, init_values = all_syms)\n",
    "\n",
    "# remove any trian trials from test set\n",
    "for val in trainseqs_add:\n",
    "    if val in testseqs_add:\n",
    "        testseqs_add.remove(val)\n",
    "for val in trainseqs_sub:\n",
    "    if val in testseqs_sub:\n",
    "        testseqs_sub.remove(val)\n",
    "\n",
    "# randomly select a test trial to train non_primitive on\n",
    "rand_trials = random.sample(testseqs_add, 2)\n",
    "trainseqs_add_np = trainseqs_add + rand_trials\n",
    "for v in rand_trials:\n",
    "    testseqs_add.remove(v)\n",
    "rand_trials = random.sample(testseqs_sub, 2)\n",
    "trainseqs_sub_np = trainseqs_sub + rand_trials\n",
    "for v in rand_trials:\n",
    "    testseqs_sub.remove(v)\n"
   ]
  },
  {
   "cell_type": "code",
   "execution_count": 5,
   "id": "17c38178",
   "metadata": {},
   "outputs": [
    {
     "data": {
      "text/plain": [
       "{'X': 2, 'A': 15}"
      ]
     },
     "execution_count": 5,
     "metadata": {},
     "output_type": "execute_result"
    }
   ],
   "source": [
    "cue_dict"
   ]
  },
  {
   "cell_type": "code",
   "execution_count": 6,
   "id": "b4646ccd",
   "metadata": {},
   "outputs": [
    {
     "name": "stdout",
     "output_type": "stream",
     "text": [
      "rank is:  2  no. unknowns is:  2\n",
      "matrix is determined\n",
      "\n"
     ]
    },
    {
     "data": {
      "text/plain": [
       "1"
      ]
     },
     "execution_count": 6,
     "metadata": {},
     "output_type": "execute_result"
    }
   ],
   "source": [
    "get_rank(trainseqs_add + p_add)"
   ]
  },
  {
   "cell_type": "code",
   "execution_count": 7,
   "id": "710cca3e",
   "metadata": {},
   "outputs": [
    {
     "name": "stdout",
     "output_type": "stream",
     "text": [
      "primitive training subtraction, with no. symbols =  2\n",
      "rank is:  2  no. unknowns is:  2\n",
      "matrix is determined\n",
      "\n",
      "primitive training addition, with no. symbols =  2\n",
      "rank is:  2  no. unknowns is:  2\n",
      "matrix is determined\n",
      "\n",
      "without primitive training subtraction, with no. symbols =  2\n",
      "rank is:  2  no. unknowns is:  2\n",
      "matrix is determined\n",
      "\n",
      "without primitive training addition, with no. symbols =  2\n",
      "rank is:  2  no. unknowns is:  2\n",
      "matrix is determined\n",
      "\n"
     ]
    },
    {
     "data": {
      "text/plain": [
       "1"
      ]
     },
     "execution_count": 7,
     "metadata": {},
     "output_type": "execute_result"
    }
   ],
   "source": [
    "print('primitive training subtraction, with no. symbols = ', num_inputs)\n",
    "get_rank(pad_seqs_2step(trainseqs_sub, padder=('-','X')) + p_sub)\n",
    "\n",
    "print('primitive training addition, with no. symbols = ', num_inputs)\n",
    "get_rank(pad_seqs_2step(trainseqs_add, padder=('+','X')) + p_sub)\n",
    "\n",
    "print('without primitive training subtraction, with no. symbols = ', num_inputs)\n",
    "get_rank(pad_seqs_2step(trainseqs_sub_np, padder=('-','X')))\n",
    "\n",
    "print('without primitive training addition, with no. symbols = ', num_inputs)\n",
    "get_rank(pad_seqs_2step(trainseqs_add_np, padder=('+','X')))"
   ]
  },
  {
   "cell_type": "code",
   "execution_count": null,
   "id": "bb10ae68",
   "metadata": {},
   "outputs": [],
   "source": []
  }
 ],
 "metadata": {
  "kernelspec": {
   "display_name": "Python 3 (ipykernel)",
   "language": "python",
   "name": "python3"
  },
  "language_info": {
   "codemirror_mode": {
    "name": "ipython",
    "version": 3
   },
   "file_extension": ".py",
   "mimetype": "text/x-python",
   "name": "python",
   "nbconvert_exporter": "python",
   "pygments_lexer": "ipython3",
   "version": "3.8.8"
  }
 },
 "nbformat": 4,
 "nbformat_minor": 5
}
